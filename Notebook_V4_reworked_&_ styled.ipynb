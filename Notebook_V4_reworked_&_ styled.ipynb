{
 "cells": [
  {
   "cell_type": "markdown",
   "id": "12aaa708-af2a-48c6-b2b6-c40b4c828d8b",
   "metadata": {},
   "source": [
    "# **Mini-Projet: Prédiction du Revenu Annuel des Marocains**"
   ]
  },
  {
   "cell_type": "markdown",
   "id": "71ce72f0-20b8-4db5-8f09-924e6984715f",
   "metadata": {},
   "source": [
    "<div style=\"background-color: #f0f8ff; padding: 15px; border-radius: 10px; border-left: 5px solid #4682b4;\"> <h2 style=\"color: #4682b4;\">🎯 Objectif du projet</h2> <p>L'objectif de ce projet est de simuler et analyser les <strong>revenus des citoyens marocains</strong> à partir de données <strong>socio-démographiques réalistes</strong> en respectant les statistiques du <strong>HCP (Haut-Commissariat au Plan)</strong>. Le projet inclut la génération de données synthétiques, leur nettoyage, puis l'application d'un modèle de Machine Learning pour <strong>prédire</strong> le revenu.</p> </div>"
   ]
  },
  {
   "cell_type": "code",
   "execution_count": 1,
   "id": "ce19d6e9-b618-4df4-a395-82ba0216f3f5",
   "metadata": {},
   "outputs": [
    {
     "name": "stdout",
     "output_type": "stream",
     "text": [
      "Bibliothèques importées avec succès!\n"
     ]
    }
   ],
   "source": [
    "# Importation des bibliothèques nécessaires\n",
    "import pandas as pd\n",
    "import numpy as np\n",
    "import matplotlib.pyplot as plt\n",
    "import seaborn as sns\n",
    "from sklearn.model_selection import train_test_split, GridSearchCV, RandomizedSearchCV, cross_val_score\n",
    "from sklearn.pipeline import Pipeline, make_pipeline\n",
    "from sklearn.impute import SimpleImputer\n",
    "from sklearn.preprocessing import StandardScaler, OneHotEncoder, LabelEncoder\n",
    "from sklearn.feature_selection import SelectKBest, f_regression\n",
    "from sklearn.compose import ColumnTransformer\n",
    "from sklearn.linear_model import LinearRegression\n",
    "from sklearn.tree import DecisionTreeRegressor\n",
    "from sklearn.ensemble import RandomForestRegressor, GradientBoostingRegressor, IsolationForest\n",
    "from sklearn.neural_network import MLPRegressor\n",
    "from sklearn.metrics import mean_absolute_error, mean_squared_error, r2_score\n",
    "from sklearn.model_selection import cross_val_predict\n",
    "from sklearn.model_selection import KFold\n",
    "import joblib\n",
    "import warnings\n",
    "warnings.filterwarnings('ignore')\n",
    "print(\"Bibliothèques importées avec succès!\")"
   ]
  },
  {
   "cell_type": "markdown",
   "id": "57385729-86c9-4579-a2c0-eb886273284d",
   "metadata": {},
   "source": [
    "# Configuration pour l'affichage des graphiques"
   ]
  },
  {
   "cell_type": "code",
   "execution_count": 2,
   "id": "7f727d31-7787-49e4-9515-1bc16b99e42e",
   "metadata": {},
   "outputs": [],
   "source": [
    "plt.style.use('default')\n",
    "plt.rcParams['figure.figsize'] = (12, 8)\n",
    "plt.rcParams['font.size'] = 12"
   ]
  },
  {
   "cell_type": "markdown",
   "id": "8dcb242b-5630-4149-9c5d-8929b896df57",
   "metadata": {},
   "source": [
    "# 1. Chargement des données"
   ]
  },
  {
   "cell_type": "markdown",
   "id": "fe3ff229-e628-4ea3-b03c-704b389795ee",
   "metadata": {},
   "source": [
    "## 1.1 Chargement et Aperçu des Données"
   ]
  },
  {
   "cell_type": "code",
   "execution_count": 3,
   "id": "e5fb2c9c-8803-434e-84a9-b98cc68a8020",
   "metadata": {},
   "outputs": [
    {
     "name": "stdout",
     "output_type": "stream",
     "text": [
      "Aperçu des 10 premières lignes du dataset:\n"
     ]
    },
    {
     "data": {
      "text/html": [
       "<div>\n",
       "<style scoped>\n",
       "    .dataframe tbody tr th:only-of-type {\n",
       "        vertical-align: middle;\n",
       "    }\n",
       "\n",
       "    .dataframe tbody tr th {\n",
       "        vertical-align: top;\n",
       "    }\n",
       "\n",
       "    .dataframe thead th {\n",
       "        text-align: right;\n",
       "    }\n",
       "</style>\n",
       "<table border=\"1\" class=\"dataframe\">\n",
       "  <thead>\n",
       "    <tr style=\"text-align: right;\">\n",
       "      <th></th>\n",
       "      <th>age</th>\n",
       "      <th>sexe</th>\n",
       "      <th>milieu</th>\n",
       "      <th>etat_matrimonial</th>\n",
       "      <th>region</th>\n",
       "      <th>niveau_education</th>\n",
       "      <th>categorie_socioprofessionnelle</th>\n",
       "      <th>taille_foyer</th>\n",
       "      <th>aide_sociale</th>\n",
       "      <th>a_acces_credit</th>\n",
       "      <th>...</th>\n",
       "      <th>possede_terrain</th>\n",
       "      <th>categorie_age</th>\n",
       "      <th>annees_experience</th>\n",
       "      <th>revenu_annuel</th>\n",
       "      <th>age_en_mois</th>\n",
       "      <th>est_urbain</th>\n",
       "      <th>est_marie</th>\n",
       "      <th>id_utilisateur</th>\n",
       "      <th>date_enregistrement</th>\n",
       "      <th>code_postal</th>\n",
       "    </tr>\n",
       "  </thead>\n",
       "  <tbody>\n",
       "    <tr>\n",
       "      <th>0</th>\n",
       "      <td>56</td>\n",
       "      <td>Femme</td>\n",
       "      <td>Urbain</td>\n",
       "      <td>Marié</td>\n",
       "      <td>Casablanca-Settat</td>\n",
       "      <td>Secondaire</td>\n",
       "      <td>Groupe 5</td>\n",
       "      <td>3.0</td>\n",
       "      <td>0</td>\n",
       "      <td>0</td>\n",
       "      <td>...</td>\n",
       "      <td>0</td>\n",
       "      <td>Sénior</td>\n",
       "      <td>33.0</td>\n",
       "      <td>16343</td>\n",
       "      <td>672</td>\n",
       "      <td>1</td>\n",
       "      <td>1</td>\n",
       "      <td>1</td>\n",
       "      <td>2025-05-13</td>\n",
       "      <td>14831</td>\n",
       "    </tr>\n",
       "    <tr>\n",
       "      <th>1</th>\n",
       "      <td>69</td>\n",
       "      <td>Femme</td>\n",
       "      <td>Urbain</td>\n",
       "      <td>Marié</td>\n",
       "      <td>Casablanca-Settat</td>\n",
       "      <td>Fondamental</td>\n",
       "      <td>Groupe 4</td>\n",
       "      <td>2.0</td>\n",
       "      <td>0</td>\n",
       "      <td>0</td>\n",
       "      <td>...</td>\n",
       "      <td>1</td>\n",
       "      <td>Âgé</td>\n",
       "      <td>51.0</td>\n",
       "      <td>15051</td>\n",
       "      <td>828</td>\n",
       "      <td>1</td>\n",
       "      <td>1</td>\n",
       "      <td>2</td>\n",
       "      <td>2025-05-13</td>\n",
       "      <td>37530</td>\n",
       "    </tr>\n",
       "    <tr>\n",
       "      <th>2</th>\n",
       "      <td>32</td>\n",
       "      <td>Homme</td>\n",
       "      <td>Urbain</td>\n",
       "      <td>Marié</td>\n",
       "      <td>L'Oriental</td>\n",
       "      <td>Secondaire</td>\n",
       "      <td>Groupe 5</td>\n",
       "      <td>9.0</td>\n",
       "      <td>0</td>\n",
       "      <td>0</td>\n",
       "      <td>...</td>\n",
       "      <td>0</td>\n",
       "      <td>Adulte</td>\n",
       "      <td>11.0</td>\n",
       "      <td>5440</td>\n",
       "      <td>384</td>\n",
       "      <td>1</td>\n",
       "      <td>1</td>\n",
       "      <td>4</td>\n",
       "      <td>2025-05-13</td>\n",
       "      <td>49563</td>\n",
       "    </tr>\n",
       "    <tr>\n",
       "      <th>3</th>\n",
       "      <td>60</td>\n",
       "      <td>Femme</td>\n",
       "      <td>Urbain</td>\n",
       "      <td>Marié</td>\n",
       "      <td>Rabat-Salé-Kénitra</td>\n",
       "      <td>Fondamental</td>\n",
       "      <td>Groupe 4</td>\n",
       "      <td>8.0</td>\n",
       "      <td>0</td>\n",
       "      <td>1</td>\n",
       "      <td>...</td>\n",
       "      <td>0</td>\n",
       "      <td>Sénior</td>\n",
       "      <td>42.0</td>\n",
       "      <td>15768</td>\n",
       "      <td>720</td>\n",
       "      <td>1</td>\n",
       "      <td>1</td>\n",
       "      <td>5</td>\n",
       "      <td>2025-05-13</td>\n",
       "      <td>61558</td>\n",
       "    </tr>\n",
       "    <tr>\n",
       "      <th>4</th>\n",
       "      <td>78</td>\n",
       "      <td>Femme</td>\n",
       "      <td>Urbain</td>\n",
       "      <td>Divorcé</td>\n",
       "      <td>Laâyoune-Sakia El Hamra</td>\n",
       "      <td>Fondamental</td>\n",
       "      <td>Groupe 3</td>\n",
       "      <td>7.0</td>\n",
       "      <td>0</td>\n",
       "      <td>0</td>\n",
       "      <td>...</td>\n",
       "      <td>0</td>\n",
       "      <td>Âgé</td>\n",
       "      <td>62.0</td>\n",
       "      <td>28882</td>\n",
       "      <td>936</td>\n",
       "      <td>1</td>\n",
       "      <td>0</td>\n",
       "      <td>7</td>\n",
       "      <td>2025-05-13</td>\n",
       "      <td>26313</td>\n",
       "    </tr>\n",
       "    <tr>\n",
       "      <th>5</th>\n",
       "      <td>38</td>\n",
       "      <td>Homme</td>\n",
       "      <td>Urbain</td>\n",
       "      <td>Marié</td>\n",
       "      <td>Fès-Meknès</td>\n",
       "      <td>Fondamental</td>\n",
       "      <td>Groupe 2</td>\n",
       "      <td>3.0</td>\n",
       "      <td>1</td>\n",
       "      <td>1</td>\n",
       "      <td>...</td>\n",
       "      <td>0</td>\n",
       "      <td>Adulte</td>\n",
       "      <td>20.0</td>\n",
       "      <td>16986</td>\n",
       "      <td>456</td>\n",
       "      <td>1</td>\n",
       "      <td>1</td>\n",
       "      <td>8</td>\n",
       "      <td>2025-05-13</td>\n",
       "      <td>15664</td>\n",
       "    </tr>\n",
       "    <tr>\n",
       "      <th>6</th>\n",
       "      <td>112</td>\n",
       "      <td>Homme</td>\n",
       "      <td>Urbain</td>\n",
       "      <td>Divorcé</td>\n",
       "      <td>Casablanca-Settat</td>\n",
       "      <td>Sans niveau</td>\n",
       "      <td>Groupe 5</td>\n",
       "      <td>9.0</td>\n",
       "      <td>0</td>\n",
       "      <td>0</td>\n",
       "      <td>...</td>\n",
       "      <td>0</td>\n",
       "      <td>Adulte</td>\n",
       "      <td>19.0</td>\n",
       "      <td>2597</td>\n",
       "      <td>432</td>\n",
       "      <td>1</td>\n",
       "      <td>0</td>\n",
       "      <td>11</td>\n",
       "      <td>2025-05-13</td>\n",
       "      <td>98737</td>\n",
       "    </tr>\n",
       "    <tr>\n",
       "      <th>7</th>\n",
       "      <td>28</td>\n",
       "      <td>Homme</td>\n",
       "      <td>Urbain</td>\n",
       "      <td>Marié</td>\n",
       "      <td>Casablanca-Settat</td>\n",
       "      <td>Fondamental</td>\n",
       "      <td>Groupe 4</td>\n",
       "      <td>2.0</td>\n",
       "      <td>0</td>\n",
       "      <td>1</td>\n",
       "      <td>...</td>\n",
       "      <td>0</td>\n",
       "      <td>Jeune</td>\n",
       "      <td>10.0</td>\n",
       "      <td>4396</td>\n",
       "      <td>336</td>\n",
       "      <td>1</td>\n",
       "      <td>1</td>\n",
       "      <td>13</td>\n",
       "      <td>2025-05-13</td>\n",
       "      <td>14257</td>\n",
       "    </tr>\n",
       "    <tr>\n",
       "      <th>8</th>\n",
       "      <td>28</td>\n",
       "      <td>Femme</td>\n",
       "      <td>Urbain</td>\n",
       "      <td>Veuf</td>\n",
       "      <td>Rabat-Salé-Kénitra</td>\n",
       "      <td>NaN</td>\n",
       "      <td>Groupe 2</td>\n",
       "      <td>4.0</td>\n",
       "      <td>0</td>\n",
       "      <td>0</td>\n",
       "      <td>...</td>\n",
       "      <td>0</td>\n",
       "      <td>Jeune</td>\n",
       "      <td>6.0</td>\n",
       "      <td>15823</td>\n",
       "      <td>336</td>\n",
       "      <td>1</td>\n",
       "      <td>0</td>\n",
       "      <td>14</td>\n",
       "      <td>2025-05-13</td>\n",
       "      <td>88982</td>\n",
       "    </tr>\n",
       "    <tr>\n",
       "      <th>9</th>\n",
       "      <td>41</td>\n",
       "      <td>Homme</td>\n",
       "      <td>Urbain</td>\n",
       "      <td>Marié</td>\n",
       "      <td>Casablanca-Settat</td>\n",
       "      <td>Secondaire</td>\n",
       "      <td>Groupe 4</td>\n",
       "      <td>NaN</td>\n",
       "      <td>0</td>\n",
       "      <td>1</td>\n",
       "      <td>...</td>\n",
       "      <td>0</td>\n",
       "      <td>Adulte</td>\n",
       "      <td>19.0</td>\n",
       "      <td>13437</td>\n",
       "      <td>492</td>\n",
       "      <td>1</td>\n",
       "      <td>1</td>\n",
       "      <td>15</td>\n",
       "      <td>2025-05-13</td>\n",
       "      <td>37663</td>\n",
       "    </tr>\n",
       "  </tbody>\n",
       "</table>\n",
       "<p>10 rows × 23 columns</p>\n",
       "</div>"
      ],
      "text/plain": [
       "   age   sexe  milieu etat_matrimonial                   region  \\\n",
       "0   56  Femme  Urbain            Marié        Casablanca-Settat   \n",
       "1   69  Femme  Urbain            Marié        Casablanca-Settat   \n",
       "2   32  Homme  Urbain            Marié               L'Oriental   \n",
       "3   60  Femme  Urbain            Marié       Rabat-Salé-Kénitra   \n",
       "4   78  Femme  Urbain          Divorcé  Laâyoune-Sakia El Hamra   \n",
       "5   38  Homme  Urbain            Marié               Fès-Meknès   \n",
       "6  112  Homme  Urbain          Divorcé        Casablanca-Settat   \n",
       "7   28  Homme  Urbain            Marié        Casablanca-Settat   \n",
       "8   28  Femme  Urbain             Veuf       Rabat-Salé-Kénitra   \n",
       "9   41  Homme  Urbain            Marié        Casablanca-Settat   \n",
       "\n",
       "  niveau_education categorie_socioprofessionnelle  taille_foyer  aide_sociale  \\\n",
       "0       Secondaire                       Groupe 5           3.0             0   \n",
       "1      Fondamental                       Groupe 4           2.0             0   \n",
       "2       Secondaire                       Groupe 5           9.0             0   \n",
       "3      Fondamental                       Groupe 4           8.0             0   \n",
       "4      Fondamental                       Groupe 3           7.0             0   \n",
       "5      Fondamental                       Groupe 2           3.0             1   \n",
       "6      Sans niveau                       Groupe 5           9.0             0   \n",
       "7      Fondamental                       Groupe 4           2.0             0   \n",
       "8              NaN                       Groupe 2           4.0             0   \n",
       "9       Secondaire                       Groupe 4           NaN             0   \n",
       "\n",
       "   a_acces_credit  ...  possede_terrain  categorie_age  annees_experience  \\\n",
       "0               0  ...                0         Sénior               33.0   \n",
       "1               0  ...                1            Âgé               51.0   \n",
       "2               0  ...                0         Adulte               11.0   \n",
       "3               1  ...                0         Sénior               42.0   \n",
       "4               0  ...                0            Âgé               62.0   \n",
       "5               1  ...                0         Adulte               20.0   \n",
       "6               0  ...                0         Adulte               19.0   \n",
       "7               1  ...                0          Jeune               10.0   \n",
       "8               0  ...                0          Jeune                6.0   \n",
       "9               1  ...                0         Adulte               19.0   \n",
       "\n",
       "   revenu_annuel age_en_mois  est_urbain  est_marie  id_utilisateur  \\\n",
       "0          16343         672           1          1               1   \n",
       "1          15051         828           1          1               2   \n",
       "2           5440         384           1          1               4   \n",
       "3          15768         720           1          1               5   \n",
       "4          28882         936           1          0               7   \n",
       "5          16986         456           1          1               8   \n",
       "6           2597         432           1          0              11   \n",
       "7           4396         336           1          1              13   \n",
       "8          15823         336           1          0              14   \n",
       "9          13437         492           1          1              15   \n",
       "\n",
       "   date_enregistrement  code_postal  \n",
       "0           2025-05-13        14831  \n",
       "1           2025-05-13        37530  \n",
       "2           2025-05-13        49563  \n",
       "3           2025-05-13        61558  \n",
       "4           2025-05-13        26313  \n",
       "5           2025-05-13        15664  \n",
       "6           2025-05-13        98737  \n",
       "7           2025-05-13        14257  \n",
       "8           2025-05-13        88982  \n",
       "9           2025-05-13        37663  \n",
       "\n",
       "[10 rows x 23 columns]"
      ]
     },
     "execution_count": 3,
     "metadata": {},
     "output_type": "execute_result"
    }
   ],
   "source": [
    "# Chargement du dataset\n",
    "df = pd.read_csv('dataset_revenu_marocains.csv')\n",
    "\n",
    "# Affichage des premières lignes\n",
    "print(\"Aperçu des 10 premières lignes du dataset:\")\n",
    "df.head(10)"
   ]
  },
  {
   "cell_type": "markdown",
   "id": "70c1a27f-403b-4a75-a956-06e2b28cdb17",
   "metadata": {},
   "source": [
    "## 1.2 Informations sur le Dataset\n",
    "\n",
    "Examinons les dimensions du dataset et les types de données de chaque colonne."
   ]
  },
  {
   "cell_type": "code",
   "execution_count": 4,
   "id": "50fdbab7-d5ab-4a4f-b0db-9786c5c42807",
   "metadata": {},
   "outputs": [
    {
     "name": "stdout",
     "output_type": "stream",
     "text": [
      "Dimensions du dataset: 40000 lignes × 23 colonnes\n",
      "\n",
      "Informations détaillées sur le dataset:\n",
      "<class 'pandas.core.frame.DataFrame'>\n",
      "RangeIndex: 40000 entries, 0 to 39999\n",
      "Data columns (total 23 columns):\n",
      " #   Column                          Non-Null Count  Dtype  \n",
      "---  ------                          --------------  -----  \n",
      " 0   age                             40000 non-null  int64  \n",
      " 1   sexe                            40000 non-null  object \n",
      " 2   milieu                          40000 non-null  object \n",
      " 3   etat_matrimonial                40000 non-null  object \n",
      " 4   region                          40000 non-null  object \n",
      " 5   niveau_education                37972 non-null  object \n",
      " 6   categorie_socioprofessionnelle  40000 non-null  object \n",
      " 7   taille_foyer                    38020 non-null  float64\n",
      " 8   aide_sociale                    40000 non-null  int64  \n",
      " 9   a_acces_credit                  40000 non-null  int64  \n",
      " 10  a_retraite                      40000 non-null  int64  \n",
      " 11  possede_voiture                 38034 non-null  float64\n",
      " 12  possede_logement                38017 non-null  float64\n",
      " 13  possede_terrain                 40000 non-null  int64  \n",
      " 14  categorie_age                   40000 non-null  object \n",
      " 15  annees_experience               38059 non-null  float64\n",
      " 16  revenu_annuel                   40000 non-null  int64  \n",
      " 17  age_en_mois                     40000 non-null  int64  \n",
      " 18  est_urbain                      40000 non-null  int64  \n",
      " 19  est_marie                       40000 non-null  int64  \n",
      " 20  id_utilisateur                  40000 non-null  int64  \n",
      " 21  date_enregistrement             40000 non-null  object \n",
      " 22  code_postal                     40000 non-null  int64  \n",
      "dtypes: float64(4), int64(11), object(8)\n",
      "memory usage: 7.0+ MB\n"
     ]
    }
   ],
   "source": [
    "# Dimensions du dataset\n",
    "print(f\"Dimensions du dataset: {df.shape[0]} lignes × {df.shape[1]} colonnes\")\n",
    "\n",
    "# Informations sur le dataset\n",
    "print(\"\\nInformations détaillées sur le dataset:\")\n",
    "df.info()"
   ]
  },
  {
   "cell_type": "markdown",
   "id": "99a7dca2-6467-4bc8-8ecd-bc00f2a3b0ee",
   "metadata": {},
   "source": [
    "## 1.3 Statistiques Descriptives\n",
    "\n",
    "Examinons les statistiques descriptives des variables numériques pour comprendre leur distribution centrale et leur dispersion."
   ]
  },
  {
   "cell_type": "code",
   "execution_count": 5,
   "id": "5d2fb560-741c-4dd2-9e72-27fe1d1bed98",
   "metadata": {},
   "outputs": [
    {
     "data": {
      "image/png": "[encoded data removed]",
      "text/plain": [
       "<Figure size 900x400 with 1 Axes>"
      ]
     },
     "metadata": {},
     "output_type": "display_data"
    }
   ],
   "source": [
    "from matplotlib.ticker import FuncFormatter\n",
    "# Distribution du revenu annuel (style demandé)\n",
    "plt.figure(figsize=(9, 4))\n",
    "sns.histplot(df[df['revenu_annuel'] < 200000]['revenu_annuel'], kde=True, bins=50)\n",
    "plt.title('Distribution du Revenu Annuel')\n",
    "plt.xlabel('Revenu Annuel (DH)')\n",
    "plt.ylabel('Fréquence')\n",
    "plt.axvline(df['revenu_annuel'].mean(), color='red', linestyle='--',\n",
    "            label=f'Moyenne: {df[\"revenu_annuel\"].mean():.2f} DH')\n",
    "plt.gca().get_xaxis().set_major_formatter(FuncFormatter(lambda x, _: f'{int(x):,}'))\n",
    "plt.legend()\n",
    "plt.show()"
   ]
  },
  {
   "cell_type": "code",
   "execution_count": 6,
   "id": "22627848-a413-42e0-b35b-9c9bfc264676",
   "metadata": {},
   "outputs": [
    {
     "name": "stdout",
     "output_type": "stream",
     "text": [
      "Statistiques descriptives des variables pertinentes pour la prédiction du revenu annuel :\n"
     ]
    },
    {
     "data": {
      "text/html": [
       "<div>\n",
       "<style scoped>\n",
       "    .dataframe tbody tr th:only-of-type {\n",
       "        vertical-align: middle;\n",
       "    }\n",
       "\n",
       "    .dataframe tbody tr th {\n",
       "        vertical-align: top;\n",
       "    }\n",
       "\n",
       "    .dataframe thead th {\n",
       "        text-align: right;\n",
       "    }\n",
       "</style>\n",
       "<table border=\"1\" class=\"dataframe\">\n",
       "  <thead>\n",
       "    <tr style=\"text-align: right;\">\n",
       "      <th></th>\n",
       "      <th>count</th>\n",
       "      <th>mean</th>\n",
       "      <th>std</th>\n",
       "      <th>min</th>\n",
       "      <th>25%</th>\n",
       "      <th>50%</th>\n",
       "      <th>75%</th>\n",
       "      <th>max</th>\n",
       "    </tr>\n",
       "  </thead>\n",
       "  <tbody>\n",
       "    <tr>\n",
       "      <th>age</th>\n",
       "      <td>40000.0</td>\n",
       "      <td>49.11</td>\n",
       "      <td>18.82</td>\n",
       "      <td>18.0</td>\n",
       "      <td>33.0</td>\n",
       "      <td>49.0</td>\n",
       "      <td>65.0</td>\n",
       "      <td>119.0</td>\n",
       "    </tr>\n",
       "    <tr>\n",
       "      <th>annees_experience</th>\n",
       "      <td>38059.0</td>\n",
       "      <td>29.07</td>\n",
       "      <td>17.95</td>\n",
       "      <td>0.0</td>\n",
       "      <td>14.0</td>\n",
       "      <td>29.0</td>\n",
       "      <td>45.0</td>\n",
       "      <td>64.0</td>\n",
       "    </tr>\n",
       "    <tr>\n",
       "      <th>taille_foyer</th>\n",
       "      <td>38020.0</td>\n",
       "      <td>5.00</td>\n",
       "      <td>2.57</td>\n",
       "      <td>1.0</td>\n",
       "      <td>3.0</td>\n",
       "      <td>5.0</td>\n",
       "      <td>7.0</td>\n",
       "      <td>9.0</td>\n",
       "    </tr>\n",
       "    <tr>\n",
       "      <th>a_acces_credit</th>\n",
       "      <td>40000.0</td>\n",
       "      <td>0.44</td>\n",
       "      <td>0.50</td>\n",
       "      <td>0.0</td>\n",
       "      <td>0.0</td>\n",
       "      <td>0.0</td>\n",
       "      <td>1.0</td>\n",
       "      <td>1.0</td>\n",
       "    </tr>\n",
       "    <tr>\n",
       "      <th>a_retraite</th>\n",
       "      <td>40000.0</td>\n",
       "      <td>0.32</td>\n",
       "      <td>0.47</td>\n",
       "      <td>0.0</td>\n",
       "      <td>0.0</td>\n",
       "      <td>0.0</td>\n",
       "      <td>1.0</td>\n",
       "      <td>1.0</td>\n",
       "    </tr>\n",
       "    <tr>\n",
       "      <th>possede_voiture</th>\n",
       "      <td>38034.0</td>\n",
       "      <td>0.30</td>\n",
       "      <td>0.46</td>\n",
       "      <td>0.0</td>\n",
       "      <td>0.0</td>\n",
       "      <td>0.0</td>\n",
       "      <td>1.0</td>\n",
       "      <td>1.0</td>\n",
       "    </tr>\n",
       "    <tr>\n",
       "      <th>possede_logement</th>\n",
       "      <td>38017.0</td>\n",
       "      <td>0.60</td>\n",
       "      <td>0.49</td>\n",
       "      <td>0.0</td>\n",
       "      <td>0.0</td>\n",
       "      <td>1.0</td>\n",
       "      <td>1.0</td>\n",
       "      <td>1.0</td>\n",
       "    </tr>\n",
       "    <tr>\n",
       "      <th>possede_terrain</th>\n",
       "      <td>40000.0</td>\n",
       "      <td>0.20</td>\n",
       "      <td>0.40</td>\n",
       "      <td>0.0</td>\n",
       "      <td>0.0</td>\n",
       "      <td>0.0</td>\n",
       "      <td>0.0</td>\n",
       "      <td>1.0</td>\n",
       "    </tr>\n",
       "    <tr>\n",
       "      <th>revenu_annuel</th>\n",
       "      <td>40000.0</td>\n",
       "      <td>21755.23</td>\n",
       "      <td>45128.91</td>\n",
       "      <td>318.0</td>\n",
       "      <td>4081.0</td>\n",
       "      <td>8973.5</td>\n",
       "      <td>20511.5</td>\n",
       "      <td>599614.0</td>\n",
       "    </tr>\n",
       "  </tbody>\n",
       "</table>\n",
       "</div>"
      ],
      "text/plain": [
       "                     count      mean       std    min     25%     50%  \\\n",
       "age                40000.0     49.11     18.82   18.0    33.0    49.0   \n",
       "annees_experience  38059.0     29.07     17.95    0.0    14.0    29.0   \n",
       "taille_foyer       38020.0      5.00      2.57    1.0     3.0     5.0   \n",
       "a_acces_credit     40000.0      0.44      0.50    0.0     0.0     0.0   \n",
       "a_retraite         40000.0      0.32      0.47    0.0     0.0     0.0   \n",
       "possede_voiture    38034.0      0.30      0.46    0.0     0.0     0.0   \n",
       "possede_logement   38017.0      0.60      0.49    0.0     0.0     1.0   \n",
       "possede_terrain    40000.0      0.20      0.40    0.0     0.0     0.0   \n",
       "revenu_annuel      40000.0  21755.23  45128.91  318.0  4081.0  8973.5   \n",
       "\n",
       "                       75%       max  \n",
       "age                   65.0     119.0  \n",
       "annees_experience     45.0      64.0  \n",
       "taille_foyer           7.0       9.0  \n",
       "a_acces_credit         1.0       1.0  \n",
       "a_retraite             1.0       1.0  \n",
       "possede_voiture        1.0       1.0  \n",
       "possede_logement       1.0       1.0  \n",
       "possede_terrain        0.0       1.0  \n",
       "revenu_annuel      20511.5  599614.0  "
      ]
     },
     "execution_count": 6,
     "metadata": {},
     "output_type": "execute_result"
    }
   ],
   "source": [
    "# Statistiques descriptives des variables numériques pertinentes pour la prédiction du revenu\n",
    "print(\"Statistiques descriptives des variables pertinentes pour la prédiction du revenu annuel :\")\n",
    "key_cols = ['age', 'annees_experience', 'taille_foyer', 'a_acces_credit', 'a_retraite', 'possede_voiture', 'possede_logement', 'possede_terrain',\n",
    "    'revenu_annuel']\n",
    "df[key_cols].describe().T.round(2)"
   ]
  },
  {
   "cell_type": "markdown",
   "id": "71a22217-76c1-499f-92db-133f9d6387be",
   "metadata": {},
   "source": [
    "<div style=\"background-color: #f9f9f9; padding: 20px; border-radius: 10px; border-left: 6px solid #4caf50; font-family: Arial, sans-serif;\">\n",
    "\n",
    "<h2 style=\"color: #4caf50;\">Interprétation des statistiques descriptives des variables numériques pertinentes</h2>\n",
    "\n",
    "<h3 style=\"color: #333333;\">revenu_annuel</h3>\n",
    "<ul>\n",
    "  <li><strong>Moyenne</strong> : 21 755 DH/an</li>\n",
    "  <li><strong>Écart-type</strong> : 45 129 DH — très élevé, indique une <strong>forte dispersion</strong>.</li>\n",
    "  <li><strong>Min - Max</strong> : de 318 à <strong>599 614 DH</strong> — présence de <strong>valeurs extrêmes</strong>.</li>\n",
    "  <li><strong>Médiane (50%)</strong> : 8 973 DH — distribution <strong>asymétrique à droite</strong>.</li>\n",
    "</ul>\n",
    "<p style=\"color: #888;\"><em>Remarque :</em> variable très déséquilibrée. Une transformation logarithmique ou un traitement des outliers est recommandé.</p>\n",
    "\n",
    "<h3 style=\"color: #333333;\">age</h3>\n",
    "<ul>\n",
    "  <li><strong>Moyenne</strong> : 49 ans</li>\n",
    "  <li><strong>Min - Max</strong> : 18 - 119 — quelques <strong>valeurs aberrantes</strong>.</li>\n",
    "  <li>75 % ont moins de 65 ans — majorité en âge actif.</li>\n",
    "</ul>\n",
    "<p style=\"color: #888;\">Peut influencer le revenu, notamment combiné au statut de retraite.</p>\n",
    "\n",
    "<h3 style=\"color: #333333;\">annees_experience</h3>\n",
    "<ul>\n",
    "  <li><strong>Moyenne</strong> : 29 ans</li>\n",
    "  <li><strong>Min - Max</strong> : 0 - 64</li>\n",
    "</ul>\n",
    "<p style=\"color: #888;\">Forte corrélation probable avec le revenu.</p>\n",
    "\n",
    "<h3 style=\"color: #333333;\">a_acces_credit</h3>\n",
    "<ul>\n",
    "  <li><strong>Moyenne</strong> : 0.44 — 44 % des individus ont accès au crédit</li>\n",
    "  <li>Binaire : 0 = non, 1 = oui</li>\n",
    "</ul>\n",
    "<p style=\"color: #888;\">Indicateur de santé financière, probablement corrélé au revenu.</p>\n",
    "\n",
    "<h3 style=\"color: #333333;\">a_retraite</h3>\n",
    "<ul>\n",
    "  <li><strong>Moyenne</strong> : 0.32 — 32 % sont à la retraite</li>\n",
    "</ul>\n",
    "<p style=\"color: #888;\">Les retraités ont souvent un revenu fixe ou plus faible.</p>\n",
    "\n",
    "<h3 style=\"color: #333333;\">possede_voiture</h3>\n",
    "<ul>\n",
    "  <li><strong>Moyenne</strong> : 0.30 — 30 % possèdent une voiture</li>\n",
    "</ul>\n",
    "<p style=\"color: #888;\">Peut refléter le niveau de vie.</p>\n",
    "\n",
    "<h3 style=\"color: #333333;\">possede_logement</h3>\n",
    "<ul>\n",
    "  <li><strong>Moyenne</strong> : 0.60 — 60 % possèdent leur logement</li>\n",
    "</ul>\n",
    "<p style=\"color: #888;\">Indicateur de stabilité économique.</p>\n",
    "\n",
    "<h3 style=\"color: #333333;\">possede_terrain</h3>\n",
    "<ul>\n",
    "  <li><strong>Moyenne</strong> : 0.20 — 20 % possèdent un terrain</li>\n",
    "</ul>\n",
    "<p style=\"color: #888;\">Peut indiquer une certaine richesse, notamment en milieu rural.</p>\n",
    "\n",
    "<h3 style=\"color: #4caf50;\">Conclusion</h3>\n",
    "<ul>\n",
    "  <li>Le dataset présente une forte hétérogénéité avec des valeurs extrêmes.</li>\n",
    "  <li>Les variables sélectionnées sont pertinentes pour expliquer le revenu annuel.</li>\n",
    "  <li>Une préparation rigoureuse des données est nécessaire : traitement des outliers, transformations, normalisation.</li>\n",
    "</ul>\n",
    "\n",
    "</div>\n"
   ]
  },
  {
   "cell_type": "code",
   "execution_count": 16,
   "id": "4e092d96-8b49-4960-a36f-b37435d30972",
   "metadata": {},
   "outputs": [
    {
     "data": {
      "application/vnd.jupyter.widget-view+json": {
       "model_id": "ef22450e59384537a9212d93a0eba08b",
       "version_major": 2,
       "version_minor": 0
      },
      "text/plain": [
       "                                             |                                                      | [  0%]  …"
      ]
     },
     "metadata": {},
     "output_type": "display_data"
    },
    {
     "name": "stdout",
     "output_type": "stream",
     "text": [
      "Report rapport_sweetviz.html was generated.\n"
     ]
    },
    {
     "data": {
      "text/html": [
       "\n",
       "        <iframe\n",
       "            width=\"1000\"\n",
       "            height=\"600\"\n",
       "            src=\"rapport_sweetviz.html\"\n",
       "            frameborder=\"0\"\n",
       "            allowfullscreen\n",
       "            \n",
       "        ></iframe>\n",
       "        "
      ],
      "text/plain": [
       "<IPython.lib.display.IFrame at 0x1903a6b2f00>"
      ]
     },
     "metadata": {},
     "output_type": "display_data"
    }
   ],
   "source": [
    "import pandas as pd\n",
    "import sweetviz as sv\n",
    "from IPython.display import IFrame, display\n",
    "\n",
    "\n",
    "# Générer le rapport\n",
    "rapport = sv.analyze(df)\n",
    "rapport_path = \"rapport_sweetviz.html\"\n",
    "\n",
    "# Générer le fichier HTML sans ouvrir le navigateur\n",
    "rapport.show_html(rapport_path, open_browser=False)\n",
    "\n",
    "# Attendre que le fichier soit bien généré, puis l'afficher dans le notebook\n",
    "display(IFrame(src=rapport_path, width=1000, height=600))"
   ]
  },
  {
   "cell_type": "markdown",
   "id": "047b4762-7a86-48f4-880d-828a8aa7ae9a",
   "metadata": {},
   "source": [
    "### 📊 Interprétation des résultats de l'analyse Sweetviz\n",
    "<div style=\"background: linear-gradient(to right, #6a11cb, #2575fc); padding: 15px; border-radius: 10px; color: white; margin-bottom: 20px;\"> <h2 style=\"color: white; margin: 0; text-align: center;\">Analyse exploratoire des données sur le revenu annuel des Marocains</h2> </div>\n",
    "Après avoir analysé le rapport Sweetviz généré pour notre dataset sur le revenu annuel des Marocains, nous pouvons tirer les conclusions suivantes :\n",
    "\n",
    "### 💰 Distribution du revenu annuel\n",
    "<div style=\"background-color: #f0f7ff; padding: 15px; border-radius: 10px; border-left: 5px solid #4285f4; margin-bottom: 20px;\"> <p>La variable cible \"<strong>revenu_annuel</strong>\" présente une distribution <em>asymétrique à droite</em> (skewed right), ce qui est typique des distributions de revenus. Cette asymétrie indique que :</p> <ul style=\"list-style-type: none; padding-left: 10px;\"> <li>🔹 La <strong>majorité</strong> de la population se situe dans les <strong>tranches de revenus inférieurs</strong></li> <li>🔹 Une <strong>minorité</strong> de personnes dispose de revenus <strong>très élevés</strong>, créant une \"queue\" à droite de la distribution</li> <li>🔹 La <strong>médiane</strong> du revenu est significativement <strong>inférieure à la moyenne</strong> (<span style=\"color: #e63946; font-weight: bold;\">21.949 DH/an</span>), confirmant que plus de <span style=\"color: #e63946; font-weight: bold;\">71,8%</span> de la population se trouve sous la moyenne nationale</li> </ul> </div>\n",
    "\n",
    "### 🏙️ Disparités géographiques\n",
    "<div style=\"background-color: #f2fcf5; padding: 15px; border-radius: 10px; border-left: 5px solid #34a853; margin-bottom: 20px;\"> <p>L'analyse comparative entre milieu urbain et rural révèle des écarts importants :</p> <ul style=\"list-style-type: none; padding-left: 10px;\"> <li>🔹 Le revenu moyen en milieu <strong>urbain</strong> (<span style=\"color: #34a853; font-weight: bold;\">26.988 DH/an</span>) est <strong>plus de deux fois supérieur</strong> au revenu moyen en milieu <strong>rural</strong> (<span style=\"color: #34a853; font-weight: bold;\">12.862 DH/an</span>)</li> <li>🔹 La <strong>dispersion des revenus</strong> est plus importante en milieu urbain, suggérant des <strong>inégalités plus marquées</strong></li> <li>🔹 En milieu rural, la distribution est <strong>encore plus asymétrique</strong>, avec une concentration plus forte dans les tranches de revenus faibles</li> </ul> </div>\n",
    "\n",
    "### 🔍 Facteurs déterminants du revenu\n",
    "<div style=\"background-color: #fff8f0; padding: 15px; border-radius: 10px; border-left: 5px solid #fbbc05; margin-bottom: 20px;\"> <p>Les corrélations identifiées par Sweetviz montrent que :</p> <table style=\"width: 100%; border-collapse: collapse; margin-top: 10px;\"> <tr style=\"background-color: #fbbc0520;\"> <th style=\"padding: 8px; text-align: left; border-bottom: 2px solid #fbbc05;\">Facteur</th> <th style=\"padding: 8px; text-align: left; border-bottom: 2px solid #fbbc05;\">Impact sur le revenu</th> </tr> <tr> <td style=\"padding: 8px; border-bottom: 1px solid #ddd;\"><strong>Niveau d'éducation</strong> 📚</td> <td style=\"padding: 8px; border-bottom: 1px solid #ddd;\">Variable la plus fortement corrélée au revenu, avec une progression claire du niveau \"sans niveau\" au niveau \"supérieur\"</td> </tr> <tr style=\"background-color: #fbbc0510;\"> <td style=\"padding: 8px; border-bottom: 1px solid #ddd;\"><strong>Années d'expérience</strong> ⏱️</td> <td style=\"padding: 8px; border-bottom: 1px solid #ddd;\">Corrélation positive significative, confirmant que l'expérience professionnelle est valorisée sur le marché du travail marocain</td> </tr> <tr> <td style=\"padding: 8px; border-bottom: 1px solid #ddd;\"><strong>Catégorie socioprofessionnelle</strong> 👔</td> <td style=\"padding: 8px; border-bottom: 1px solid #ddd;\">Forte association avec le revenu, les groupes 1 et 2 (cadres supérieurs et moyens) présentant des revenus nettement plus élevés</td> </tr> <tr style=\"background-color: #fbbc0510;\"> <td style=\"padding: 8px; border-bottom: 1px solid #ddd;\"><strong>Âge</strong> 🗓️</td> <td style=\"padding: 8px; border-bottom: 1px solid #ddd;\">Relation non-linéaire avec le revenu, qui augmente généralement jusqu'à l'âge de la retraite puis diminue</td> </tr> <tr> <td style=\"padding: 8px; border-bottom: 1px solid #ddd;\"><strong>Sexe</strong> ⚧️</td> <td style=\"padding: 8px; border-bottom: 1px solid #ddd;\">Écart significatif entre hommes et femmes, les hommes ayant en moyenne des revenus plus élevés</td> </tr> </table> </div>\n",
    "\n",
    "### ⚠️ Qualité des données\n",
    "<div style=\"background-color: #fff0f0; padding: 15px; border-radius: 10px; border-left: 5px solid #ea4335; margin-bottom: 20px;\"> <p>Le rapport Sweetviz a également mis en évidence certains problèmes de qualité des données :</p> <ul style=\"list-style-type: none; padding-left: 10px;\"> <li>🔸 <strong>Valeurs manquantes</strong> : Présentes principalement dans les colonnes [...], nécessitant un traitement approprié</li> <li>🔸 <strong>Valeurs aberrantes</strong> : Détectées dans la distribution des revenus, particulièrement dans les tranches supérieures</li> <li>🔸 <strong>Déséquilibre des catégories</strong> : Certaines modalités des variables catégorielles sont sous-représentées, ce qui pourrait affecter la modélisation</li> </ul> </div>\n",
    "\n",
    "### 🔄 Multicolinéarité potentielle\n",
    "<div style=\"background-color: #f3f0ff; padding: 15px; border-radius: 10px; border-left: 5px solid #673ab7; margin-bottom: 20px;\"> <p>L'analyse des corrélations entre variables explicatives révèle des associations fortes entre :</p> <ul style=\"list-style-type: none; padding-left: 10px;\"> <li>🔹 <strong>Niveau d'éducation</strong> et <strong>catégorie socioprofessionnelle</strong></li> <li>🔹 <strong>Âge</strong> et <strong>années d'expérience</strong></li> <li>🔹 <strong>Possession de biens</strong> et <strong>revenu</strong></li> </ul> <p>Cette multicolinéarité devra être prise en compte lors de la modélisation pour éviter les biais et améliorer la stabilité des modèles.</p> </div>\n",
    "\n",
    "### 🚀 Conclusion et implications pour la modélisation\n",
    "<div style=\"background: linear-gradient(to right, #00b09b, #96c93d); padding: 15px; border-radius: 10px; color: white; margin-bottom: 20px;\"> <p>Cette analyse exploratoire nous permet d'orienter la suite du projet :</p> </div> <div style=\"display: flex; flex-wrap: wrap; gap: 15px; margin-bottom: 20px;\"> <!-- Prétraitement des données --> <div style=\"flex: 1; min-width: 300px; background-color: #e8f5e9; padding: 15px; border-radius: 10px; border-top: 4px solid #4caf50;\"> <h3 style=\"color: #2e7d32; margin-top: 0;\">🧹 Prétraitement des données</h3> <ul> <li>Traitement spécifique des valeurs manquantes selon les variables concernées</li> <li>Détection et gestion des valeurs aberrantes, particulièrement pour le revenu</li> <li>Transformation des variables catégorielles avec encodage approprié</li> </ul> </div> <!-- Sélection de variables --> <div style=\"flex: 1; min-width: 300px; background-color: #e3f2fd; padding: 15px; border-radius: 10px; border-top: 4px solid #2196f3;\"> <h3 style=\"color: #0d47a1; margin-top: 0;\">🎯 Sélection de variables</h3> <ul> <li>Considérer la réduction de dimensionnalité pour gérer la multicolinéarité</li> <li>Évaluer l'importance des variables pour ne conserver que les plus pertinentes</li> </ul> </div> </div> <div style=\"display: flex; flex-wrap: wrap; gap: 15px; margin-bottom: 20px;\"> <!-- Choix des modèles --> <div style=\"flex: 1; min-width: 300px; background-color: #fff8e1; padding: 15px; border-radius: 10px; border-top: 4px solid #ffc107;\"> <h3 style=\"color: #ff8f00; margin-top: 0;\">⚙️ Choix des modèles</h3> <ul> <li>Privilégier des modèles capables de capturer les relations non-linéaires (arbres de décision, forêts aléatoires)</li> <li>Envisager des modèles robustes aux valeurs aberrantes pour la régression</li> </ul> </div> <!-- Évaluation --> <div style=\"flex: 1; min-width: 300px; background-color: #f3e5f5; padding: 15px; border-radius: 10px; border-top: 4px solid #9c27b0;\"> <h3 style=\"color: #6a1b9a; margin-top: 0;\">📏 Évaluation</h3> <ul> <li>Stratifier l'échantillonnage selon le milieu (urbain/rural) pour garantir une représentation équilibrée</li> <li>Utiliser des métriques adaptées aux distributions asymétriques (MAE plutôt que MSE)</li> </ul> </div> </div> <div style=\"background-color: #e8eaf6; padding: 15px; border-radius: 10px; border-left: 5px solid #3f51b5; text-align: center; font-style: italic; margin-top: 30px;\"> <p>Cette analyse nous fournit une base solide pour aborder les étapes suivantes du projet avec une compréhension approfondie des caractéristiques et des défis présentés par nos données.</p> </div> "
   ]
  },
  {
   "cell_type": "markdown",
   "id": "80146e3e-5686-43db-9587-36fdd04423e8",
   "metadata": {},
   "source": [
    "# 2. **Nettoyage des données**"
   ]
  },
  {
   "cell_type": "markdown",
   "id": "2af30204-bf06-4d09-92b5-44a1547d7404",
   "metadata": {},
   "source": [
    "## 2.1 Élimination des doublons"
   ]
  },
  {
   "cell_type": "code",
   "execution_count": 7,
   "id": "a5c69818-f1c1-4a9d-8d3e-2a9745cf1fee",
   "metadata": {},
   "outputs": [
    {
     "name": "stdout",
     "output_type": "stream",
     "text": [
      "Nombre d'enregistrements avant suppression des doublons: 40000\n",
      "Nombre de doublons détectés: 0\n",
      "Aucun doublon détecté.\n"
     ]
    }
   ],
   "source": [
    "print(f\"Nombre d'enregistrements avant suppression des doublons: {df.shape[0]}\")\n",
    "n_duplicates = df.duplicated().sum()\n",
    "print(f\"Nombre de doublons détectés: {n_duplicates}\")\n",
    "\n",
    "if n_duplicates > 0:\n",
    "    df = df.drop_duplicates()\n",
    "    print(f\"Doublons supprimés. Nombre d'enregistrements restants: {df.shape[0]}\")\n",
    "else:\n",
    "    print(\"Aucun doublon détecté.\")"
   ]
  },
  {
   "cell_type": "markdown",
   "id": "5a6f3e69-3513-419c-b2a6-614556e66a8d",
   "metadata": {},
   "source": [
    "## 2.2 Traitement des valeurs manquantes"
   ]
  },
  {
   "cell_type": "markdown",
   "id": "0e91fb37-0027-4dea-b904-0e80f888ed0b",
   "metadata": {},
   "source": [
    "### Analyse des valeurs manquantes"
   ]
  },
  {
   "cell_type": "code",
   "execution_count": 8,
   "id": "7e76e958-2ed5-448e-9f39-ea2344df1970",
   "metadata": {},
   "outputs": [
    {
     "name": "stdout",
     "output_type": "stream",
     "text": [
      "Colonnes avec valeurs manquantes:\n",
      "                   Valeurs manquantes  Pourcentage (%)\n",
      "niveau_education                 2028           5.0700\n",
      "possede_logement                 1983           4.9575\n",
      "taille_foyer                     1980           4.9500\n",
      "possede_voiture                  1966           4.9150\n",
      "annees_experience                1941           4.8525\n"
     ]
    }
   ],
   "source": [
    "missing_values = df.isnull().sum()\n",
    "missing_percent = (missing_values / len(df)) * 100\n",
    "missing_df = pd.DataFrame({\n",
    "    \n",
    "    'Valeurs manquantes': missing_values,\n",
    "    'Pourcentage (%)': missing_percent\n",
    "})\n",
    "missing_df = missing_df[missing_df['Valeurs manquantes'] > 0].sort_values('Valeurs manquantes', ascending=False)\n",
    "\n",
    "print(\"Colonnes avec valeurs manquantes:\")\n",
    "print(missing_df)"
   ]
  },
  {
   "cell_type": "markdown",
   "id": "41772186-31f1-41b3-9f69-244b186bb245",
   "metadata": {},
   "source": [
    "## 💡 Justification de la méthode de traitement"
   ]
  },
  {
   "cell_type": "markdown",
   "id": "5fca21dd-3239-4460-b02c-8b4d2358827f",
   "metadata": {},
   "source": [
    "\n",
    "\n",
    "\n",
    "<div style=\"background: linear-gradient(to right, #3a7bd5, #00d2ff); padding: 2px; border-radius: 10px; margin-bottom: 20px;\"> <div style=\"background: white; border-radius: 8px; padding: 15px;\"> <h2 style=\"color: #3a7bd5; text-align: center; margin-top: 0;\">💡 Justification du traitement des valeurs manquantes</h2> </div> </div> <div style=\"display: flex; flex-wrap: wrap; gap: 20px; margin-top: 25px;\"> <!-- Variables numériques --> <div style=\"flex: 1; min-width: 300px; background-color: #f0f7ff; padding: 20px; border-radius: 10px; box-shadow: 0 4px 6px rgba(0, 0, 0, 0.1); border-left: 5px solid #4285f4;\"> <div style=\"display: flex; align-items: center; margin-bottom: 15px;\"> <div style=\"background-color: #4285f4; width: 40px; height: 40px; border-radius: 50%; display: flex; justify-content: center; align-items: center; margin-right: 15px;\"> <span style=\"color: white; font-weight: bold; font-size: 20px;\">1</span> </div> <h3 style=\"color: #4285f4; margin: 0;\">Variables numériques</h3> </div>\n",
    "\n",
    "<div style=\"padding-left: 55px;\">\n",
    "  <p>Imputation par la <strong style=\"color: #4285f4; background-color: #e8f0fe; padding: 2px 5px; border-radius: 3px;\">médiane</strong> afin de limiter l'influence des valeurs extrêmes.</p>\n",
    "  \n",
    "  <div style=\"background-color: #e8f0fe; padding: 10px; border-radius: 5px; margin-top: 10px;\">\n",
    "    <p style=\"margin: 0;\"><strong>Avantage principal:</strong> Robuste aux outliers</p>\n",
    "  </div>\n",
    "  \n",
    "  <div style=\"display: flex; align-items: center; margin-top: 15px;\">\n",
    "    <div style=\"flex: 1; height: 2px; background-color: #4285f4; opacity: 0.3;\"></div>\n",
    "    <div style=\"margin: 0 10px;\">\n",
    "      <span style=\"color: #4285f4; font-size: 20px;\">📊</span>\n",
    "    </div>\n",
    "    <div style=\"flex: 1; height: 2px; background-color: #4285f4; opacity: 0.3;\"></div>\n",
    "  </div>\n",
    "  \n",
    "  <div style=\"margin-top: 15px; font-size: 14px; color: #666;\">\n",
    "    <p style=\"margin: 0;\"><em>Exemple: Pour une série [1, 2, 3, 100], la médiane (2.5) est préférable à la moyenne (26.5).</em></p>\n",
    "  </div>\n",
    "</div>\n",
    "\n",
    "</div> <!-- Variables catégorielles --> <div style=\"flex: 1; min-width: 300px; background-color: #f2fcf5; padding: 20px; border-radius: 10px; box-shadow: 0 4px 6px rgba(0, 0, 0, 0.1); border-left: 5px solid #34a853;\"> <div style=\"display: flex; align-items: center; margin-bottom: 15px;\"> <div style=\"background-color: #34a853; width: 40px; height: 40px; border-radius: 50%; display: flex; justify-content: center; align-items: center; margin-right: 15px;\"> <span style=\"color: white; font-weight: bold; font-size: 20px;\">2</span> </div> <h3 style=\"color: #34a853; margin: 0;\">Variables catégorielles</h3> </div>\n",
    "\n",
    "<div style=\"padding-left: 55px;\">\n",
    "  <p>Imputation par le <strong style=\"color: #34a853; background-color: #e6f4ea; padding: 2px 5px; border-radius: 3px;\">mode</strong> (valeur la plus fréquente).</p>\n",
    "  \n",
    "  <div style=\"background-color: #e6f4ea; padding: 10px; border-radius: 5px; margin-top: 10px;\">\n",
    "    <p style=\"margin: 0;\"><strong>Avantage principal:</strong> Conserve la modalité dominante sans introduire de biais fort</p>\n",
    "  </div>\n",
    "  \n",
    "  <div style=\"display: flex; align-items: center; margin-top: 15px;\">\n",
    "    <div style=\"flex: 1; height: 2px; background-color: #34a853; opacity: 0.3;\"></div>\n",
    "    <div style=\"margin: 0 10px;\">\n",
    "      <span style=\"color: #34a853; font-size: 20px;\">📋</span>\n",
    "    </div>\n",
    "    <div style=\"flex: 1; height: 2px; background-color: #34a853; opacity: 0.3;\"></div>\n",
    "  </div>\n",
    "  \n",
    "  <div style=\"margin-top: 15px; font-size: 14px; color: #666;\">\n",
    "    <p style=\"margin: 0;\"><em>Exemple: Pour une série [\"A\", \"B\", \"B\", \"C\", \"B\"], le mode (\"B\") préserve la distribution originale.</em></p>\n",
    "  </div>\n",
    "</div> \n",
    "\n",
    "</div> </div> <div style=\"background-color: #f8f9fa; border-left: 5px solid #5f6368; padding: 15px; border-radius: 5px; margin-top: 25px;\"> <p style=\"margin: 0; font-style: italic; color: #5f6368;\"> <strong>Note:</strong> Ces méthodes d'imputation ont été choisies pour leur robustesse et leur capacité à préserver les caractéristiques statistiques importantes des données, tout en minimisant l'introduction de biais dans l'analyse subséquente. </p> </div> "
   ]
  },
  {
   "cell_type": "markdown",
   "id": "330adaa1-baf5-4195-a737-77643fbe2800",
   "metadata": {},
   "source": [
    "### **Traitement des valeurs manquantes**\n",
    "### Identifier les colonnes numériques et catégorielles"
   ]
  },
  {
   "cell_type": "code",
   "execution_count": 9,
   "id": "465b3a49-5323-4a41-a881-71076aa9d9dc",
   "metadata": {},
   "outputs": [],
   "source": [
    "numeric_cols = df.select_dtypes(include=['int64', 'float64']).columns\n",
    "categorical_cols = df.select_dtypes(include=['object']).columns"
   ]
  },
  {
   "cell_type": "markdown",
   "id": "cb836eba-f15d-412e-bf6d-307d254fbf7b",
   "metadata": {},
   "source": [
    "### Imputation des valeurs manquantes"
   ]
  },
  {
   "cell_type": "code",
   "execution_count": 10,
   "id": "10ddbb94-9a61-4ded-ae1f-c75cfd6f9532",
   "metadata": {},
   "outputs": [
    {
     "name": "stdout",
     "output_type": "stream",
     "text": [
      "  - Colonne 'taille_foyer': 0 valeurs manquantes remplacées par la médiane (5.0)\n",
      "  - Colonne 'possede_voiture': 0 valeurs manquantes remplacées par la médiane (0.0)\n",
      "  - Colonne 'possede_logement': 0 valeurs manquantes remplacées par la médiane (1.0)\n",
      "  - Colonne 'annees_experience': 0 valeurs manquantes remplacées par la médiane (29.0)\n",
      "  - Colonne 'niveau_education': 0 valeurs manquantes remplacées par le mode (Fondamental)\n"
     ]
    }
   ],
   "source": [
    "for col in numeric_cols:\n",
    "    if df[col].isnull().sum() > 0:\n",
    "        median_value = df[col].median()\n",
    "        df[col].fillna(median_value, inplace=True)\n",
    "        print(f\"  - Colonne '{col}': {df[col].isnull().sum()} valeurs manquantes remplacées par la médiane ({median_value})\")\n",
    "    \n",
    "for col in categorical_cols:\n",
    "    if df[col].isnull().sum() > 0:\n",
    "        mode_value = df[col].mode()[0]\n",
    "        df[col].fillna(mode_value, inplace=True)\n",
    "        print(f\"  - Colonne '{col}': {df[col].isnull().sum()} valeurs manquantes remplacées par le mode ({mode_value})\")"
   ]
  },
  {
   "cell_type": "markdown",
   "id": "755b2f82-9b35-42d7-a13e-573c65ab6428",
   "metadata": {},
   "source": [
    "### Vérification après imputation"
   ]
  },
  {
   "cell_type": "code",
   "execution_count": 11,
   "id": "29dde223-bb50-4c88-ac02-f4f739d5707e",
   "metadata": {},
   "outputs": [
    {
     "name": "stdout",
     "output_type": "stream",
     "text": [
      "\n",
      "Nombre de valeurs manquantes après imputation: 0\n"
     ]
    }
   ],
   "source": [
    "missing_after = df.isnull().sum().sum()\n",
    "print(f\"\\nNombre de valeurs manquantes après imputation: {missing_after}\")"
   ]
  },
  {
   "cell_type": "markdown",
   "id": "3854b686-c838-4520-9caa-b2c2a6e00755",
   "metadata": {},
   "source": [
    "## 2.3  Traitement des valeurs aberrantes\n",
    "### Analyse des valeurs aberrantes pour les variables numériques importantes"
   ]
  },
  {
   "cell_type": "code",
   "execution_count": 12,
   "id": "fc2592f7-9447-415e-9344-bfaab6682a40",
   "metadata": {},
   "outputs": [
    {
     "name": "stdout",
     "output_type": "stream",
     "text": [
      "Statistiques descriptives avant traitement des valeurs aberrantes:\n",
      "                age  annees_experience  revenu_annuel\n",
      "count  40000.000000       40000.000000   40000.000000\n",
      "mean      49.107550          29.062075   21755.226625\n",
      "std       18.816827          17.505350   45128.913238\n",
      "min       18.000000           0.000000     318.000000\n",
      "25%       33.000000          14.000000    4081.000000\n",
      "50%       49.000000          29.000000    8973.500000\n",
      "75%       65.000000          44.000000   20511.500000\n",
      "max      119.000000          64.000000  599614.000000\n"
     ]
    }
   ],
   "source": [
    "numeric_features = ['age', 'annees_experience', 'revenu_annuel']\n",
    "\n",
    "print(\"Statistiques descriptives avant traitement des valeurs aberrantes:\")\n",
    "print(df[numeric_features].describe())"
   ]
  },
  {
   "cell_type": "markdown",
   "id": "972401cc-635b-4a6e-b425-bb1193c08867",
   "metadata": {},
   "source": [
    "### Visualisation des distributions avec boxplots pour détecter les valeurs aberrantes"
   ]
  },
  {
   "cell_type": "code",
   "execution_count": 13,
   "id": "8f1eee36-7125-4dae-a242-b2f5a33bab9b",
   "metadata": {},
   "outputs": [
    {
     "data": {
      "image/png": "[encoded data removed]",
      "text/plain": [
       "<Figure size 1500x500 with 3 Axes>"
      ]
     },
     "metadata": {},
     "output_type": "display_data"
    }
   ],
   "source": [
    "plt.figure(figsize=(15, 5))\n",
    "for i, feature in enumerate(numeric_features):\n",
    "    plt.subplot(1, 3, i+1)\n",
    "    sns.boxplot(y=df[feature])\n",
    "    plt.title(f'Distribution de {feature}')\n",
    "plt.tight_layout()\n",
    "plt.show()"
   ]
  },
  {
   "cell_type": "markdown",
   "id": "512a2e08-3908-4a0c-a23f-15cf33434490",
   "metadata": {},
   "source": [
    "## 🔍 Justification de la méthode de traitement"
   ]
  },
  {
   "cell_type": "markdown",
   "id": "ddaec75c-dad1-4101-bdc9-3adf6f573657",
   "metadata": {},
   "source": [
    "<div style=\"background: linear-gradient(to right, #8e2de2, #4a00e0); padding: 2px; border-radius: 10px; margin-bottom: 20px;\"> <div style=\"background: white; border-radius: 8px; padding: 15px;\"> <h2 style=\"color: #8e2de2; text-align: center; margin-top: 0;\">🔍 Justification du traitement des valeurs aberrantes</h2> </div> </div> <div style=\"background-color: #f5f0ff; padding: 25px; border-radius: 10px; box-shadow: 0 4px 8px rgba(0, 0, 0, 0.1); border-left: 5px solid #8e2de2; margin-top: 20px;\"> <div style=\"display: flex; align-items: center; margin-bottom: 20px;\"> <div style=\"background-color: #8e2de2; width: 50px; height: 50px; border-radius: 50%; display: flex; justify-content: center; align-items: center; margin-right: 15px; box-shadow: 0 2px 5px rgba(142, 45, 226, 0.3);\"> <span style=\"color: white; font-size: 24px;\">🌲</span> </div> <div> <h3 style=\"color: #8e2de2; margin: 0;\">Méthode de l'<span style=\"background-color: #e9dcff; padding: 2px 6px; border-radius: 4px;\">Isolation Forest</span></h3> <p style=\"margin: 5px 0 0 0; color: #666;\">Pour détecter les valeurs aberrantes multivariées</p> </div> </div> <div style=\"display: flex; flex-wrap: wrap; gap: 20px; margin: 25px 0;\"> <!-- Avantage 1 --> <div style=\"flex: 1; min-width: 250px; background-color: white; padding: 15px; border-radius: 8px; box-shadow: 0 2px 4px rgba(0, 0, 0, 0.1); border-top: 3px solid #8e2de2;\"> <div style=\"display: flex; align-items: center; margin-bottom: 10px;\"> <span style=\"color: #8e2de2; font-size: 20px; margin-right: 10px;\">💪</span> <h4 style=\"color: #8e2de2; margin: 0;\">Robustesse supérieure</h4> </div> <p style=\"margin: 0; padding-left: 30px;\">Cette méthode est <strong>plus robuste</strong> que les approches traditionnelles basées sur les quantiles.</p>\n",
    "  <div style=\"margin-top: 15px; background-color: #f5f0ff; padding: 10px; border-radius: 5px; font-size: 13px;\">\n",
    "    <p style=\"margin: 0;\"><em>Contrairement aux méthodes basées sur les écarts-types ou les quantiles, l'Isolation Forest n'est pas affecté par le masquage statistique.</em></p>\n",
    "  </div>\n",
    "</div>\n",
    "\n",
    "<!-- Avantage 2 -->\n",
    "<div style=\"flex: 1; min-width: 250px; background-color: white; padding: 15px; border-radius: 8px; box-shadow: 0 2px 4px rgba(0, 0, 0, 0.1); border-top: 3px solid #8e2de2;\">\n",
    "  <div style=\"display: flex; align-items: center; margin-bottom: 10px;\">\n",
    "    <span style=\"color: #8e2de2; font-size: 20px; margin-right: 10px;\">🔗</span>\n",
    "    <h4 style=\"color: #8e2de2; margin: 0;\">Détection multivariée</h4>\n",
    "  </div>\n",
    "  <p style=\"margin: 0; padding-left: 30px;\">Elle prend en compte les <strong>relations entre les variables</strong>, ce qui permet de détecter des <strong>anomalies complexes</strong>.</p>\n",
    "  \n",
    "  <div style=\"margin-top: 15px; background-color: #f5f0ff; padding: 10px; border-radius: 5px; font-size: 13px;\">\n",
    "    <p style=\"margin: 0;\"><em>Identifie des points qui semblent normaux sur chaque dimension individuelle mais anormaux dans l'espace multidimensionnel.</em></p>\n",
    "  </div>\n",
    "</div>\n",
    "</div> <!-- Comment ça fonctionne --> <div style=\"background-color: white; padding: 20px; border-radius: 8px; margin-top: 20px; box-shadow: 0 2px 4px rgba(0, 0, 0, 0.1);\"> <h4 style=\"color: #8e2de2; margin-top: 0; display: flex; align-items: center;\"> <span style=\"font-size: 20px; margin-right: 10px;\">⚙️</span> Comment fonctionne l'Isolation Forest </h4>\n",
    "<div style=\"display: flex; flex-wrap: wrap; gap: 15px; margin-top: 15px;\">\n",
    "  <div style=\"flex: 1; min-width: 200px;\">\n",
    "    <div style=\"background-color: #f5f0ff; padding: 10px; border-radius: 5px; height: 100%;\">\n",
    "      <p style=\"margin: 0;\"><strong>1.</strong> Construit des arbres de décision qui isolent chaque observation</p>\n",
    "    </div>\n",
    "  </div>\n",
    "  <div style=\"flex: 1; min-width: 200px;\">\n",
    "    <div style=\"background-color: #f5f0ff; padding: 10px; border-radius: 5px; height: 100%;\">\n",
    "      <p style=\"margin: 0;\"><strong>2.</strong> Les valeurs aberrantes nécessitent moins de divisions pour être isolées</p>\n",
    "    </div>\n",
    "  </div>\n",
    "  <div style=\"flex: 1; min-width: 200px;\">\n",
    "    <div style=\"background-color: #f5f0ff; padding: 10px; border-radius: 5px; height: 100%;\">\n",
    "      <p style=\"margin: 0;\"><strong>3.</strong> Attribue un score d'anomalie basé sur la facilité d'isolation</p>\n",
    "    </div>\n",
    "  </div>\n",
    "</div>\n",
    "\n",
    "<div style=\"text-align: center; margin-top: 20px;\">\n",
    "  <div style=\"display: inline-block; background-color: #f5f0ff; padding: 8px 15px; border-radius: 20px; font-size: 14px;\">\n",
    "    <span style=\"color: #8e2de2;\">Paramètre clé: <strong>contamination = 0.05</strong> (5% de valeurs aberrantes attendues)</span>\n",
    "  </div>\n",
    "</div>\n",
    "</div> <!-- Avantages supplémentaires --> <div style=\"margin-top: 25px;\"> <div style=\"display: flex; align-items: center;\"> <div style=\"flex: 1; height: 1px; background-color: #8e2de2; opacity: 0.3;\"></div> <div style=\"margin: 0 15px;\"> <span style=\"color: #8e2de2; font-weight: bold;\">AVANTAGES SUPPLÉMENTAIRES</span> </div> <div style=\"flex: 1; height: 1px; background-color: #8e2de2; opacity: 0.3;\"></div> </div>\n",
    "<div style=\"display: flex; flex-wrap: wrap; gap: 10px; margin-top: 15px;\">\n",
    "  <div style=\"flex: 1; min-width: 150px; background-color: white; padding: 10px; border-radius: 5px; text-align: center; box-shadow: 0 1px 3px rgba(0, 0, 0, 0.1);\">\n",
    "    <span style=\"color: #8e2de2; font-weight: bold;\">Efficacité</span>\n",
    "    <p style=\"margin: 5px 0 0 0; font-size: 13px;\">Complexité O(n log n)</p>\n",
    "  </div>\n",
    "  <div style=\"flex: 1; min-width: 150px; background-color: white; padding: 10px; border-radius: 5px; text-align: center; box-shadow: 0 1px 3px rgba(0, 0, 0, 0.1);\">\n",
    "    <span style=\"color: #8e2de2; font-weight: bold;\">Adaptabilité</span>\n",
    "    <p style=\"margin: 5px 0 0 0; font-size: 13px;\">Fonctionne avec différents types de données</p>\n",
    "  </div>\n",
    "  <div style=\"flex: 1; min-width: 150px; background-color: white; padding: 10px; border-radius: 5px; text-align: center; box-shadow: 0 1px 3px rgba(0, 0, 0, 0.1);\">\n",
    "    <span style=\"color: #8e2de2; font-weight: bold;\">Interprétabilité</span>\n",
    "    <p style=\"margin: 5px 0 0 0; font-size: 13px;\">Fournit des scores d'anomalie</p>\n",
    "  </div>\n",
    "</div>\n",
    "</div> </div> <div style=\"background-color: #f8f9fa; border-left: 5px solid #5f6368; padding: 15px; border-radius: 5px; margin-top: 25px;\"> <p style=\"margin: 0; font-style: italic; color: #5f6368;\"> <strong>Application dans notre projet:</strong> L'Isolation Forest nous permet d'identifier les observations dont les caractéristiques socio-démographiques et économiques s'écartent significativement des tendances générales, sans être biaisé par les distributions asymétriques typiques des données de revenu. </p> </div>"
   ]
  },
  {
   "cell_type": "markdown",
   "id": "5c857e50-681d-4298-aeeb-4807933f28c5",
   "metadata": {},
   "source": [
    "### Détection des valeurs aberrantes avec Isolation Forest"
   ]
  },
  {
   "cell_type": "code",
   "execution_count": 15,
   "id": "c176583c-b01b-497d-b3e3-5c46c007875f",
   "metadata": {},
   "outputs": [],
   "source": [
    "features_for_outlier = ['age', 'annees_experience', 'revenu_annuel']\n",
    "X = df[features_for_outlier].copy()"
   ]
  },
  {
   "cell_type": "markdown",
   "id": "1dc81c87-2243-47cf-bf07-4d32ebafcfb1",
   "metadata": {},
   "source": [
    "### Appliquer Isolation Forest"
   ]
  },
  {
   "cell_type": "code",
   "execution_count": 16,
   "id": "3d7ea8c5-d644-47ec-9547-e8d37b4926a8",
   "metadata": {},
   "outputs": [],
   "source": [
    "iso_forest = IsolationForest(contamination=0.05, random_state=42)\n",
    "outliers = iso_forest.fit_predict(X)\n",
    "df['outlier'] = outliers"
   ]
  },
  {
   "cell_type": "markdown",
   "id": "e543a6e3-f79a-483b-a878-c7a3d124b2c9",
   "metadata": {},
   "source": [
    "### Compter les valeurs aberrantes"
   ]
  },
  {
   "cell_type": "code",
   "execution_count": 17,
   "id": "c3a0afff-3ec6-4620-b567-e998fe30e4d2",
   "metadata": {},
   "outputs": [
    {
     "name": "stdout",
     "output_type": "stream",
     "text": [
      "Nombre de valeurs aberrantes détectées: 2000 (5.00%)\n"
     ]
    }
   ],
   "source": [
    "n_outliers = (outliers == -1).sum()\n",
    "print(f\"Nombre de valeurs aberrantes détectées: {n_outliers} ({n_outliers/len(df)*100:.2f}%)\")"
   ]
  },
  {
   "cell_type": "markdown",
   "id": "ac1f6c0f-8fd4-4c2f-8de1-e44b433f12ce",
   "metadata": {},
   "source": [
    "### Visualiser les valeurs aberrantes"
   ]
  },
  {
   "cell_type": "code",
   "execution_count": 18,
   "id": "037bd612-29b1-4edf-909c-a55bea7d9d1e",
   "metadata": {},
   "outputs": [
    {
     "data": {
      "image/png": "[encoded data removed]",
      "text/plain": [
       "<Figure size 1200x600 with 1 Axes>"
      ]
     },
     "metadata": {},
     "output_type": "display_data"
    }
   ],
   "source": [
    "plt.figure(figsize=(12, 6))\n",
    "plt.scatter(df[df['outlier'] == 1]['age'], df[df['outlier'] == 1]['revenu_annuel'], \n",
    "           alpha=0.5, label='Normal', color='blue')\n",
    "plt.scatter(df[df['outlier'] == -1]['age'], df[df['outlier'] == -1]['revenu_annuel'], \n",
    "           alpha=0.5, label='Aberrant', color='red')\n",
    "plt.title('Détection des valeurs aberrantes: Âge vs Revenu Annuel')\n",
    "plt.xlabel('Âge')\n",
    "plt.ylabel('Revenu Annuel (DH)')\n",
    "plt.legend()\n",
    "plt.show()"
   ]
  },
  {
   "cell_type": "markdown",
   "id": "6971262a-ca5c-4737-a4d9-ac429e5e9df7",
   "metadata": {},
   "source": [
    "<div style=\"background: linear-gradient(to right, #ff7e5f, #feb47b); padding: 2px; border-radius: 10px; margin-bottom: 20px;\"> <div style=\"background: white; border-radius: 8px; padding: 15px;\"> <h2 style=\"color: #ff7e5f; text-align: center; margin-top: 0;\">⚠️ Traitement des valeurs aberrantes</h2> </div> </div> <div style=\"position: relative; margin-top: 30px; margin-bottom: 40px;\"> <!-- Ligne de processus --> <div style=\"position: absolute; top: 40px; left: 0; right: 0; height: 4px; background-color: #f0f0f0; z-index: 1;\"></div> <!-- Étape 1: Détection --> <div style=\"position: relative; z-index: 2; width: 33%; float: left; text-align: center;\"> <div style=\"width: 80px; height: 80px; border-radius: 50%; background: linear-gradient(135deg, #ff7e5f, #feb47b); margin: 0 auto; display: flex; justify-content: center; align-items: center; box-shadow: 0 4px 8px rgba(0,0,0,0.1);\"> <span style=\"font-size: 30px; color: white;\">🔍</span> </div> <h4 style=\"color: #ff7e5f; margin-top: 10px;\">Détection</h4> <p style=\"font-size: 13px; color: #666; padding: 0 10px;\">Isolation Forest</p> </div> <!-- Étape 2: Classification --> <div style=\"position: relative; z-index: 2; width: 33%; float: left; text-align: center;\"> <div style=\"width: 80px; height: 80px; border-radius: 50%; background: linear-gradient(135deg, #ff7e5f, #feb47b); margin: 0 auto; display: flex; justify-content: center; align-items: center; box-shadow: 0 4px 8px rgba(0,0,0,0.1);\"> <span style=\"font-size: 30px; color: white;\">🔄</span> </div> <h4 style=\"color: #ff7e5f; margin-top: 10px;\">Classification</h4> <p style=\"font-size: 13px; color: #666; padding: 0 10px;\">Extrêmes vs Modérées</p> </div> <!-- Étape 3: Traitement --> <div style=\"position: relative; z-index: 2; width: 33%; float: left; text-align: center;\"> <div style=\"width: 80px; height: 80px; border-radius: 50%; background: linear-gradient(135deg, #ff7e5f, #feb47b); margin: 0 auto; display: flex; justify-content: center; align-items: center; box-shadow: 0 4px 8px rgba(0,0,0,0.1);\"> <span style=\"font-size: 30px; color: white;\">✅</span> </div> <h4 style=\"color: #ff7e5f; margin-top: 10px;\">Traitement</h4> <p style=\"font-size: 13px; color: #666; padding: 0 10px;\">Suppression ou Pondération</p> </div> <div style=\"clear: both;\"></div> </div> <div style=\"display: flex; flex-wrap: wrap; gap: 20px; margin-top: 30px;\"> <!-- Approche 1: Suppression --> <div style=\"flex: 1; min-width: 300px; background-color: #fff5f2; padding: 20px; border-radius: 10px; box-shadow: 0 4px 6px rgba(0, 0, 0, 0.1); border-left: 5px solid #ff7e5f;\"> <div style=\"display: flex; align-items: center; margin-bottom: 15px;\"> <div style=\"background-color: #ff7e5f; width: 40px; height: 40px; border-radius: 50%; display: flex; justify-content: center; align-items: center; margin-right: 15px; box-shadow: 0 2px 4px rgba(255, 126, 95, 0.3);\"> <span style=\"color: white; font-size: 20px;\">1</span> </div> <h3 style=\"color: #ff7e5f; margin: 0;\">Suppression des valeurs extrêmes</h3> </div>\n",
    "<div style=\"padding-left: 55px;\">\n",
    "  <p><strong>Suppression</strong> des valeurs aberrantes <span style=\"background-color: #ffebe5; padding: 2px 6px; border-radius: 4px; font-weight: bold;\">extrêmes</span> pour éviter qu'elles ne faussent l'analyse.</p>\n",
    "  \n",
    "  <div style=\"background-color: #ffebe5; padding: 15px; border-radius: 5px; margin-top: 15px;\">\n",
    "    <div style=\"display: flex; align-items: center;\">\n",
    "      <span style=\"color: #ff7e5f; font-size: 24px; margin-right: 10px;\">💡</span>\n",
    "      <p style=\"margin: 0;\"><strong>Critères de suppression:</strong></p>\n",
    "    </div>\n",
    "    <ul style=\"margin-top: 10px; margin-bottom: 0; padding-left: 35px;\">\n",
    "      <li>Âge > 100 ans</li>\n",
    "      <li>Revenu annuel > 1 000 000 DH</li>\n",
    "      <li>Autres critères métier spécifiques</li>\n",
    "    </ul>\n",
    "  </div>\n",
    "  \n",
    "  <div style=\"display: flex; align-items: center; margin-top: 20px;\">\n",
    "    <div style=\"width: 24px; height:"
   ]
  },
  {
   "cell_type": "markdown",
   "id": "94dfdcf0-9329-4532-bf8f-277027f2ed73",
   "metadata": {},
   "source": [
    "### Supprimer les valeurs aberrantes extrêmes"
   ]
  },
  {
   "cell_type": "code",
   "execution_count": 19,
   "id": "c4fa7650-07af-4fc7-8e88-72785ef86866",
   "metadata": {},
   "outputs": [
    {
     "name": "stdout",
     "output_type": "stream",
     "text": [
      "Suppression de 383 valeurs aberrantes extrêmes\n"
     ]
    }
   ],
   "source": [
    "extreme_outliers = (df['age'] > 100) | (df['revenu_annuel'] > 1000000)\n",
    "n_extreme = extreme_outliers.sum()\n",
    "\n",
    "if n_extreme > 0:\n",
    "    print(f\"Suppression de {n_extreme} valeurs aberrantes extrêmes\")\n",
    "    df = df[~extreme_outliers]\n",
    "else:\n",
    "    print(\"Aucune valeur aberrante extrême détectée\")"
   ]
  },
  {
   "cell_type": "markdown",
   "id": "7477bf48-ee4b-45fd-8c4f-65a13a22afb9",
   "metadata": {},
   "source": [
    "### **Pour les autres valeurs aberrantes, nous les conservons mais nous les marquerons**\n",
    "### **pour leur donner un poids réduit lors de la modélisation**"
   ]
  },
  {
   "cell_type": "code",
   "execution_count": 20,
   "id": "41eb35d3-0759-4fc1-a4ec-0fa8860433a6",
   "metadata": {},
   "outputs": [
    {
     "name": "stdout",
     "output_type": "stream",
     "text": [
      "Attribution d'un poids réduit (0.5) à 1617 valeurs aberrantes modérées\n"
     ]
    }
   ],
   "source": [
    "df['weight'] = 1.0\n",
    "df.loc[df['outlier'] == -1, 'weight'] = 0.5\n",
    "print(f\"Attribution d'un poids réduit (0.5) à {(df['outlier'] == -1).sum()} valeurs aberrantes modérées\")"
   ]
  },
  {
   "cell_type": "markdown",
   "id": "637f0451-6435-4e73-9678-fb691d579e8a",
   "metadata": {},
   "source": [
    "### Statistiques après traitement"
   ]
  },
  {
   "cell_type": "code",
   "execution_count": 21,
   "id": "45c79616-84a9-4113-93db-8401bf73df4a",
   "metadata": {},
   "outputs": [
    {
     "name": "stdout",
     "output_type": "stream",
     "text": [
      "\n",
      "Statistiques descriptives après traitement des valeurs aberrantes:\n",
      "                age  annees_experience  revenu_annuel\n",
      "count  39617.000000       39617.000000   39617.000000\n",
      "mean      48.520383          29.062700   21766.168362\n",
      "std       17.922183          17.508697   45170.514828\n",
      "min       18.000000           0.000000     318.000000\n",
      "25%       33.000000          14.000000    4081.000000\n",
      "50%       48.000000          29.000000    8969.000000\n",
      "75%       64.000000          44.000000   20502.000000\n",
      "max      100.000000          64.000000  599614.000000\n"
     ]
    }
   ],
   "source": [
    "print(\"\\nStatistiques descriptives après traitement des valeurs aberrantes:\")\n",
    "print(df[numeric_features].describe())"
   ]
  },
  {
   "cell_type": "markdown",
   "id": "b0f4f4fa-3041-40b8-9da6-6ff14a36c96b",
   "metadata": {},
   "source": [
    "## 2.5 Résumé du nettoyage"
   ]
  },
  {
   "cell_type": "markdown",
   "id": "4a2afacd-192e-464e-8928-0f3f6dc37a9a",
   "metadata": {},
   "source": [
    "<div style=\"background: linear-gradient(to right, #4facfe, #00f2fe); padding: 2px; border-radius: 10px; margin-bottom: 20px;\"> <div style=\"background: white; border-radius: 8px; padding: 15px;\"> <h2 style=\"color: #4facfe; text-align: center; margin-top: 0;\">📊 Résumé du nettoyage des données</h2> </div> </div> <div style=\"display: flex; flex-wrap: wrap; gap: 20px; margin: 30px 0;\"> <!-- Carte 1: Doublons supprimés --> <div style=\"flex: 1; min-width: 200px; background-color: #f0f7ff; padding: 20px; border-radius: 10px; box-shadow: 0 4px 6px rgba(0, 0, 0, 0.1); border-top: 5px solid #4facfe;\"> <div style=\"display: flex; justify-content: space-between; align-items: center; margin-bottom: 15px;\"> <h3 style=\"color: #4facfe; margin: 0; font-size: 18px;\">Doublons supprimés</h3> <div style=\"background-color: #4facfe; width: 40px; height: 40px; border-radius: 50%; display: flex; justify-content: center; align-items: center; box-shadow: 0 2px 4px rgba(79, 172, 254, 0.3);\"> <span style=\"color: white; font-size: 20px;\">👥</span> </div> </div>\n",
    "<div style=\"text-align: center; margin: 20px 0;\">\n",
    "  <span style=\"font-size: 36px; font-weight: bold; color: #4facfe; font-family: 'Arial', sans-serif;\">n_duplicates</span>\n",
    "  <p style=\"margin: 5px 0 0 0; color: #666; font-size: 14px;\">enregistrements dupliqués</p>\n",
    "</div>\n",
    "\n",
    "<div style=\"background-color: rgba(79, 172, 254, 0.1); padding: 10px; border-radius: 5px; font-size: 13px; text-align: center;\">\n",
    "  <p style=\"margin: 0;\"><span style=\"color: #4facfe; font-weight: bold;\">Impact:</span> Amélioration de la qualité des données et réduction du biais d'échantillonnage</p>\n",
    "</div>\n",
    "</div> <!-- Carte 2: Valeurs manquantes traitées --> <div style=\"flex: 1; min-width: 200px; background-color: #f0fff4; padding: 20px; border-radius: 10px; box-shadow: 0 4px 6px rgba(0, 0, 0, 0.1); border-top: 5px solid #00c853;\"> <div style=\"display: flex; justify-content: space-between; align-items: center; margin-bottom: 15px;\"> <h3 style=\"color: #00c853; margin: 0; font-size: 18px;\">Valeurs manquantes traitées</h3> <div style=\"background-color: #00c853; width: 40px; height: 40px; border-radius: 50%; display: flex; justify-content: center; align-items: center; box-shadow: 0 2px 4px rgba(0, 200, 83, 0.3);\"> <span style=\"color: white; font-size: 20px;\">🔍</span> </div> </div>\n",
    "<div style=\"text-align: center; margin: 20px 0;\">\n",
    "  <span style=\"font-size: 36px; font-weight: bold; color: #00c853; font-family: 'Arial', sans-serif;\">missing_df['Valeurs manquantes'].sum()</span>\n",
    "  <p style=\"margin: 5px 0 0 0; color: #666; font-size: 14px;\">cellules complétées</p>\n",
    "</div>\n",
    "\n",
    "<div style=\"background-color: rgba(0, 200, 83, 0.1); padding: 10px; border-radius: 5px; font-size: 13px; text-align: center;\">\n",
    "  <p style=\"margin: 0;\"><span style=\"color: #00c853; font-weight: bold;\">Méthode:</span> Médiane pour variables numériques, Mode pour variables catégorielles</p>\n",
    "</div>\n",
    "</div> </div> <div style=\"display: flex; flex-wrap: wrap; gap: 20px; margin: 20px 0;\"> <!-- Carte 3: Valeurs aberrantes --> <div style=\"flex: 1; min-width: 200px; background-color: #fff8e1; padding: 20px; border-radius: 10px; box-shadow: 0 4px 6px rgba(0, 0, 0, 0.1); border-top: 5px solid #ffc107;\"> <div style=\"display: flex; justify-content: space-between; align-items: center; margin-bottom: 15px;\"> <h3 style=\"color: #ffc107; margin: 0; font-size: 18px;\">Valeurs aberrantes traitées</h3> <div style=\"background-color: #ffc107; width: 40px; height: 40px; border-radius: 50%; display: flex; justify-content: center; align-items: center; box-shadow: 0 2px 4px rgba(255, 193, 7, 0.3);\"> <span style=\"color: white; font-size: 20px;\">⚠️</span> </div> </div>\n",
    "<div style=\"display: flex; flex-wrap: wrap; gap: 15px; margin: 20px 0;\">\n",
    "  <div style=\"flex: 1; min-width: 120px; background-color: rgba(255, 193, 7, 0.1); padding: 15px; border-radius: 8px; text-align: center;\">\n",
    "    <span style=\"font-size: 24px; font-weight: bold; color: #ff7043; font-family: 'Arial', sans-serif;\">n_extreme</span>\n",
    "    <p style=\"margin: 5px 0 0 0; color: #666; font-size: 13px;\">valeurs extrêmes supprimées</p>\n",
    "  </div>\n",
    "  \n",
    "  <div style=\"flex: 1; min-width: 120px; background-color: rgba(255, 193, 7, 0.1); padding: 15px; border-radius: 8px; text-align: center;\">\n",
    "    <span style=\"font-size: 24px; font-weight: bold; color: #ff9800; font-family: 'Arial', sans-serif;\">(df['outlier'] == -1).sum()</span>\n",
    "    <p style=\"margin: 5px 0 0 0; color: #666; font-size: 13px;\">valeurs modérées pondérées</p>\n",
    "  </div>\n",
    "</div>\n",
    "\n",
    "<div style=\"background-color: rgba(255, 193, 7, 0.1); padding: 10px; border-radius: 5px; font-size: 13px; text-align: center; margin-top: 10px;\">\n",
    "  <p style=\"margin: 0;\"><span style=\"color: #ffc107; font-weight: bold;\">Méthode:</span> Isolation Forest pour détection multivariée</p>\n",
    "</div>\n",
    "</div> <!-- Carte 4: Dimensions finales --> <div style=\"flex: 1; min-width: 200px; background-color: #f3e5f5; padding: 20px; border-radius: 10px; box-shadow: 0 4px 6px rgba(0, 0, 0, 0.1); border-top: 5px solid #9c27b0;\"> <div style=\"display: flex; justify-content: space-between; align-items: center; margin-bottom: 15px;\"> <h3 style=\"color: #9c27b0; margin: 0; font-size: 18px;\">Dimensions finales</h3> <div style=\"background-color: #9c27b0; width: 40px; height: 40px; border-radius: 50%; display: flex; justify-content: center; align-items: center; box-shadow: 0 2px 4px rgba(156, 39, 176, 0.3);\"> <span style=\"color: white; font-size: 20px;\">📏</span> </div> </div>\n",
    "<div style=\"text-align: center; margin: 20px 0;\">\n",
    "  <div style=\"display: flex; align-items: center; justify-content: center;\">\n",
    "    <span style=\"font-size: 36px; font-weight: bold; color: #9c27b0; font-family: 'Arial', sans-serif;\">df.shape[0]</span>\n",
    "    <span style=\"margin: 0 10px; color: #9c27b0; font-size: 24px;\">×</span>\n",
    "    <span style=\"font-size: 36px; font-weight: bold; color: #9c27b0; font-family: 'Arial', sans-serif;\">df.shape[1]</span>\n",
    "  </div>\n",
    "  <p style=\"margin: 5px 0 0 0; color: #666; font-size: 14px;\">lignes × colonnes</p>\n",
    "</div>\n",
    "\n",
    "<div style=\"background-color: rgba(156, 39, 176, 0.1); padding: 10px; border-radius: 5px; font-size: 13px; text-align: center;\">\n",
    "  <p style=\"margin: 0;\"><span style=\"color: #9c27b0; font-weight: bold;\">Résultat:</span> Dataset propre et prêt pour la modélisation</p>\n",
    "</div>\n",
    "</div> </div> <div style=\"background-color: #e3f2fd; border-radius: 10px; padding: 15px; margin-top: 30px; display: flex; align-items: center; border-left: 5px solid #2196f3;\"> <div style=\"background-color: #2196f3; width: 40px; height: 40px; border-radius: 50%; display: flex; justify-content: center; align-items: center; margin-right: 15px;\"> <span style=\"color: white; font-size: 20px;\">💾</span> </div> <div> <p style=\"margin: 0; color: #2196f3; font-weight: bold;\">Dataset nettoyé sauvegardé</p> <p style=\"margin: 5px 0 0 0; color: #666;\">Le dataset final a été sauvegardé sous <code>dataset_revenu_marocains_nettoye.csv</code></p> </div> </div> <!-- Note: Remplacez les variables (n_duplicates, etc.) par les valeurs réelles de votre analyse -->\n"
   ]
  },
  {
   "cell_type": "markdown",
   "id": "0efa3e5d-2a07-4b56-b204-ddc2bf8c32b9",
   "metadata": {},
   "source": [
    "### Sauvegarde du dataset nettoyé"
   ]
  },
  {
   "cell_type": "code",
   "execution_count": 22,
   "id": "c005eae8-c79b-408a-a1c2-fd2ecb74edbd",
   "metadata": {},
   "outputs": [
    {
     "name": "stdout",
     "output_type": "stream",
     "text": [
      "\n",
      "Dataset nettoyé sauvegardé sous 'dataset_revenu_marocains_nettoye.csv'\n"
     ]
    }
   ],
   "source": [
    "df.to_csv('dataset_revenu_marocains_nettoye.csv', index=False)\n",
    "print(\"\\nDataset nettoyé sauvegardé sous 'dataset_revenu_marocains_nettoye.csv'\")"
   ]
  },
  {
   "cell_type": "code",
   "execution_count": 23,
   "id": "ea71d481-42d3-4e29-ba32-8c64161d6754",
   "metadata": {},
   "outputs": [
    {
     "name": "stdout",
     "output_type": "stream",
     "text": [
      "Index(['age', 'sexe', 'milieu', 'etat_matrimonial', 'region',\n",
      "       'niveau_education', 'categorie_socioprofessionnelle', 'taille_foyer',\n",
      "       'aide_sociale', 'a_acces_credit', 'a_retraite', 'possede_voiture',\n",
      "       'possede_logement', 'possede_terrain', 'categorie_age',\n",
      "       'annees_experience', 'revenu_annuel', 'age_en_mois', 'est_urbain',\n",
      "       'est_marie', 'id_utilisateur', 'date_enregistrement', 'code_postal',\n",
      "       'outlier', 'weight'],\n",
      "      dtype='object')\n"
     ]
    }
   ],
   "source": [
    "print(df.columns)\n"
   ]
  },
  {
   "cell_type": "markdown",
   "id": "e84f3423-6b83-43f2-a769-768be4ced933",
   "metadata": {},
   "source": [
    "# 3. **Transformation des données**"
   ]
  },
  {
   "cell_type": "markdown",
   "id": "b8e2d1b0-b806-426a-95e0-f4b864b9454e",
   "metadata": {},
   "source": [
    "<div style=\"background: linear-gradient(to right, #ff6b6b, #ff8e8e); padding: 2px; border-radius: 10px; margin-bottom: 20px;\"> <div style=\"background: white; border-radius: 8px; padding: 15px;\"> <h2 style=\"color: #ff6b6b; text-align: center; margin-top: 0;\">🗑️ Suppression des attributs non discriminants</h2> </div> </div> <div style=\"background-color: #fff5f5; padding: 20px; border-radius: 10px; margin-bottom: 20px; border-left: 5px solid #ff6b6b;\"> <p style=\"margin-top: 0;\">Certains attributs n'ont pas de valeur prédictive ou peuvent introduire du bruit dans le modèle. Leur suppression permet d'améliorer la performance et l'interprétabilité du modèle final.</p> </div> <div style=\"display: flex; flex-wrap: wrap; gap: 20px; margin: 25px 0;\"> <!-- Attribut 1: id_utilisateur --> <div style=\"flex: 1; min-width: 300px; background-color: white; padding: 20px; border-radius: 10px; box-shadow: 0 4px 8px rgba(0, 0, 0, 0.1); position: relative; overflow: hidden;\"> <div style=\"position: absolute; top: 0; right: 0; background-color: #ff6b6b; color: white; padding: 5px 15px; border-bottom-left-radius: 10px; font-size: 12px; font-weight: bold;\"> SUPPRIMÉ </div> <div style=\"display: flex; align-items: center; margin-bottom: 15px;\"> <div style=\"background-color: #ff6b6b; width: 40px; height: 40px; border-radius: 8px; display: flex; justify-content: center; align-items: center; margin-right: 15px; box-shadow: 0 2px 4px rgba(255, 107, 107, 0.3);\"> <span style=\"color: white; font-size: 20px;\">🔑</span> </div> <div> <h3 style=\"color: #ff6b6b; margin: 0; font-family: monospace; font-size: 18px;\">id_utilisateur</h3> <p style=\"margin: 5px 0 0 0; color: #666; font-size: 14px;\">Identifiant unique</p> </div> </div> <div style=\"background-color: #fff5f5; padding: 15px; border-radius: 8px; margin-top: 15px;\"> <div style=\"display: flex; align-items: flex-start;\"> <span style=\"color: #ff6b6b; font-size: 20px; margin-right: 10px; margin-top: 2px;\">❌</span> <p style=\"margin: 0;\"><strong>Justification:</strong> Identifiant unique sans valeur prédictive. Ne contient aucune information utile pour la prédiction du revenu.</p> </div> </div> <div style=\"display: flex; align-items: center; margin-top: 15px; background-color: #f9f9f9; padding: 10px; border-radius: 8px;\"> <span style=\"color: #666; font-size: 18px; margin-right: 10px;\">💡</span> <p style=\"margin: 0; font-style: italic; color: #666; font-size: 14px;\">Les identifiants uniques créent un risque de sur-apprentissage en permettant au modèle de \"mémoriser\" les exemples plutôt que de généraliser.</p> </div> </div> <!-- Attribut 2: date_enregistrement --> <div style=\"flex: 1; min-width: 300px; background-color: white; padding: 20px; border-radius: 10px; box-shadow: 0 4px 8px rgba(0, 0, 0, 0.1); position: relative; overflow: hidden;\"> <div style=\"position: absolute; top: 0; right: 0; background-color: #ff6b6b; color: white; padding: 5px 15px; border-bottom-left-radius: 10px; font-size: 12px; font-weight: bold;\"> SUPPRIMÉ </div> <div style=\"display: flex; align-items: center; margin-bottom: 15px;\"> <div style=\"background-color: #ff6b6b; width: 40px; height: 40px; border-radius: 8px; display: flex; justify-content: center; align-items: center; margin-right: 15px; box-shadow: 0 2px 4px rgba(255, 107, 107, 0.3);\"> <span style=\"color: white; font-size: 20px;\">📅</span> </div> <div> <h3 style=\"color: #ff6b6b; margin: 0; font-family: monospace; font-size: 18px;\">date_enregistrement</h3> <p style=\"margin: 5px 0 0 0; color: #666; font-size: 14px;\">Date d'enregistrement</p> </div> </div> <div style=\"background-color: #fff5f5; padding: 15px; border-radius: 8px; margin-top: 15px;\"> <div style=\"display: flex; align-items: flex-start;\"> <span style=\"color: #ff6b6b; font-size: 20px; margin-right: 10px; margin-top: 2px;\">❌</span> <p style=\"margin: 0;\"><strong>Justification:</strong> Information difficile à exploiter sans transformation. La date brute n'a pas d'impact direct sur le revenu.</p> </div> </div> <div style=\"display: flex; align-items: center; margin-top: 15px; background-color: #f9f9f9; padding: 10px; border-radius: 8px;\"> <span style=\"color: #666; font-size: 18px; margin-right: 10px;\">💡</span> <p style=\"margin: 0; font-style: italic; color: #666; font-size: 14px;\">Pour exploiter cette information, il faudrait extraire des caractéristiques temporelles pertinentes (saison, mois, année, etc.).</p> </div> </div> </div> <div style=\"display: flex; flex-wrap: wrap; gap: 20px; margin: 25px 0;\"> <!-- Attribut 3: code_postal --> <div style=\"flex: 1; min-width: 300px; background-color: white; padding: 20px; border-radius: 10px; box-shadow: 0 4px 8px rgba(0, 0, 0, 0.1); position: relative; overflow: hidden;\"> <div style=\"position: absolute; top: 0; right: 0; background-color: #ff6b6b; color: white; padding: 5px 15px; border-bottom-left-radius: 10px; font-size: 12px; font-weight: bold;\"> SUPPRIMÉ </div> <div style=\"display: flex; align-items: center; margin-bottom: 15px;\"> <div style=\"background-color: #ff6b6b; width: 40px; height: 40px; border-radius: 8px; display: flex; justify-content: center; align-items: center; margin-right: 15px; box-shadow: 0 2px 4px rgba(255, 107, 107, 0.3);\"> <span style=\"color: white; font-size: 20px;\">📍</span> </div> <div> <h3 style=\"color: #ff6b6b; margin: 0; font-family: monospace; font-size: 18px;\">code_postal</h3> <p style=\"margin: 5px 0 0 0; color: #666; font-size: 14px;\">Code postal</p> </div> </div> <div style=\"background-color: #fff5f5; padding: 15px; border-radius: 8px; margin-top: 15px;\"> <div style=\"display: flex; align-items: flex-start;\"> <span style=\"color: #ff6b6b; font-size: 20px; margin-right: 10px; margin-top: 2px;\">❌</span> <p style=\"margin: 0;\"><strong>Justification:</strong> Très spécifique, peut introduire du sur-apprentissage. La granularité est trop fine pour une généralisation efficace.</p> </div> </div> <div style=\"display: flex; align-items: center; margin-top: 15px; background-color: #f9f9f9; padding: 10px; border-radius: 8px;\"> <span style=\"color: #666; font-size: 18px; margin-right: 10px;\">💡</span> <p style=\"margin: 0; font-style: italic; color: #666; font-size: 14px;\">La variable \"région\" est conservée car elle capture l'information géographique à un niveau plus approprié pour la modélisation.</p> </div> </div> <!-- Alternatives --> <div style=\"flex: 1; min-width: 300px; background-color: #f0f9ff; padding: 20px; border-radius: 10px; box-shadow: 0 4px 8px rgba(0, 0, 0, 0.1); border-left: 5px solid #3498db;\"> <div style=\"display: flex; align-items: center; margin-bottom: 15px;\"> <div style=\"background-color: #3498db; width: 40px; height: 40px; border-radius: 8px; display: flex; justify-content: center; align-items: center; margin-right: 15px; box-shadow: 0 2px 4px rgba(52, 152, 219, 0.3);\"> <span style=\"color: white; font-size: 20px;\">💭</span> </div> <h3 style=\"color: #3498db; margin: 0;\">Alternatives possibles</h3> </div> <p>Au lieu de supprimer complètement ces variables, on aurait pu envisager:</p> <ul style=\"padding-left: 20px; margin-top: 10px;\"> <li style=\"margin-bottom: 10px;\"> <strong style=\"color: #3498db;\">Pour date_enregistrement:</strong> Extraire le mois, l'année, ou calculer l'ancienneté </li> <li style=\"margin-bottom: 10px;\"> <strong style=\"color: #3498db;\">Pour code_postal:</strong> Regrouper par zones géographiques plus larges ou créer des clusters </li> <li> <strong style=\"color: #3498db;\">Pour id_utilisateur:</strong> Aucune transformation pertinente possible </li> </ul> <div style=\"background-color: #e1f5fe; padding: 10px; border-radius: 8px; margin-top: 15px;\"> <p style=\"margin: 0; font-style: italic; color: #0277bd; font-size: 14px;\">Ces transformations n'ont pas été retenues pour ce projet afin de privilégier la simplicité du modèle et éviter l'introduction de variables potentiellement non pertinentes.</p> </div> </div> </div> < </div> </div> </div>"
   ]
  },
  {
   "cell_type": "code",
   "execution_count": 25,
   "id": "fa446c2a-29a1-42df-aec6-137b7be61293",
   "metadata": {
    "scrolled": true
   },
   "outputs": [
    {
     "ename": "KeyError",
     "evalue": "\"['id_utilisateur', 'date_enregistrement', 'code_postal', 'age_en_mois', 'categorie_age'] not found in axis\"",
     "output_type": "error",
     "traceback": [
      "\u001b[31m---------------------------------------------------------------------------\u001b[39m",
      "\u001b[31mKeyError\u001b[39m                                  Traceback (most recent call last)",
      "\u001b[36mCell\u001b[39m\u001b[36m \u001b[39m\u001b[32mIn[25]\u001b[39m\u001b[32m, line 1\u001b[39m\n\u001b[32m----> \u001b[39m\u001b[32m1\u001b[39m \u001b[43mdf\u001b[49m\u001b[43m.\u001b[49m\u001b[43mdrop\u001b[49m\u001b[43m(\u001b[49m\u001b[43mcolumns\u001b[49m\u001b[43m=\u001b[49m\u001b[43m[\u001b[49m\u001b[33;43m'\u001b[39;49m\u001b[33;43mid_utilisateur\u001b[39;49m\u001b[33;43m'\u001b[39;49m\u001b[43m,\u001b[49m\u001b[43m \u001b[49m\u001b[33;43m'\u001b[39;49m\u001b[33;43mdate_enregistrement\u001b[39;49m\u001b[33;43m'\u001b[39;49m\u001b[43m,\u001b[49m\u001b[43m \u001b[49m\u001b[33;43m'\u001b[39;49m\u001b[33;43mcode_postal\u001b[39;49m\u001b[33;43m'\u001b[39;49m\u001b[43m,\u001b[49m\u001b[43m \u001b[49m\u001b[33;43m'\u001b[39;49m\u001b[33;43mage_en_mois\u001b[39;49m\u001b[33;43m'\u001b[39;49m\u001b[43m,\u001b[49m\u001b[43m \u001b[49m\u001b[33;43m'\u001b[39;49m\u001b[33;43mcategorie_age\u001b[39;49m\u001b[33;43m'\u001b[39;49m\u001b[43m]\u001b[49m\u001b[43m,\u001b[49m\u001b[43m \u001b[49m\u001b[43minplace\u001b[49m\u001b[43m=\u001b[49m\u001b[38;5;28;43;01mTrue\u001b[39;49;00m\u001b[43m)\u001b[49m\n",
      "\u001b[36mFile \u001b[39m\u001b[32m~\\AppData\\Local\\Programs\\Python\\Python312\\Lib\\site-packages\\pandas\\core\\frame.py:5581\u001b[39m, in \u001b[36mDataFrame.drop\u001b[39m\u001b[34m(self, labels, axis, index, columns, level, inplace, errors)\u001b[39m\n\u001b[32m   5433\u001b[39m \u001b[38;5;28;01mdef\u001b[39;00m\u001b[38;5;250m \u001b[39m\u001b[34mdrop\u001b[39m(\n\u001b[32m   5434\u001b[39m     \u001b[38;5;28mself\u001b[39m,\n\u001b[32m   5435\u001b[39m     labels: IndexLabel | \u001b[38;5;28;01mNone\u001b[39;00m = \u001b[38;5;28;01mNone\u001b[39;00m,\n\u001b[32m   (...)\u001b[39m\u001b[32m   5442\u001b[39m     errors: IgnoreRaise = \u001b[33m\"\u001b[39m\u001b[33mraise\u001b[39m\u001b[33m\"\u001b[39m,\n\u001b[32m   5443\u001b[39m ) -> DataFrame | \u001b[38;5;28;01mNone\u001b[39;00m:\n\u001b[32m   5444\u001b[39m \u001b[38;5;250m    \u001b[39m\u001b[33;03m\"\"\"\u001b[39;00m\n\u001b[32m   5445\u001b[39m \u001b[33;03m    Drop specified labels from rows or columns.\u001b[39;00m\n\u001b[32m   5446\u001b[39m \n\u001b[32m   (...)\u001b[39m\u001b[32m   5579\u001b[39m \u001b[33;03m            weight  1.0     0.8\u001b[39;00m\n\u001b[32m   5580\u001b[39m \u001b[33;03m    \"\"\"\u001b[39;00m\n\u001b[32m-> \u001b[39m\u001b[32m5581\u001b[39m     \u001b[38;5;28;01mreturn\u001b[39;00m \u001b[38;5;28;43msuper\u001b[39;49m\u001b[43m(\u001b[49m\u001b[43m)\u001b[49m\u001b[43m.\u001b[49m\u001b[43mdrop\u001b[49m\u001b[43m(\u001b[49m\n\u001b[32m   5582\u001b[39m \u001b[43m        \u001b[49m\u001b[43mlabels\u001b[49m\u001b[43m=\u001b[49m\u001b[43mlabels\u001b[49m\u001b[43m,\u001b[49m\n\u001b[32m   5583\u001b[39m \u001b[43m        \u001b[49m\u001b[43maxis\u001b[49m\u001b[43m=\u001b[49m\u001b[43maxis\u001b[49m\u001b[43m,\u001b[49m\n\u001b[32m   5584\u001b[39m \u001b[43m        \u001b[49m\u001b[43mindex\u001b[49m\u001b[43m=\u001b[49m\u001b[43mindex\u001b[49m\u001b[43m,\u001b[49m\n\u001b[32m   5585\u001b[39m \u001b[43m        \u001b[49m\u001b[43mcolumns\u001b[49m\u001b[43m=\u001b[49m\u001b[43mcolumns\u001b[49m\u001b[43m,\u001b[49m\n\u001b[32m   5586\u001b[39m \u001b[43m        \u001b[49m\u001b[43mlevel\u001b[49m\u001b[43m=\u001b[49m\u001b[43mlevel\u001b[49m\u001b[43m,\u001b[49m\n\u001b[32m   5587\u001b[39m \u001b[43m        \u001b[49m\u001b[43minplace\u001b[49m\u001b[43m=\u001b[49m\u001b[43minplace\u001b[49m\u001b[43m,\u001b[49m\n\u001b[32m   5588\u001b[39m \u001b[43m        \u001b[49m\u001b[43merrors\u001b[49m\u001b[43m=\u001b[49m\u001b[43merrors\u001b[49m\u001b[43m,\u001b[49m\n\u001b[32m   5589\u001b[39m \u001b[43m    \u001b[49m\u001b[43m)\u001b[49m\n",
      "\u001b[36mFile \u001b[39m\u001b[32m~\\AppData\\Local\\Programs\\Python\\Python312\\Lib\\site-packages\\pandas\\core\\generic.py:4788\u001b[39m, in \u001b[36mNDFrame.drop\u001b[39m\u001b[34m(self, labels, axis, index, columns, level, inplace, errors)\u001b[39m\n\u001b[32m   4786\u001b[39m \u001b[38;5;28;01mfor\u001b[39;00m axis, labels \u001b[38;5;129;01min\u001b[39;00m axes.items():\n\u001b[32m   4787\u001b[39m     \u001b[38;5;28;01mif\u001b[39;00m labels \u001b[38;5;129;01mis\u001b[39;00m \u001b[38;5;129;01mnot\u001b[39;00m \u001b[38;5;28;01mNone\u001b[39;00m:\n\u001b[32m-> \u001b[39m\u001b[32m4788\u001b[39m         obj = \u001b[43mobj\u001b[49m\u001b[43m.\u001b[49m\u001b[43m_drop_axis\u001b[49m\u001b[43m(\u001b[49m\u001b[43mlabels\u001b[49m\u001b[43m,\u001b[49m\u001b[43m \u001b[49m\u001b[43maxis\u001b[49m\u001b[43m,\u001b[49m\u001b[43m \u001b[49m\u001b[43mlevel\u001b[49m\u001b[43m=\u001b[49m\u001b[43mlevel\u001b[49m\u001b[43m,\u001b[49m\u001b[43m \u001b[49m\u001b[43merrors\u001b[49m\u001b[43m=\u001b[49m\u001b[43merrors\u001b[49m\u001b[43m)\u001b[49m\n\u001b[32m   4790\u001b[39m \u001b[38;5;28;01mif\u001b[39;00m inplace:\n\u001b[32m   4791\u001b[39m     \u001b[38;5;28mself\u001b[39m._update_inplace(obj)\n",
      "\u001b[36mFile \u001b[39m\u001b[32m~\\AppData\\Local\\Programs\\Python\\Python312\\Lib\\site-packages\\pandas\\core\\generic.py:4830\u001b[39m, in \u001b[36mNDFrame._drop_axis\u001b[39m\u001b[34m(self, labels, axis, level, errors, only_slice)\u001b[39m\n\u001b[32m   4828\u001b[39m         new_axis = axis.drop(labels, level=level, errors=errors)\n\u001b[32m   4829\u001b[39m     \u001b[38;5;28;01melse\u001b[39;00m:\n\u001b[32m-> \u001b[39m\u001b[32m4830\u001b[39m         new_axis = \u001b[43maxis\u001b[49m\u001b[43m.\u001b[49m\u001b[43mdrop\u001b[49m\u001b[43m(\u001b[49m\u001b[43mlabels\u001b[49m\u001b[43m,\u001b[49m\u001b[43m \u001b[49m\u001b[43merrors\u001b[49m\u001b[43m=\u001b[49m\u001b[43merrors\u001b[49m\u001b[43m)\u001b[49m\n\u001b[32m   4831\u001b[39m     indexer = axis.get_indexer(new_axis)\n\u001b[32m   4833\u001b[39m \u001b[38;5;66;03m# Case for non-unique axis\u001b[39;00m\n\u001b[32m   4834\u001b[39m \u001b[38;5;28;01melse\u001b[39;00m:\n",
      "\u001b[36mFile \u001b[39m\u001b[32m~\\AppData\\Local\\Programs\\Python\\Python312\\Lib\\site-packages\\pandas\\core\\indexes\\base.py:7070\u001b[39m, in \u001b[36mIndex.drop\u001b[39m\u001b[34m(self, labels, errors)\u001b[39m\n\u001b[32m   7068\u001b[39m \u001b[38;5;28;01mif\u001b[39;00m mask.any():\n\u001b[32m   7069\u001b[39m     \u001b[38;5;28;01mif\u001b[39;00m errors != \u001b[33m\"\u001b[39m\u001b[33mignore\u001b[39m\u001b[33m\"\u001b[39m:\n\u001b[32m-> \u001b[39m\u001b[32m7070\u001b[39m         \u001b[38;5;28;01mraise\u001b[39;00m \u001b[38;5;167;01mKeyError\u001b[39;00m(\u001b[33mf\u001b[39m\u001b[33m\"\u001b[39m\u001b[38;5;132;01m{\u001b[39;00mlabels[mask].tolist()\u001b[38;5;132;01m}\u001b[39;00m\u001b[33m not found in axis\u001b[39m\u001b[33m\"\u001b[39m)\n\u001b[32m   7071\u001b[39m     indexer = indexer[~mask]\n\u001b[32m   7072\u001b[39m \u001b[38;5;28;01mreturn\u001b[39;00m \u001b[38;5;28mself\u001b[39m.delete(indexer)\n",
      "\u001b[31mKeyError\u001b[39m: \"['id_utilisateur', 'date_enregistrement', 'code_postal', 'age_en_mois', 'categorie_age'] not found in axis\""
     ]
    }
   ],
   "source": [
    "df.drop(columns=['id_utilisateur', 'date_enregistrement', 'code_postal', 'age_en_mois', 'categorie_age'], inplace=True)"
   ]
  },
  {
   "cell_type": "code",
   "execution_count": null,
   "id": "11206203-ba36-42dd-9a87-1243ed71a80e",
   "metadata": {},
   "outputs": [],
   "source": [
    "df.head()\n"
   ]
  },
  {
   "cell_type": "markdown",
   "id": "4cf53b84-e5a8-4fe7-8230-ba2e38c8ca9c",
   "metadata": {},
   "source": [
    "<div style=\"background: linear-gradient(to right, #00b09b, #96c93d); padding: 2px; border-radius: 10px; margin-bottom: 20px;\"> <div style=\"background: white; border-radius: 8px; padding: 15px;\"> <h2 style=\"color: #00b09b; text-align: center; margin-top: 0;\">✨ Création de nouveaux attributs prédictifs</h2> </div> </div> <div style=\"background-color: #f0fff4; padding: 20px; border-radius: 10px; margin-bottom: 20px; border-left: 5px solid #00b09b;\"> <p style=\"margin-top: 0;\">Créer de nouveaux attributs peut améliorer la qualité du modèle en fournissant des indicateurs plus représentatifs. Cette technique d'ingénierie de caractéristiques permet de capturer des relations complexes entre les variables existantes.</p> </div> <div style=\"display: flex; flex-wrap: wrap; gap: 20px; margin: 25px 0;\"> <!-- Attribut créé: niveau_socioeco --> <div style=\"flex: 1; min-width: 300px; background-color: white; padding: 20px; border-radius: 10px; box-shadow: 0 4px 8px rgba(0, 0, 0, 0.1); position: relative; overflow: hidden;\"> <div style=\"position: absolute; top: 0; right: 0; background-color: #00b09b; color: white; padding: 5px 15px; border-bottom-left-radius: 10px; font-size: 12px; font-weight: bold;\"> NOUVEL ATTRIBUT </div>\n",
    "<div style=\"display: flex; align-items: center; margin-bottom: 15px;\">\n",
    "  <div style=\"background-color: #00b09b; width: 40px; height: 40px; border-radius: 8px; display: flex; justify-content: center; align-items: center; margin-right: 15px; box-shadow: 0 2px 4px rgba(0, 176, 155, 0.3);\">\n",
    "    <span style=\"color: white; font-size: 20px;\">📊</span>\n",
    "  </div>\n",
    "  <div>\n",
    "    <h3 style=\"color: #00b09b; margin: 0; font-family: monospace; font-size: 18px;\">niveau_socioeco</h3>\n",
    "    <p style=\"margin: 5px 0 0 0; color: #666; font-size: 14px;\">Indicateur synthétique socio-économique</p>\n",
    "  </div>\n",
    "</div>\n",
    "\n",
    "<div style=\"background-color: #f0fff4; padding: 15px; border-radius: 8px; margin-top: 15px;\">\n",
    "  <div style=\"display: flex; align-items: flex-start;\">\n",
    "    <span style=\"color: #00b09b; font-size: 20px; margin-right: 10px; margin-top: 2px;\">✅</span>\n",
    "    <p style=\"margin: 0;\"><strong>Justification:</strong> Indicateur synthétique basé sur la possession de biens, permettant de capturer le niveau socio-économique global d'un ménage.</p>\n",
    "  </div>\n",
    "</div>\n",
    "\n",
    "<div style=\"margin-top: 20px;\">\n",
    "  <h4 style=\"color: #00b09b; margin: 0 0 10px 0; font-size: 16px;\">Méthode de calcul</h4>\n",
    "  <div style=\"background-color: #f5f5f5; padding: 15px; border-radius: 8px; font-family: monospace; font-size: 14px; overflow-x: auto;\">\n",
    "    <pre style=\"margin: 0;\">colonnes_possessions = ['possede_voiture', 'possede_logement', 'possede_terrain']\n",
    "df['niveau_socioeco'] = df[colonnes_possessions].sum(axis=1)</pre> </div> </div>\n",
    "\n",
    "<div style=\"margin-top: 20px;\">\n",
    "  <h4 style=\"color: #00b09b; margin: 0 0 10px 0; font-size: 16px;\">Interprétation</h4>\n",
    "  <div style=\"display: flex; flex-wrap: wrap; gap: 10px;\">\n",
    "    <div style=\"flex: 1; min-width: 100px; background-color: #f0fff4; padding: 10px; border-radius: 8px; text-align: center;\">\n",
    "      <span style=\"font-weight: bold; color: #00b09b;\">0</span>\n",
    "      <p style=\"margin: 5px 0 0 0; font-size: 12px; color: #666;\">Aucun bien</p>\n",
    "    </div>\n",
    "    <div style=\"flex: 1; min-width: 100px; background-color: #f0fff4; padding: 10px; border-radius: 8px; text-align: center;\">\n",
    "      <span style=\"font-weight: bold; color: #00b09b;\">1</span>\n",
    "      <p style=\"margin: 5px 0 0 0; font-size: 12px; color: #666;\">Un bien</p>\n",
    "    </div>\n",
    "    <div style=\"flex: 1; min-width: 100px; background-color: #f0fff4; padding: 10px; border-radius: 8px; text-align: center;\">\n",
    "      <span style=\"font-weight: bold; color: #00b09b;\">2</span>\n",
    "      <p style=\"margin: 5px 0 0 0; font-size: 12px; color: #666;\">Deux biens</p>\n",
    "    </div>\n",
    "    <div style=\"flex: 1; min-width: 100px; background-color: #f0fff4; padding: 10px; border-radius: 8px; text-align: center;\">\n",
    "      <span style=\"font-weight: bold; color: #00b09b;\">3</span>\n",
    "      <p style=\"margin: 5px 0 0 0; font-size: 12px; color: #666;\">Trois biens</p>\n",
    "    </div>\n",
    "  </div>\n",
    "</div>\n",
    "\n",
    "\n",
    "<div style=\"margin-top: 20px;\">\n",
    "  <h4 style=\"color: #3498db; margin: 0 0 10px 0; font-size: 16px;\">Impact sur le modèle</h4>\n",
    "  <div style=\"background-color: #e1f5fe; padding: 15px; border-radius: 8px;\">\n",
    "    <p style=\"margin: 0; font-style: italic; color: #0277bd;\">L'ajout de l'attribut <code>niveau_socioeco</code> permet de capturer l'effet cumulatif de la possession de biens, qui est un indicateur plus puissant que chaque bien considéré individuellement.</p>\n",
    "  </div>\n",
    "</div>\n",
    "\n",
    "<div style=\"margin-top: 20px;\">\n",
    "  <h4 style=\"color: #3498db; margin: 0 0 10px 0; font-size: 16px;\">Autres attributs envisagés</h4>\n",
    "  <div style=\"background-color: #f5f5f5; padding: 15px; border-radius: 8px;\">\n",
    "    <ul style=\"padding-left: 20px; margin: 0;\">\n",
    "      <li style=\"margin-bottom: 5px;\">Ratio revenu/taille du foyer</li>\n",
    "      <li style=\"margin-bottom: 5px;\">Interaction âge × niveau d'éducation</li>\n",
    "      <li>Catégorisation de l'expérience professionnelle</li>\n",
    "    </ul>\n",
    "  </div>\n",
    "</div>\n",
    "</div> </div> <div style=\"background-color: #f9f9f9; border-radius: 10px; padding: 20px; margin-top: 25px; border-left: 5px solid #607d8b;\"> <div style=\"display: flex; align-items: flex-start;\"> <span style=\"color: #607d8b; font-size: 24px; margin-right: 15px;\">💡</span> <div> <h4 style=\"color: #607d8b; margin: 0;\">Bonnes pratiques pour la création d'attributs</h4> <ul style=\"padding-left: 20px; margin-top: 10px;\"> <li style=\"margin-bottom: 8px;\">Créer des attributs basés sur une connaissance métier du domaine</li> <li style=\"margin-bottom: 8px;\">Évaluer l'impact de chaque nouvel attribut sur la performance du modèle</li> <li style=\"margin-bottom: 8px;\">Éviter la redondance et la multicolinéarité entre les attributs</li> <li>Documenter clairement la signification et le calcul de chaque nouvel attribut</li> </ul> </div> </div> </div> <div style=\"background-color: #e8f5e9; border-radius: 10px; padding: 15px; margin-top: 25px; display: flex; align-items: center; border-left: 5px solid #4caf50;\"> <div style=\"background-color: #4caf50; width: 40px; height: 40px; border-radius: 50%; display: flex; justify-content: center; align-items: center; margin-right: 15px;\"> <span style=\"color: white; font-size: 20px;\">✓</span> </div> <div> <p style=\"margin: 0; color: #4caf50; font-weight: bold;\">Attribut créé avec succès</p> <p style=\"margin: 5px 0 0 0; color: #666;\">L'attribut <code>niveau_socioeco</code> a été ajouté au dataset et sera utilisé pour la modélisation.</p> </div> </div>"
   ]
  },
  {
   "cell_type": "code",
   "execution_count": null,
   "id": "eeae500a-5a76-495d-bd4d-dbf638253f21",
   "metadata": {},
   "outputs": [],
   "source": [
    "# Sauvegarde du revenu annuel original pour les visualisations\n",
    "revenu_original = df['revenu_annuel'].copy()"
   ]
  },
  {
   "cell_type": "markdown",
   "id": "910943b1-cf62-42fe-aa34-7512aee12823",
   "metadata": {},
   "source": [
    "### 3.2.2 Niveau socio-économique basé sur les possessions\n"
   ]
  },
  {
   "cell_type": "code",
   "execution_count": 26,
   "id": "0c2cca80-7229-496e-be7a-418bc0e3c6c0",
   "metadata": {},
   "outputs": [],
   "source": [
    "colonnes_possessions = ['possede_voiture', 'possede_logement', 'possede_terrain']\n",
    "df['niveau_socioeco'] = df[colonnes_possessions].sum(axis=1)\n"
   ]
  },
  {
   "cell_type": "markdown",
   "id": "927c2eb8-0d03-4cfb-8f37-39e2fad26d30",
   "metadata": {},
   "source": [
    "## 3.3 Normalisation des valeurs numériques\n",
    "\n",
    "**Justification :**  \n",
    "Évite qu'une variable avec une grande échelle ne domine les autres. On applique une **standardisation** (centrage-réduction).\n",
    "\n"
   ]
  },
  {
   "cell_type": "markdown",
   "id": "4f802a2a-be3b-4542-9f2a-8ec44683079c",
   "metadata": {},
   "source": [
    "<div style=\"background: linear-gradient(to right, #6a11cb, #2575fc); padding: 2px; border-radius: 10px; margin-bottom: 20px;\"> <div style=\"background: white; border-radius: 8px; padding: 15px;\"> <h2 style=\"color: #6a11cb; text-align: center; margin-top: 0;\">📏 Normalisation des variables positives</h2> </div> </div> <div style=\"display: flex; flex-wrap: wrap; gap: 20px; margin: 25px 0;\"> <!-- Justification --> <div style=\"flex: 1; min-width: 300px; background-color: #f5f0ff; padding: 20px; border-radius: 10px; box-shadow: 0 4px 6px rgba(0, 0, 0, 0.1); border-left: 5px solid #6a11cb;\"> <div style=\"display: flex; align-items: center; margin-bottom: 15px;\"> <div style=\"background-color: #6a11cb; width: 40px; height: 40px; border-radius: 8px; display: flex; justify-content: center; align-items: center; margin-right: 15px; box-shadow: 0 2px 4px rgba(106, 17, 203, 0.3);\"> <span style=\"color: white; font-size: 20px;\">💡</span> </div> <h3 style=\"color: #6a11cb; margin: 0;\">Justification</h3> </div>\n",
    "<p style=\"margin-top: 0;\">Certaines variables comme <code style=\"background-color: #e9e1ff; padding: 2px 6px; border-radius: 4px; font-weight: bold;\">taille_foyer</code> ne doivent pas contenir de valeurs négatives.</p>\n",
    "\n",
    "<div style=\"background-color: #e9e1ff; padding: 15px; border-radius: 8px; margin-top: 15px;\">\n",
    "  <div style=\"display: flex; align-items: flex-start;\">\n",
    "    <span style=\"color: #6a11cb; font-size: 20px; margin-right: 10px; margin-top: 2px;\">⚠️</span>\n",
    "    <p style=\"margin: 0;\">Une standardisation classique (z-score) pourrait produire des valeurs négatives, ce qui n'aurait pas de sens pour ces variables.</p>\n",
    "  </div>\n",
    "</div>\n",
    "</div> <!-- Méthode --> <div style=\"flex: 1; min-width: 300px; background-color: #f0f7ff; padding: 20px; border-radius: 10px; box-shadow: 0 4px 6px rgba(0, 0, 0, 0.1); border-left: 5px solid #2575fc;\"> <div style=\"display: flex; align-items: center; margin-bottom: 15px;\"> <div style=\"background-color: #2575fc; width: 40px; height: 40px; border-radius: 8px; display: flex; justify-content: center; align-items: center; margin-right: 15px; box-shadow: 0 2px 4px rgba(37, 117, 252, 0.3);\"> <span style=\"color: white; font-size: 20px;\">🔄</span> </div> <h3 style=\"color: #2575fc; margin: 0;\">Méthode appliquée</h3> </div>\n",
    "<p style=\"margin-top: 0;\">On applique donc une <strong style=\"color: #2575fc;\">normalisation Min-Max</strong> pour transformer leurs valeurs entre 0 et 1, tout en conservant leur interprétabilité.</p>\n",
    "\n",
    "<div style=\"background-color: #e3f2fd; padding: 15px; border-radius: 8px; margin-top: 15px; font-family: monospace; font-size: 14px;\">\n",
    "  <div style=\"text-align: center; margin-bottom: 10px; color: #2575fc; font-weight: bold;\">Formule Min-Max</div>\n",
    "  <div style=\"text-align: center; background-color: white; padding: 10px; border-radius: 5px;\">\n",
    "    X<sub>norm</sub> = (X - X<sub>min</sub>) / (X<sub>max</sub> - X<sub>min</sub>)\n",
    "  </div>\n",
    "</div>\n",
    "</div> </div> <div style=\"background-color: #f0f0f0; border-radius: 10px; padding: 15px; margin-top: 25px; display: flex; align-items: center; border-left: 5px solid #616161;\"> <div style=\"background-color: #616161; width: 40px; height: 40px; border-radius: 50%; display: flex; justify-content: center; align-items: center; margin-right: 15px;\"> <span style=\"color: white; font-size: 20px;\">✓</span> </div> <div> <p style=\"margin: 0; color: #616161; font-weight: bold;\">Avantages de cette approche</p> <ul style=\"margin: 5px 0 0 0; padding-left: 20px; color: #616161;\"> <li>Préserve la non-négativité des variables</li> <li>Maintient l'interprétabilité des données</li> <li>Facilite la convergence des algorithmes d'apprentissage</li> </ul> </div> </div>\n"
   ]
  },
  {
   "cell_type": "markdown",
   "id": "4b2e2375-1430-4f20-8c03-84aba942c608",
   "metadata": {},
   "source": [
    "## 3.4 Encodage des colonnes catégorielles¶\n",
    "Justification :\n",
    "Les modèles de machine learning nécessitent des données numériques. On utilise l’encodage One-Hot pour éviter un ordre arbitraire.\n",
    "\n",
    "Remarque : drop_first=True permet d’éviter la multicolinéarité."
   ]
  },
  {
   "cell_type": "markdown",
   "id": "966e0bd4-b49d-4e52-b50d-b0e1eb465e56",
   "metadata": {},
   "source": [
    "\n",
    "**Objectif** : Convertir les colonnes de type `object` (catégorielles) en variables numériques pour qu'elles soient exploitables par les algorithmes de machine learning.\n",
    "\n",
    "**Méthode** : On utilise `pd.get_dummies` avec `drop_first=True` pour éviter la redondance (multicolinéarité).  \n",
    "Ensuite, on calcule les nouvelles colonnes créées pour suivre l’impact de cet encodage.\n",
    "\n",
    "Cette étape est essentielle pour transformer les données qualitatives en données quantitatives.\n"
   ]
  },
  {
   "cell_type": "markdown",
   "id": "4f94106a-e7c2-488c-8bf1-a4c8d6eba03b",
   "metadata": {},
   "source": [
    "##  Aperçu final des données transformées"
   ]
  },
  {
   "cell_type": "code",
   "execution_count": 27,
   "id": "4e888ac2-70ae-479c-bc63-0f0029ba5693",
   "metadata": {},
   "outputs": [
    {
     "data": {
      "text/html": [
       "<div>\n",
       "<style scoped>\n",
       "    .dataframe tbody tr th:only-of-type {\n",
       "        vertical-align: middle;\n",
       "    }\n",
       "\n",
       "    .dataframe tbody tr th {\n",
       "        vertical-align: top;\n",
       "    }\n",
       "\n",
       "    .dataframe thead th {\n",
       "        text-align: right;\n",
       "    }\n",
       "</style>\n",
       "<table border=\"1\" class=\"dataframe\">\n",
       "  <thead>\n",
       "    <tr style=\"text-align: right;\">\n",
       "      <th></th>\n",
       "      <th>age</th>\n",
       "      <th>sexe</th>\n",
       "      <th>milieu</th>\n",
       "      <th>etat_matrimonial</th>\n",
       "      <th>region</th>\n",
       "      <th>niveau_education</th>\n",
       "      <th>categorie_socioprofessionnelle</th>\n",
       "      <th>taille_foyer</th>\n",
       "      <th>aide_sociale</th>\n",
       "      <th>a_acces_credit</th>\n",
       "      <th>...</th>\n",
       "      <th>possede_voiture</th>\n",
       "      <th>possede_logement</th>\n",
       "      <th>possede_terrain</th>\n",
       "      <th>annees_experience</th>\n",
       "      <th>revenu_annuel</th>\n",
       "      <th>est_urbain</th>\n",
       "      <th>est_marie</th>\n",
       "      <th>outlier</th>\n",
       "      <th>weight</th>\n",
       "      <th>niveau_socioeco</th>\n",
       "    </tr>\n",
       "  </thead>\n",
       "  <tbody>\n",
       "    <tr>\n",
       "      <th>0</th>\n",
       "      <td>56</td>\n",
       "      <td>Femme</td>\n",
       "      <td>Urbain</td>\n",
       "      <td>Marié</td>\n",
       "      <td>Casablanca-Settat</td>\n",
       "      <td>Secondaire</td>\n",
       "      <td>Groupe 5</td>\n",
       "      <td>3.0</td>\n",
       "      <td>0</td>\n",
       "      <td>0</td>\n",
       "      <td>...</td>\n",
       "      <td>0.0</td>\n",
       "      <td>0.0</td>\n",
       "      <td>0</td>\n",
       "      <td>33.0</td>\n",
       "      <td>16343</td>\n",
       "      <td>1</td>\n",
       "      <td>1</td>\n",
       "      <td>1</td>\n",
       "      <td>1.0</td>\n",
       "      <td>0.0</td>\n",
       "    </tr>\n",
       "    <tr>\n",
       "      <th>1</th>\n",
       "      <td>69</td>\n",
       "      <td>Femme</td>\n",
       "      <td>Urbain</td>\n",
       "      <td>Marié</td>\n",
       "      <td>Casablanca-Settat</td>\n",
       "      <td>Fondamental</td>\n",
       "      <td>Groupe 4</td>\n",
       "      <td>2.0</td>\n",
       "      <td>0</td>\n",
       "      <td>0</td>\n",
       "      <td>...</td>\n",
       "      <td>0.0</td>\n",
       "      <td>1.0</td>\n",
       "      <td>1</td>\n",
       "      <td>51.0</td>\n",
       "      <td>15051</td>\n",
       "      <td>1</td>\n",
       "      <td>1</td>\n",
       "      <td>1</td>\n",
       "      <td>1.0</td>\n",
       "      <td>2.0</td>\n",
       "    </tr>\n",
       "    <tr>\n",
       "      <th>2</th>\n",
       "      <td>32</td>\n",
       "      <td>Homme</td>\n",
       "      <td>Urbain</td>\n",
       "      <td>Marié</td>\n",
       "      <td>L'Oriental</td>\n",
       "      <td>Secondaire</td>\n",
       "      <td>Groupe 5</td>\n",
       "      <td>9.0</td>\n",
       "      <td>0</td>\n",
       "      <td>0</td>\n",
       "      <td>...</td>\n",
       "      <td>1.0</td>\n",
       "      <td>1.0</td>\n",
       "      <td>0</td>\n",
       "      <td>11.0</td>\n",
       "      <td>5440</td>\n",
       "      <td>1</td>\n",
       "      <td>1</td>\n",
       "      <td>1</td>\n",
       "      <td>1.0</td>\n",
       "      <td>2.0</td>\n",
       "    </tr>\n",
       "    <tr>\n",
       "      <th>3</th>\n",
       "      <td>60</td>\n",
       "      <td>Femme</td>\n",
       "      <td>Urbain</td>\n",
       "      <td>Marié</td>\n",
       "      <td>Rabat-Salé-Kénitra</td>\n",
       "      <td>Fondamental</td>\n",
       "      <td>Groupe 4</td>\n",
       "      <td>8.0</td>\n",
       "      <td>0</td>\n",
       "      <td>1</td>\n",
       "      <td>...</td>\n",
       "      <td>0.0</td>\n",
       "      <td>1.0</td>\n",
       "      <td>0</td>\n",
       "      <td>42.0</td>\n",
       "      <td>15768</td>\n",
       "      <td>1</td>\n",
       "      <td>1</td>\n",
       "      <td>1</td>\n",
       "      <td>1.0</td>\n",
       "      <td>1.0</td>\n",
       "    </tr>\n",
       "    <tr>\n",
       "      <th>4</th>\n",
       "      <td>78</td>\n",
       "      <td>Femme</td>\n",
       "      <td>Urbain</td>\n",
       "      <td>Divorcé</td>\n",
       "      <td>Laâyoune-Sakia El Hamra</td>\n",
       "      <td>Fondamental</td>\n",
       "      <td>Groupe 3</td>\n",
       "      <td>7.0</td>\n",
       "      <td>0</td>\n",
       "      <td>0</td>\n",
       "      <td>...</td>\n",
       "      <td>1.0</td>\n",
       "      <td>0.0</td>\n",
       "      <td>0</td>\n",
       "      <td>62.0</td>\n",
       "      <td>28882</td>\n",
       "      <td>1</td>\n",
       "      <td>0</td>\n",
       "      <td>1</td>\n",
       "      <td>1.0</td>\n",
       "      <td>1.0</td>\n",
       "    </tr>\n",
       "  </tbody>\n",
       "</table>\n",
       "<p>5 rows × 21 columns</p>\n",
       "</div>"
      ],
      "text/plain": [
       "   age   sexe  milieu etat_matrimonial                   region  \\\n",
       "0   56  Femme  Urbain            Marié        Casablanca-Settat   \n",
       "1   69  Femme  Urbain            Marié        Casablanca-Settat   \n",
       "2   32  Homme  Urbain            Marié               L'Oriental   \n",
       "3   60  Femme  Urbain            Marié       Rabat-Salé-Kénitra   \n",
       "4   78  Femme  Urbain          Divorcé  Laâyoune-Sakia El Hamra   \n",
       "\n",
       "  niveau_education categorie_socioprofessionnelle  taille_foyer  aide_sociale  \\\n",
       "0       Secondaire                       Groupe 5           3.0             0   \n",
       "1      Fondamental                       Groupe 4           2.0             0   \n",
       "2       Secondaire                       Groupe 5           9.0             0   \n",
       "3      Fondamental                       Groupe 4           8.0             0   \n",
       "4      Fondamental                       Groupe 3           7.0             0   \n",
       "\n",
       "   a_acces_credit  ...  possede_voiture  possede_logement  possede_terrain  \\\n",
       "0               0  ...              0.0               0.0                0   \n",
       "1               0  ...              0.0               1.0                1   \n",
       "2               0  ...              1.0               1.0                0   \n",
       "3               1  ...              0.0               1.0                0   \n",
       "4               0  ...              1.0               0.0                0   \n",
       "\n",
       "   annees_experience  revenu_annuel  est_urbain  est_marie  outlier  weight  \\\n",
       "0               33.0          16343           1          1        1     1.0   \n",
       "1               51.0          15051           1          1        1     1.0   \n",
       "2               11.0           5440           1          1        1     1.0   \n",
       "3               42.0          15768           1          1        1     1.0   \n",
       "4               62.0          28882           1          0        1     1.0   \n",
       "\n",
       "   niveau_socioeco  \n",
       "0              0.0  \n",
       "1              2.0  \n",
       "2              2.0  \n",
       "3              1.0  \n",
       "4              1.0  \n",
       "\n",
       "[5 rows x 21 columns]"
      ]
     },
     "execution_count": 27,
     "metadata": {},
     "output_type": "execute_result"
    }
   ],
   "source": [
    "df.head()"
   ]
  },
  {
   "cell_type": "markdown",
   "id": "0f05df89-5b76-4858-b61f-5d3415e75836",
   "metadata": {},
   "source": [
    "## Sauvegarde du dataset transformé"
   ]
  },
  {
   "cell_type": "code",
   "execution_count": 28,
   "id": "9ef3e11c-d884-44e0-bc0c-f725fa90963d",
   "metadata": {},
   "outputs": [
    {
     "name": "stdout",
     "output_type": "stream",
     "text": [
      "\n",
      "Dataset transformé sauvegardé sous 'dataset_revenu_marocains_transforme.csv'\n"
     ]
    }
   ],
   "source": [
    "df.to_csv('dataset_revenu_marocains_transforme.csv', index=False, encoding='latin-1')\n",
    "print(\"\\nDataset transformé sauvegardé sous 'dataset_revenu_marocains_transforme.csv'\")"
   ]
  },
  {
   "cell_type": "code",
   "execution_count": 29,
   "id": "7c681a3e-7e51-407a-88ec-e6d71dd06163",
   "metadata": {
    "scrolled": true
   },
   "outputs": [
    {
     "name": "stdout",
     "output_type": "stream",
     "text": [
      "<class 'pandas.core.frame.DataFrame'>\n",
      "Index: 39617 entries, 0 to 39999\n",
      "Data columns (total 21 columns):\n",
      " #   Column                          Non-Null Count  Dtype  \n",
      "---  ------                          --------------  -----  \n",
      " 0   age                             39617 non-null  int64  \n",
      " 1   sexe                            39617 non-null  object \n",
      " 2   milieu                          39617 non-null  object \n",
      " 3   etat_matrimonial                39617 non-null  object \n",
      " 4   region                          39617 non-null  object \n",
      " 5   niveau_education                39617 non-null  object \n",
      " 6   categorie_socioprofessionnelle  39617 non-null  object \n",
      " 7   taille_foyer                    39617 non-null  float64\n",
      " 8   aide_sociale                    39617 non-null  int64  \n",
      " 9   a_acces_credit                  39617 non-null  int64  \n",
      " 10  a_retraite                      39617 non-null  int64  \n",
      " 11  possede_voiture                 39617 non-null  float64\n",
      " 12  possede_logement                39617 non-null  float64\n",
      " 13  possede_terrain                 39617 non-null  int64  \n",
      " 14  annees_experience               39617 non-null  float64\n",
      " 15  revenu_annuel                   39617 non-null  int64  \n",
      " 16  est_urbain                      39617 non-null  int64  \n",
      " 17  est_marie                       39617 non-null  int64  \n",
      " 18  outlier                         39617 non-null  int64  \n",
      " 19  weight                          39617 non-null  float64\n",
      " 20  niveau_socioeco                 39617 non-null  float64\n",
      "dtypes: float64(6), int64(9), object(6)\n",
      "memory usage: 6.6+ MB\n"
     ]
    }
   ],
   "source": [
    "df.info()"
   ]
  },
  {
   "cell_type": "code",
   "execution_count": 30,
   "id": "d537988e-f4f0-47d0-b220-aa83e0cbb850",
   "metadata": {},
   "outputs": [
    {
     "data": {
      "text/html": [
       "<div>\n",
       "<style scoped>\n",
       "    .dataframe tbody tr th:only-of-type {\n",
       "        vertical-align: middle;\n",
       "    }\n",
       "\n",
       "    .dataframe tbody tr th {\n",
       "        vertical-align: top;\n",
       "    }\n",
       "\n",
       "    .dataframe thead th {\n",
       "        text-align: right;\n",
       "    }\n",
       "</style>\n",
       "<table border=\"1\" class=\"dataframe\">\n",
       "  <thead>\n",
       "    <tr style=\"text-align: right;\">\n",
       "      <th></th>\n",
       "      <th>age</th>\n",
       "      <th>sexe</th>\n",
       "      <th>milieu</th>\n",
       "      <th>etat_matrimonial</th>\n",
       "      <th>region</th>\n",
       "      <th>niveau_education</th>\n",
       "      <th>categorie_socioprofessionnelle</th>\n",
       "      <th>taille_foyer</th>\n",
       "      <th>aide_sociale</th>\n",
       "      <th>a_acces_credit</th>\n",
       "      <th>...</th>\n",
       "      <th>possede_voiture</th>\n",
       "      <th>possede_logement</th>\n",
       "      <th>possede_terrain</th>\n",
       "      <th>annees_experience</th>\n",
       "      <th>revenu_annuel</th>\n",
       "      <th>est_urbain</th>\n",
       "      <th>est_marie</th>\n",
       "      <th>outlier</th>\n",
       "      <th>weight</th>\n",
       "      <th>niveau_socioeco</th>\n",
       "    </tr>\n",
       "  </thead>\n",
       "  <tbody>\n",
       "    <tr>\n",
       "      <th>0</th>\n",
       "      <td>56</td>\n",
       "      <td>Femme</td>\n",
       "      <td>Urbain</td>\n",
       "      <td>Marié</td>\n",
       "      <td>Casablanca-Settat</td>\n",
       "      <td>Secondaire</td>\n",
       "      <td>Groupe 5</td>\n",
       "      <td>3.0</td>\n",
       "      <td>0</td>\n",
       "      <td>0</td>\n",
       "      <td>...</td>\n",
       "      <td>0.0</td>\n",
       "      <td>0.0</td>\n",
       "      <td>0</td>\n",
       "      <td>33.0</td>\n",
       "      <td>16343</td>\n",
       "      <td>1</td>\n",
       "      <td>1</td>\n",
       "      <td>1</td>\n",
       "      <td>1.0</td>\n",
       "      <td>0.0</td>\n",
       "    </tr>\n",
       "    <tr>\n",
       "      <th>1</th>\n",
       "      <td>69</td>\n",
       "      <td>Femme</td>\n",
       "      <td>Urbain</td>\n",
       "      <td>Marié</td>\n",
       "      <td>Casablanca-Settat</td>\n",
       "      <td>Fondamental</td>\n",
       "      <td>Groupe 4</td>\n",
       "      <td>2.0</td>\n",
       "      <td>0</td>\n",
       "      <td>0</td>\n",
       "      <td>...</td>\n",
       "      <td>0.0</td>\n",
       "      <td>1.0</td>\n",
       "      <td>1</td>\n",
       "      <td>51.0</td>\n",
       "      <td>15051</td>\n",
       "      <td>1</td>\n",
       "      <td>1</td>\n",
       "      <td>1</td>\n",
       "      <td>1.0</td>\n",
       "      <td>2.0</td>\n",
       "    </tr>\n",
       "    <tr>\n",
       "      <th>2</th>\n",
       "      <td>32</td>\n",
       "      <td>Homme</td>\n",
       "      <td>Urbain</td>\n",
       "      <td>Marié</td>\n",
       "      <td>L'Oriental</td>\n",
       "      <td>Secondaire</td>\n",
       "      <td>Groupe 5</td>\n",
       "      <td>9.0</td>\n",
       "      <td>0</td>\n",
       "      <td>0</td>\n",
       "      <td>...</td>\n",
       "      <td>1.0</td>\n",
       "      <td>1.0</td>\n",
       "      <td>0</td>\n",
       "      <td>11.0</td>\n",
       "      <td>5440</td>\n",
       "      <td>1</td>\n",
       "      <td>1</td>\n",
       "      <td>1</td>\n",
       "      <td>1.0</td>\n",
       "      <td>2.0</td>\n",
       "    </tr>\n",
       "    <tr>\n",
       "      <th>3</th>\n",
       "      <td>60</td>\n",
       "      <td>Femme</td>\n",
       "      <td>Urbain</td>\n",
       "      <td>Marié</td>\n",
       "      <td>Rabat-Salé-Kénitra</td>\n",
       "      <td>Fondamental</td>\n",
       "      <td>Groupe 4</td>\n",
       "      <td>8.0</td>\n",
       "      <td>0</td>\n",
       "      <td>1</td>\n",
       "      <td>...</td>\n",
       "      <td>0.0</td>\n",
       "      <td>1.0</td>\n",
       "      <td>0</td>\n",
       "      <td>42.0</td>\n",
       "      <td>15768</td>\n",
       "      <td>1</td>\n",
       "      <td>1</td>\n",
       "      <td>1</td>\n",
       "      <td>1.0</td>\n",
       "      <td>1.0</td>\n",
       "    </tr>\n",
       "    <tr>\n",
       "      <th>4</th>\n",
       "      <td>78</td>\n",
       "      <td>Femme</td>\n",
       "      <td>Urbain</td>\n",
       "      <td>Divorcé</td>\n",
       "      <td>Laâyoune-Sakia El Hamra</td>\n",
       "      <td>Fondamental</td>\n",
       "      <td>Groupe 3</td>\n",
       "      <td>7.0</td>\n",
       "      <td>0</td>\n",
       "      <td>0</td>\n",
       "      <td>...</td>\n",
       "      <td>1.0</td>\n",
       "      <td>0.0</td>\n",
       "      <td>0</td>\n",
       "      <td>62.0</td>\n",
       "      <td>28882</td>\n",
       "      <td>1</td>\n",
       "      <td>0</td>\n",
       "      <td>1</td>\n",
       "      <td>1.0</td>\n",
       "      <td>1.0</td>\n",
       "    </tr>\n",
       "  </tbody>\n",
       "</table>\n",
       "<p>5 rows × 21 columns</p>\n",
       "</div>"
      ],
      "text/plain": [
       "   age   sexe  milieu etat_matrimonial                   region  \\\n",
       "0   56  Femme  Urbain            Marié        Casablanca-Settat   \n",
       "1   69  Femme  Urbain            Marié        Casablanca-Settat   \n",
       "2   32  Homme  Urbain            Marié               L'Oriental   \n",
       "3   60  Femme  Urbain            Marié       Rabat-Salé-Kénitra   \n",
       "4   78  Femme  Urbain          Divorcé  Laâyoune-Sakia El Hamra   \n",
       "\n",
       "  niveau_education categorie_socioprofessionnelle  taille_foyer  aide_sociale  \\\n",
       "0       Secondaire                       Groupe 5           3.0             0   \n",
       "1      Fondamental                       Groupe 4           2.0             0   \n",
       "2       Secondaire                       Groupe 5           9.0             0   \n",
       "3      Fondamental                       Groupe 4           8.0             0   \n",
       "4      Fondamental                       Groupe 3           7.0             0   \n",
       "\n",
       "   a_acces_credit  ...  possede_voiture  possede_logement  possede_terrain  \\\n",
       "0               0  ...              0.0               0.0                0   \n",
       "1               0  ...              0.0               1.0                1   \n",
       "2               0  ...              1.0               1.0                0   \n",
       "3               1  ...              0.0               1.0                0   \n",
       "4               0  ...              1.0               0.0                0   \n",
       "\n",
       "   annees_experience  revenu_annuel  est_urbain  est_marie  outlier  weight  \\\n",
       "0               33.0          16343           1          1        1     1.0   \n",
       "1               51.0          15051           1          1        1     1.0   \n",
       "2               11.0           5440           1          1        1     1.0   \n",
       "3               42.0          15768           1          1        1     1.0   \n",
       "4               62.0          28882           1          0        1     1.0   \n",
       "\n",
       "   niveau_socioeco  \n",
       "0              0.0  \n",
       "1              2.0  \n",
       "2              2.0  \n",
       "3              1.0  \n",
       "4              1.0  \n",
       "\n",
       "[5 rows x 21 columns]"
      ]
     },
     "execution_count": 30,
     "metadata": {},
     "output_type": "execute_result"
    }
   ],
   "source": [
    "df.head()"
   ]
  },
  {
   "cell_type": "markdown",
   "id": "f0fae1d9-2fd2-47f6-b3b3-85331f9b0b41",
   "metadata": {},
   "source": [
    "# 4. Séparation des données"
   ]
  },
  {
   "cell_type": "code",
   "execution_count": 31,
   "id": "64176a1f-0d7f-46d0-afa0-7796e3f820cd",
   "metadata": {},
   "outputs": [
    {
     "name": "stdout",
     "output_type": "stream",
     "text": [
      "\n",
      "4. Séparation des données...\n",
      "Ensemble d'apprentissage: 27731 échantillons\n",
      "Ensemble de test: 11886 échantillons\n"
     ]
    }
   ],
   "source": [
    "print(\"\\n4. Séparation des données...\")\n",
    "\n",
    "target_col = 'revenu_annuel'\n",
    "technical_col = ['outlier']\n",
    "X = df.drop(columns=[target_col] + technical_col)\n",
    "y = df[target_col]\n",
    "\n",
    "from sklearn.model_selection import train_test_split\n",
    "\n",
    "X_train, X_test, y_train, y_test = train_test_split(\n",
    "    X, y, test_size=0.3, random_state=42\n",
    ")\n",
    "\n",
    "print(f\"Ensemble d'apprentissage: {X_train.shape[0]} échantillons\")\n",
    "print(f\"Ensemble de test: {X_test.shape[0]} échantillons\")\n"
   ]
  },
  {
   "cell_type": "markdown",
   "id": "827f29d5-7635-4892-af3e-fc08f9dd849e",
   "metadata": {},
   "source": [
    "# 5. Création et validation des modèles"
   ]
  },
  {
   "cell_type": "code",
   "execution_count": 32,
   "id": "aacc81c4-c7a9-44f8-98d1-c4757cd8f1b3",
   "metadata": {},
   "outputs": [
    {
     "name": "stdout",
     "output_type": "stream",
     "text": [
      "\n",
      "5. Création et validation des modèles...\n"
     ]
    }
   ],
   "source": [
    "print(\"\\n5. Création et validation des modèles...\")"
   ]
  },
  {
   "cell_type": "markdown",
   "id": "9cfc388d-8fc2-44d5-85fa-5beb14f10d1c",
   "metadata": {},
   "source": [
    "## 5.1 Définition des modèles à évaluer"
   ]
  },
  {
   "cell_type": "markdown",
   "id": "d16f2309-2f34-4841-8fca-f090381bb492",
   "metadata": {},
   "source": [
    "<div style=\"background: linear-gradient(to right, #6a11cb, #2575fc); padding: 2px; border-radius: 10px; margin-bottom: 20px;\">\n",
    "  <div style=\"background: white; border-radius: 8px; padding: 15px;\">\n",
    "    <h2 style=\"color: #6a11cb; text-align: center; margin-top: 0;\">🤖 Définition des Modèles à Évaluer</h2>\n",
    "  </div>\n",
    "</div>\n",
    "\n",
    "<div style=\"display: flex; flex-wrap: wrap; gap: 20px; margin: 25px 0;\">\n",
    "  <!-- Justification -->\n",
    "  <div style=\"flex: 1; min-width: 300px; background-color: #f5f0ff; padding: 20px; border-radius: 10px; box-shadow: 0 4px 6px rgba(0, 0, 0, 0.1); border-left: 5px solid #6a11cb;\">\n",
    "    <div style=\"display: flex; align-items: center; margin-bottom: 15px;\">\n",
    "      <div style=\"background-color: #6a11cb; width: 40px; height: 40px; border-radius: 8px; display: flex; justify-content: center; align-items: center; margin-right: 15px; box-shadow: 0 2px 4px rgba(106, 17, 203, 0.3);\">\n",
    "        <span style=\"color: white; font-size: 20px;\">💡</span>\n",
    "      </div>\n",
    "      <h3 style=\"color: #6a11cb; margin: 0;\">Approche multi-modèles</h3>\n",
    "    </div>\n",
    "    <p style=\"margin-top: 0;\">L'utilisation de plusieurs algorithmes permet d'explorer différentes approches de modélisation et d'identifier celle qui capture le mieux les patterns dans nos données.</p>\n",
    "\n",
    "<div style=\"background-color: #e9e1ff; padding: 15px; border-radius: 8px; margin-top: 15px;\">\n",
    "      <div style=\"display: flex; align-items: flex-start;\">\n",
    "        <span style=\"color: #6a11cb; font-size: 20px; margin-right: 10px; margin-top: 2px;\">⚠️</span>\n",
    "        <p style=\"margin: 0;\">Chaque algorithme possède ses propres forces et faiblesses face à différents types de données et relations.</p>\n",
    "      </div>\n",
    "</div>\n",
    "  </div>\n",
    "\n",
    "  <!-- Méthode -->\n",
    "  <div style=\"flex: 1; min-width: 300px; background-color: #f0f7ff; padding: 20px; border-radius: 10px; box-shadow: 0 4px 6px rgba(0, 0, 0, 0.1); border-left: 5px solid #2575fc;\">\n",
    "    <div style=\"display: flex; align-items: center; margin-bottom: 15px;\">\n",
    "      <div style=\"background-color: #2575fc; width: 40px; height: 40px; border-radius: 8px; display: flex; justify-content: center; align-items: center; margin-right: 15px; box-shadow: 0 2px 4px rgba(37, 117, 252, 0.3);\">\n",
    "        <span style=\"color: white; font-size: 20px;\">🔄</span>\n",
    "      </div>\n",
    "      <h3 style=\"color: #2575fc; margin: 0;\">Modèles implémentés</h3>\n",
    "    </div>\n",
    "    <p style=\"margin-top: 0;\">Nous avons sélectionné cinq algorithmes représentant différentes familles de modèles de régression:</p>\n",
    "\n",
    "<div style=\"background-color: #e3f2fd; padding: 15px; border-radius: 8px; margin-top: 15px; font-family: monospace; font-size: 14px;\">\n",
    "      <div style=\"text-align: center; margin-bottom: 10px; color: #2575fc; font-weight: bold;\">Modèles sélectionnés</div>\n",
    "      <div style=\"background-color: white; padding: 10px; border-radius: 5px;\">\n",
    "        <ul style=\"margin: 0; padding-left: 20px;\">\n",
    "          <li><strong>Régression Linéaire</strong>: Modèle de base</li>\n",
    "          <li><strong>Arbre de Décision</strong>: Capture les non-linéarités</li>\n",
    "          <li><strong>Forêt Aléatoire</strong>: Ensemble d'arbres robuste</li>\n",
    "          <li><strong>Gradient Boosting</strong>: Apprentissage séquentiel</li>\n",
    "          <li><strong>Réseau de Neurones</strong>: Modélisation complexe</li>\n",
    "        </ul>\n",
    "      </div>\n",
    "    </div>\n",
    "  </div>\n",
    "</div>\n",
    "\n",
    "<div style=\"background-color: #f0f0f0; border-radius: 10px; padding: 15px; margin-top: 25px; display: flex; align-items: center; border-left: 5px solid #616161;\">\n",
    "  <div style=\"background-color: #616161; width: 40px; height: 40px; border-radius: 50%; display: flex; justify-content: center; align-items: center; margin-right: 15px;\">\n",
    "    <span style=\"color: white; font-size: 20px;\">✓</span>\n",
    "  </div>\n",
    "  <div>\n",
    "    <p style=\"margin: 0; color: #616161; font-weight: bold;\">Avantages de cette approche</p>\n",
    "    <ul style=\"margin: 5px 0 0 0; padding-left: 20px; color: #616161;\">\n",
    "      <li>Comparaison objective des performances</li>\n",
    "      <li>Réduction du risque de biais de sélection</li>\n",
    "      <li>Identification du meilleur compromis biais-variance</li>\n",
    "    </ul>\n",
    "  </div>\n",
    "</div>"
   ]
  },
  {
   "cell_type": "code",
   "execution_count": 33,
   "id": "248adb93-9514-4d5b-aafd-ed93cdf097ca",
   "metadata": {},
   "outputs": [],
   "source": [
    "models = {\n",
    "    'Régression Linéaire': LinearRegression(),\n",
    "    'Arbre de Décision': DecisionTreeRegressor(random_state=42),\n",
    "    'Forêt Aléatoire': RandomForestRegressor(random_state=42),\n",
    "    'Gradient Boosting': GradientBoostingRegressor(random_state=42),\n",
    "    'Réseau de Neurones': MLPRegressor(random_state=42, max_iter=300)\n",
    "}"
   ]
  },
  {
   "cell_type": "markdown",
   "id": "67cb74d1-c009-4d6d-8864-0bb03ebb8c43",
   "metadata": {},
   "source": [
    "## 5.2 Définition des hyperparamètres à ajuster"
   ]
  },
  {
   "cell_type": "markdown",
   "id": "e8832454-92ad-444e-af8e-e67b0304224d",
   "metadata": {},
   "source": [
    "<div style=\"background: linear-gradient(to right, #6a11cb, #2575fc); padding: 2px; border-radius: 10px; margin-bottom: 20px;\">\n",
    "  <div style=\"background: white; border-radius: 8px; padding: 15px;\">\n",
    "    <h2 style=\"color: #6a11cb; text-align: center; margin-top: 0;\">⚙️ Optimisation des Hyperparamètres</h2>\n",
    "  </div>\n",
    "</div>\n",
    "\n",
    "<div style=\"display: flex; flex-wrap: wrap; gap: 20px; margin: 25px 0;\">\n",
    "  <!-- Justification -->\n",
    "  <div style=\"flex: 1; min-width: 300px; background-color: #f5f0ff; padding: 20px; border-radius: 10px; box-shadow: 0 4px 6px rgba(0, 0, 0, 0.1); border-left: 5px solid #6a11cb;\">\n",
    "    <div style=\"display: flex; align-items: center; margin-bottom: 15px;\">\n",
    "      <div style=\"background-color: #6a11cb; width: 40px; height: 40px; border-radius: 8px; display: flex; justify-content: center; align-items: center; margin-right: 15px; box-shadow: 0 2px 4px rgba(106, 17, 203, 0.3);\">\n",
    "        <span style=\"color: white; font-size: 20px;\">💡</span>\n",
    "      </div>\n",
    "      <h3 style=\"color: #6a11cb; margin: 0;\">Importance des hyperparamètres</h3>\n",
    "    </div>\n",
    "    <p style=\"margin-top: 0;\">Les hyperparamètres sont des configurations qui contrôlent le comportement des algorithmes d'apprentissage et doivent être définis avant l'entraînement.</p>\n",
    "\n",
    "<div style=\"background-color: #e9e1ff; padding: 15px; border-radius: 8px; margin-top: 15px;\">\n",
    "      <div style=\"display: flex; align-items: flex-start;\">\n",
    "        <span style=\"color: #6a11cb; font-size: 20px; margin-right: 10px; margin-top: 2px;\">⚠️</span>\n",
    "        <p style=\"margin: 0;\">Un mauvais choix d'hyperparamètres peut conduire à un surapprentissage ou un sous-apprentissage, compromettant la performance du modèle.</p>\n",
    "      </div>\n",
    "    </div>\n",
    "  </div>\n",
    "\n",
    "  <!-- Méthode -->\n",
    "  <div style=\"flex: 1; min-width: 300px; background-color: #f0f7ff; padding: 20px; border-radius: 10px; box-shadow: 0 4px 6px rgba(0, 0, 0, 0.1); border-left: 5px solid #2575fc;\">\n",
    "    <div style=\"display: flex; align-items: center; margin-bottom: 15px;\">\n",
    "      <div style=\"background-color: #2575fc; width: 40px; height: 40px; border-radius: 8px; display: flex; justify-content: center; align-items: center; margin-right: 15px; box-shadow: 0 2px 4px rgba(37, 117, 252, 0.3);\">\n",
    "        <span style=\"color: white; font-size: 20px;\">🔄</span>\n",
    "      </div>\n",
    "      <h3 style=\"color: #2575fc; margin: 0;\">Méthode d'optimisation</h3>\n",
    "    </div>\n",
    "    <p style=\"margin-top: 0;\">Nous utilisons <strong style=\"color: #2575fc;\">GridSearchCV</strong> et <strong style=\"color: #2575fc;\">RandomizedSearchCV</strong> pour explorer systématiquement l'espace des hyperparamètres.</p>\n",
    "\n",
    "<div style=\"background-color: #e3f2fd; padding: 15px; border-radius: 8px; margin-top: 15px; font-family: monospace; font-size: 14px;\">\n",
    "      <div style=\"text-align: center; margin-bottom: 10px; color: #2575fc; font-weight: bold;\">Hyperparamètres clés</div>\n",
    "      <div style=\"background-color: white; padding: 10px; border-radius: 5px;\">\n",
    "        <ul style=\"margin: 0; padding-left: 20px;\">\n",
    "          <li><strong>Arbres</strong>: profondeur, échantillons min.</li>\n",
    "          <li><strong>Forêts</strong>: nombre d'arbres, profondeur</li>\n",
    "          <li><strong>Boosting</strong>: taux d'apprentissage, sous-échantillonnage</li>\n",
    "          <li><strong>Réseaux</strong>: architecture, activation, régularisation</li>\n",
    "        </ul>\n",
    "      </div>\n",
    "    </div>\n",
    "  </div>\n",
    "</div>\n",
    "\n",
    "<div style=\"background-color: #f0f0f0; border-radius: 10px; padding: 15px; margin-top: 25px; display: flex; align-items: center; border-left: 5px solid #616161;\">\n",
    "  <div style=\"background-color: #616161; width: 40px; height: 40px; border-radius: 50%; display: flex; justify-content: center; align-items: center; margin-right: 15px;\">\n",
    "    <span style=\"color: white; font-size: 20px;\">✓</span>\n",
    "  </div>\n",
    "  <div>\n",
    "    <p style=\"margin: 0; color: #616161; font-weight: bold;\">Bénéfices de l'optimisation</p>\n",
    "    <ul style=\"margin: 5px 0 0 0; padding-left: 20px; color: #616161;\">\n",
    "      <li>Maximisation de la performance des modèles</li>\n",
    "      <li>Meilleur compromis biais-variance</li>\n",
    "      <li>Adaptation aux spécificités des données</li>\n",
    "      <li>Réduction du risque de surapprentissage</li>\n",
    "    </ul>\n",
    "  </div>\n",
    "</div>"
   ]
  },
  {
   "cell_type": "code",
   "execution_count": 34,
   "id": "0bb31d48-a727-42db-923a-923f08949c94",
   "metadata": {},
   "outputs": [],
   "source": [
    "param_grids = {\n",
    "    'Régression Linéaire': {},\n",
    "    \n",
    "    'Arbre de Décision': {\n",
    "        'regressor__criterion': ['squared_error'],\n",
    "        'regressor__max_depth': [None, 5, 6, 7, 10],\n",
    "        'regressor__min_samples_split': [2, 3, 4, 5, 10]\n",
    "    },\n",
    "    \n",
    "    'Forêt Aléatoire': {\n",
    "        'regressor__n_estimators': [50, 100],\n",
    "        'regressor__criterion': ['squared_error'],\n",
    "        'regressor__max_depth': [None, 10, 15]\n",
    "    },\n",
    "    \n",
    "    'Gradient Boosting': {\n",
    "        'regressor__loss': ['squared_error'],\n",
    "        'regressor__learning_rate': [ 0.1, 0.2],\n",
    "        'regressor__n_estimators': [100, 200],\n",
    "        'regressor__subsample': [ 0.8, 1]\n",
    "    },\n",
    "    \n",
    "    'Réseau de Neurones': {\n",
    "        'regressor__hidden_layer_sizes': [ (100,), (100, 50), (100, 100)],\n",
    "        'regressor__activation': ['relu'],\n",
    "        'regressor__solver': ['adam'],\n",
    "        'regressor__alpha': [0.0001, 0.001, 0.01],\n",
    "        'regressor__learning_rate': [ 'adaptive'],\n",
    "        'regressor__learning_rate_init': [0.001, 0.01],\n",
    "        'regressor__max_iter': [200]\n",
    "\n",
    "    }\n",
    "}"
   ]
  },
  {
   "cell_type": "markdown",
   "id": "07653d7c-a104-4512-a00f-edb2f88e975d",
   "metadata": {},
   "source": [
    "## 5.3 Évaluation des modèles avec validation croisée"
   ]
  },
  {
   "cell_type": "markdown",
   "id": "e1618ea7-6577-4e89-b188-637f7c7179e2",
   "metadata": {},
   "source": [
    "<div style=\"background: linear-gradient(to right, #6a11cb, #2575fc); padding: 2px; border-radius: 10px; margin-bottom: 20px;\">\n",
    "  <div style=\"background: white; border-radius: 8px; padding: 15px;\">\n",
    "    <h2 style=\"color: #6a11cb; text-align: center; margin-top: 0;\">🔍 Prétraitement Intelligent des Données</h2>\n",
    "  </div>\n",
    "</div>\n",
    "\n",
    "<div style=\"display: flex; flex-wrap: wrap; gap: 20px; margin: 25px 0;\">\n",
    "  <!-- Justification -->\n",
    "  <div style=\"flex: 1; min-width: 300px; background-color: #f5f0ff; padding: 20px; border-radius: 10px; box-shadow: 0 4px 6px rgba(0, 0, 0, 0.1); border-left: 5px solid #6a11cb;\">\n",
    "    <div style=\"display: flex; align-items: center; margin-bottom: 15px;\">\n",
    "      <div style=\"background-color: #6a11cb; width: 40px; height: 40px; border-radius: 8px; display: flex; justify-content: center; align-items: center; margin-right: 15px; box-shadow: 0 2px 4px rgba(106, 17, 203, 0.3);\">\n",
    "        <span style=\"color: white; font-size: 20px;\">💡</span>\n",
    "      </div>\n",
    "      <h3 style=\"color: #6a11cb; margin: 0;\">Traitement différencié par type</h3>\n",
    "    </div>\n",
    "    <p style=\"margin-top: 0;\">Chaque type de variable nécessite un traitement spécifique pour préserver sa nature et son information. Notre approche identifie automatiquement les types et applique les transformations appropriées.</p>\n",
    "\n",
    "<div style=\"background-color: #e9e1ff; padding: 15px; border-radius: 8px; margin-top: 15px;\">\n",
    "      <div style=\"display: flex; align-items: flex-start;\">\n",
    "        <span style=\"color: #6a11cb; font-size: 20px; margin-right: 10px; margin-top: 2px;\">⚠️</span>\n",
    "        <p style=\"margin: 0;\">Appliquer un encodage one-hot à des variables ordinales perdrait l'information d'ordre, tandis qu'un encodage ordinal sur des variables nominales créerait une fausse hiérarchie.</p>\n",
    "      </div>\n",
    "    </div>\n",
    "  </div>\n",
    "\n",
    "  <!-- Méthode -->\n",
    "  <div style=\"flex: 1; min-width: 300px; background-color: #f0f7ff; padding: 20px; border-radius: 10px; box-shadow: 0 4px 6px rgba(0, 0, 0, 0.1); border-left: 5px solid #2575fc;\">\n",
    "    <div style=\"display: flex; align-items: center; margin-bottom: 15px;\">\n",
    "      <div style=\"background-color: #2575fc; width: 40px; height: 40px; border-radius: 8px; display: flex; justify-content: center; align-items: center; margin-right: 15px; box-shadow: 0 2px 4px rgba(37, 117, 252, 0.3);\">\n",
    "        <span style=\"color: white; font-size: 20px;\">🔄</span>\n",
    "      </div>\n",
    "      <h3 style=\"color: #2575fc; margin: 0;\">Stratégie de transformation</h3>\n",
    "    </div>\n",
    "    <p style=\"margin-top: 0;\">Notre code implémente trois pipelines de transformation distincts:</p>\n",
    "\n",
    "<div style=\"background-color: #e3f2fd; padding: 15px; border-radius: 8px; margin-top: 15px; font-family: monospace; font-size: 14px;\">\n",
    "      <div style=\"text-align: center; margin-bottom: 10px; color: #2575fc; font-weight: bold;\">Transformations par type</div>\n",
    "      <div style=\"background-color: white; padding: 10px; border-radius: 5px;\">\n",
    "        <ol style=\"margin: 0; padding-left: 20px;\">\n",
    "          <li><strong>Variables numériques</strong>: Imputation médiane + standardisation</li>\n",
    "          <li><strong>Variables ordinales</strong>: Imputation mode + encodage ordinal avec ordre spécifié</li>\n",
    "          <li><strong>Variables nominales</strong>: Imputation mode + encodage one-hot</li>\n",
    "        </ol>\n",
    "      </div>\n",
    "    </div>\n",
    "  </div>\n",
    "</div>\n",
    "\n",
    "<div style=\"background-color: #f0f0f0; border-radius: 10px; padding: 15px; margin-top: 25px; display: flex; align-items: center; border-left: 5px solid #616161;\">\n",
    "  <div style=\"background-color: #616161; width: 40px; height: 40px; border-radius: 50%; display: flex; justify-content: center; align-items: center; margin-right: 15px;\">\n",
    "    <span style=\"color: white; font-size: 20px;\">✓</span>\n",
    "  </div>\n",
    "  <div>\n",
    "    <p style=\"margin: 0; color: #616161; font-weight: bold;\">Détails d'implémentation clés</p>\n",
    "    <ul style=\"margin: 5px 0 0 0; padding-left: 20px; color: #616161;\">\n",
    "      <li><strong>Détection automatique</strong> des types de variables</li>\n",
    "      <li><strong>Ordre explicite</strong> pour les variables éducation et catégorie socioprofessionnelle</li>\n",
    "      <li><strong>Gestion des valeurs inconnues</strong> avec handle_unknown='ignore'</li>\n",
    "      <li><strong>ColumnTransformer</strong> pour assembler tous les transformers en un seul objet</li>\n",
    "    </ul>\n",
    "  </div>\n",
    "</div>"
   ]
  },
  {
   "cell_type": "code",
   "execution_count": 35,
   "id": "f8fc7fa2-9e1e-4214-853d-b1dcb88a722b",
   "metadata": {},
   "outputs": [
    {
     "name": "stdout",
     "output_type": "stream",
     "text": [
      "['age', 'sexe', 'milieu', 'etat_matrimonial', 'region', 'niveau_education', 'categorie_socioprofessionnelle', 'taille_foyer', 'aide_sociale', 'a_acces_credit', 'a_retraite', 'possede_voiture', 'possede_logement', 'possede_terrain', 'annees_experience', 'est_urbain', 'est_marie', 'weight', 'niveau_socioeco']\n"
     ]
    }
   ],
   "source": [
    "print(X_train.columns.tolist())"
   ]
  },
  {
   "cell_type": "code",
   "execution_count": 36,
   "id": "52494448-7494-41a7-9b06-2c633dd88349",
   "metadata": {},
   "outputs": [
    {
     "name": "stdout",
     "output_type": "stream",
     "text": [
      "Analyse des types de colonnes dans X_train...\n",
      "Colonne 'age' - Type: int64\n",
      "Colonne 'sexe' - Type: object\n",
      "Colonne 'milieu' - Type: object\n",
      "Colonne 'etat_matrimonial' - Type: object\n",
      "Colonne 'region' - Type: object\n",
      "Colonne 'niveau_education' - Type: object\n",
      "Colonne 'categorie_socioprofessionnelle' - Type: object\n",
      "Colonne 'taille_foyer' - Type: float64\n",
      "Colonne 'aide_sociale' - Type: int64\n",
      "Colonne 'a_acces_credit' - Type: int64\n",
      "Colonne 'a_retraite' - Type: int64\n",
      "Colonne 'possede_voiture' - Type: float64\n",
      "Colonne 'possede_logement' - Type: float64\n",
      "Colonne 'possede_terrain' - Type: int64\n",
      "Colonne 'annees_experience' - Type: float64\n",
      "Colonne 'est_urbain' - Type: int64\n",
      "Colonne 'est_marie' - Type: int64\n",
      "Colonne 'weight' - Type: float64\n",
      "Colonne 'niveau_socioeco' - Type: float64\n",
      "\n",
      "Colonnes numériques (13): ['age', 'taille_foyer', 'aide_sociale', 'a_acces_credit', 'a_retraite']...\n",
      "Colonnes catégorielles (6): ['sexe', 'milieu', 'etat_matrimonial', 'region', 'niveau_education', 'categorie_socioprofessionnelle']\n",
      "\n",
      "Pipeline de prétraitement créé avec succès.\n"
     ]
    }
   ],
   "source": [
    "from sklearn.preprocessing import OrdinalEncoder\n",
    "# Identifier les types de colonnes\n",
    "print(\"Analyse des types de colonnes dans X_train...\")\n",
    "numeric_cols = []\n",
    "categorical_cols = []\n",
    "\n",
    "for col in X_train.columns:\n",
    "    # Afficher le type de chaque colonne pour le débogage\n",
    "    print(f\"Colonne '{col}' - Type: {X_train[col].dtype}\")\n",
    "    \n",
    "    # Vérifier si la colonne contient des valeurs non numériques\n",
    "    if X_train[col].dtype == 'object' or (\n",
    "        hasattr(X_train[col], 'dtype') and \n",
    "        (pd.api.types.is_categorical_dtype(X_train[col]) or \n",
    "         X_train[col].dtype.name == 'category')\n",
    "    ):\n",
    "        categorical_cols.append(col)\n",
    "    else:\n",
    "        numeric_cols.append(col)\n",
    "\n",
    "print(f\"\\nColonnes numériques ({len(numeric_cols)}): {numeric_cols[:5]}...\")\n",
    "print(f\"Colonnes catégorielles ({len(categorical_cols)}): {categorical_cols}\")\n",
    "\n",
    "# Identifier les variables catégorielles ordinales et nominales\n",
    "ordinal_cols = [col for col in categorical_cols if col in ['niveau_education', 'categorie_socioprofessionnelle']]\n",
    "nominal_cols = [col for col in categorical_cols if col not in ordinal_cols]\n",
    "\n",
    "# Définir l'ordre des catégories\n",
    "education_categories = ['Sans niveau', 'Fondamental', 'Secondaire', 'Supérieur']\n",
    "socio_categories = ['Groupe 6', 'Groupe 5', 'Groupe 4', 'Groupe 3', 'Groupe 2', 'Groupe 1']\n",
    "\n",
    "# Créer les transformers appropriés\n",
    "numeric_transformer = Pipeline(steps=[\n",
    "    ('imputer', SimpleImputer(strategy='median')),\n",
    "    ('scaler', StandardScaler())\n",
    "])\n",
    "\n",
    "# Transformer pour les variables ordinales\n",
    "if ordinal_cols:\n",
    "    ordinal_transformer = Pipeline(steps=[\n",
    "        ('imputer', SimpleImputer(strategy='most_frequent')),\n",
    "        ('encoder', OrdinalEncoder(categories=[education_categories, socio_categories]))\n",
    "    ])\n",
    "\n",
    "# Transformer pour les variables nominales\n",
    "if nominal_cols:\n",
    "    nominal_transformer = Pipeline(steps=[\n",
    "        ('imputer', SimpleImputer(strategy='most_frequent')),\n",
    "        ('encoder', OneHotEncoder(handle_unknown='ignore', sparse_output=False))\n",
    "    ])\n",
    "\n",
    "# Créer le preprocessor avec les transformers appropriés\n",
    "transformers = [('num', numeric_transformer, numeric_cols)]\n",
    "if ordinal_cols:\n",
    "    transformers.append(('ord', ordinal_transformer, ordinal_cols))\n",
    "if nominal_cols:\n",
    "    transformers.append(('nom', nominal_transformer, nominal_cols))\n",
    "\n",
    "preprocessor = ColumnTransformer(transformers=transformers)\n",
    "\n",
    "print(\"\\nPipeline de prétraitement créé avec succès.\")\n"
   ]
  },
  {
   "cell_type": "code",
   "execution_count": 37,
   "id": "b7674b6f-abca-4ede-b118-3f0a2f91366b",
   "metadata": {},
   "outputs": [],
   "source": [
    "results = {}\n",
    "best_models = {}\n",
    "import time"
   ]
  },
  {
   "cell_type": "markdown",
   "id": "7a5f68e2-aa29-4675-9d7b-4129b9432f2d",
   "metadata": {},
   "source": [
    "<div style=\"background-color: #f0f7ff; border-radius: 10px; border-left: 5px solid #2575fc; padding: 15px; margin: 20px 0;\">\n",
    "  <h3 style=\"color: #2575fc; margin-top: 0;\">📈 Régression Linéaire</h3>\n",
    "  <p style=\"margin-bottom: 0;\">\n",
    "    La régression linéaire cherche à minimiser la somme des carrés des résidus entre les valeurs prédites et réelles. Notre processus d'entraînement standardise d'abord les variables numériques et encode les variables catégorielles, puis sélectionne les 15 caractéristiques les plus pertinentes via <code>SelectKBest</code>. Le modèle final établit une équation linéaire où chaque coefficient représente l'impact d'une variable sur le revenu. Sa simplicité permet une interprétation directe des relations entre les variables et le revenu, tout en servant de référence pour évaluer les modèles plus complexes.\n",
    "  </p>\n",
    "</div>"
   ]
  },
  {
   "cell_type": "code",
   "execution_count": 38,
   "id": "9f309d78-f0ba-429c-a043-3b66162f7b7e",
   "metadata": {},
   "outputs": [
    {
     "name": "stdout",
     "output_type": "stream",
     "text": [
      "\n",
      "Ajustement des hyperparamètres pour Régression Linéaire...\n",
      "Performances de Régression Linéaire:\n",
      "  MAE: 10905.66\n",
      "  RMSE: 28563.15\n",
      "  R²: 0.6060\n",
      "  Temps d'exécution: 1.91 secondes\n"
     ]
    }
   ],
   "source": [
    "# ===== Régression Linéaire =====\n",
    "name = 'Régression Linéaire'\n",
    "model = models[name]\n",
    "print(f\"\\nAjustement des hyperparamètres pour {name}...\")\n",
    "start_time = time.time()\n",
    "\n",
    "# Création du pipeline complet avec sélection de caractéristiques\n",
    "pipeline = Pipeline([\n",
    "    ('preprocessor', preprocessor),\n",
    "    ('feature_selection', SelectKBest(f_regression, k=15)),  # Sélectionne les 15 meilleures caractéristiques\n",
    "    ('regressor', model)\n",
    "])\n",
    "\n",
    "# Pour la régression linéaire (pas d'hyperparamètres)\n",
    "best_pipeline = pipeline\n",
    "best_pipeline.fit(X_train, y_train)\n",
    "\n",
    "# Évaluation sur l'ensemble de validation\n",
    "cv = KFold(n_splits=5, shuffle=True, random_state=42)\n",
    "y_pred_cv = cross_val_predict(best_pipeline, X_train, y_train, cv=cv)\n",
    "mae = mean_absolute_error(y_train, y_pred_cv)\n",
    "rmse = np.sqrt(mean_squared_error(y_train, y_pred_cv))\n",
    "r2 = r2_score(y_train, y_pred_cv)\n",
    "\n",
    "# Stockage des résultats\n",
    "results[name] = {\n",
    "    'MAE': mae,\n",
    "    'RMSE': rmse,\n",
    "    'R²': r2,\n",
    "    'Time': time.time() - start_time\n",
    "}\n",
    "best_models[name] = best_pipeline\n",
    "\n",
    "print(f\"Performances de {name}:\")\n",
    "print(f\"  MAE: {mae:.2f}\")\n",
    "print(f\"  RMSE: {rmse:.2f}\")\n",
    "print(f\"  R²: {r2:.4f}\")\n",
    "print(f\"  Temps d'exécution: {results[name]['Time']:.2f} secondes\")"
   ]
  },
  {
   "cell_type": "markdown",
   "id": "c22319a2-4524-41a5-b7cd-8e35a6512a10",
   "metadata": {},
   "source": [
    "<div style=\"background-color: #fff0f7; border-radius: 10px; border-left: 5px solid #fc2575; padding: 15px; margin: 20px 0;\">\n",
    "  <h3 style=\"color: #fc2575; margin-top: 0;\">🌳 Arbre de Décision</h3>\n",
    "  <p style=\"margin-bottom: 0;\">\n",
    "    L'arbre de décision divise récursivement les données selon des règles binaires pour créer des segments homogènes. Notre processus optimise la profondeur maximale, le nombre minimal d'échantillons par feuille et la stratégie de division via <code>GridSearchCV</code>. Après prétraitement et sélection des caractéristiques, l'algorithme identifie automatiquement les seuils optimaux pour chaque variable. Ce modèle capture naturellement les relations non-linéaires et les interactions entre variables, produisant des règles de décision facilement interprétables sous forme d'arborescence. Sa capacité à modéliser des relations complexes sans transformation préalable en fait un outil puissant pour notre analyse.\n",
    "  </p>\n",
    "</div>"
   ]
  },
  {
   "cell_type": "code",
   "execution_count": 39,
   "id": "e425cd3e-831e-41f6-848d-2f36ed4d2e95",
   "metadata": {},
   "outputs": [
    {
     "name": "stdout",
     "output_type": "stream",
     "text": [
      "\n",
      "Ajustement des hyperparamètres pour Arbre de Décision...\n",
      "Fitting 5 folds for each of 25 candidates, totalling 125 fits\n",
      "Meilleurs paramètres: {'regressor__criterion': 'squared_error', 'regressor__max_depth': 10, 'regressor__min_samples_split': 10}\n",
      "Performances de Arbre de Décision:\n",
      "  MAE: 4252.14\n",
      "  RMSE: 19664.59\n",
      "  R²: 0.8133\n",
      "  Temps d'exécution: 45.52 secondes\n"
     ]
    }
   ],
   "source": [
    "# ===== Arbre de Décision =====\n",
    "name = 'Arbre de Décision'\n",
    "model = models[name]\n",
    "print(f\"\\nAjustement des hyperparamètres pour {name}...\")\n",
    "start_time = time.time()\n",
    "\n",
    "# Création du pipeline complet avec sélection de caractéristiques\n",
    "pipeline = Pipeline([\n",
    "    ('preprocessor', preprocessor),\n",
    "    ('feature_selection', SelectKBest(f_regression, k=15)),  # Sélectionne les 15 meilleures caractéristiques\n",
    "    ('regressor', model)\n",
    "])\n",
    "\n",
    "# Si le modèle a des hyperparamètres à ajuster\n",
    "if param_grids[name]:\n",
    "    # Utiliser GridSearchCV pour les autres modèles\n",
    "    search = GridSearchCV(\n",
    "        pipeline, param_grids[name], \n",
    "        cv=5, scoring='neg_mean_squared_error', \n",
    "        n_jobs=-1,\n",
    "        verbose=2 \n",
    "    )\n",
    "    \n",
    "    # Entraînement du modèle\n",
    "    search.fit(X_train, y_train)\n",
    "    best_pipeline = search.best_estimator_\n",
    "    best_params = search.best_params_\n",
    "    print(f\"Meilleurs paramètres: {best_params}\")\n",
    "\n",
    "# Évaluation sur l'ensemble de validation\n",
    "cv = KFold(n_splits=5, shuffle=True, random_state=42)\n",
    "y_pred_cv = cross_val_predict(best_pipeline, X_train, y_train, cv=cv)\n",
    "mae = mean_absolute_error(y_train, y_pred_cv)\n",
    "rmse = np.sqrt(mean_squared_error(y_train, y_pred_cv))\n",
    "r2 = r2_score(y_train, y_pred_cv)\n",
    "\n",
    "# Stockage des résultats\n",
    "results[name] = {\n",
    "    'MAE': mae,\n",
    "    'RMSE': rmse,\n",
    "    'R²': r2,\n",
    "    'Time': time.time() - start_time\n",
    "}\n",
    "best_models[name] = best_pipeline\n",
    "\n",
    "print(f\"Performances de {name}:\")\n",
    "print(f\"  MAE: {mae:.2f}\")\n",
    "print(f\"  RMSE: {rmse:.2f}\")\n",
    "print(f\"  R²: {r2:.4f}\")\n",
    "print(f\"  Temps d'exécution: {results[name]['Time']:.2f} secondes\")"
   ]
  },
  {
   "cell_type": "markdown",
   "id": "786f30af-e927-4d09-9e6e-3e6f0537a6e6",
   "metadata": {},
   "source": [
    "<div style=\"background-color: #f0fff7; border-radius: 10px; border-left: 5px solid #25fc75; padding: 15px; margin: 20px 0;\">\n",
    "  <h3 style=\"color: #25fc75; margin-top: 0;\">🌲 Forêt Aléatoire</h3>\n",
    "  <p style=\"margin-bottom: 0;\">\n",
    "    La forêt aléatoire combine plusieurs arbres de décision entraînés sur des sous-ensembles aléatoires de données et de caractéristiques. Notre processus optimise le nombre d'arbres, leur profondeur et le nombre de caractéristiques considérées à chaque division via <code>RandomizedSearchCV</code>. Cette approche d'ensemble réduit le risque de surapprentissage tout en conservant la capacité à capturer des relations complexes. Le modèle final agrège les prédictions de tous les arbres, produisant des estimations plus stables et robustes que celles d'un arbre unique. Cette méthode excelle particulièrement avec nos données socio-économiques hétérogènes, offrant un bon compromis entre précision et généralisation.\n",
    "  </p>\n",
    "</div>"
   ]
  },
  {
   "cell_type": "code",
   "execution_count": 40,
   "id": "14f9bb9a-08a1-4fa0-aa85-2a5e7e28996f",
   "metadata": {},
   "outputs": [
    {
     "name": "stdout",
     "output_type": "stream",
     "text": [
      "\n",
      "Ajustement des hyperparamètres pour Forêt Aléatoire...\n",
      "Fitting 5 folds for each of 6 candidates, totalling 30 fits\n",
      "Meilleurs paramètres: {'regressor__criterion': 'squared_error', 'regressor__max_depth': 15, 'regressor__n_estimators': 100}\n",
      "Performances de Forêt Aléatoire:\n",
      "  MAE: 3579.55\n",
      "  RMSE: 17230.05\n",
      "  R²: 0.8566\n",
      "  Temps d'exécution: 187.97 secondes\n"
     ]
    }
   ],
   "source": [
    "# ===== Forêt Aléatoire =====\n",
    "name = 'Forêt Aléatoire'\n",
    "model = models[name]\n",
    "print(f\"\\nAjustement des hyperparamètres pour {name}...\")\n",
    "start_time = time.time()\n",
    "\n",
    "# Création du pipeline complet avec sélection de caractéristiques\n",
    "pipeline = Pipeline([\n",
    "    ('preprocessor', preprocessor),\n",
    "    ('feature_selection', SelectKBest(f_regression, k=15)),  # Sélectionne les 15 meilleures caractéristiques\n",
    "    ('regressor', model)\n",
    "])\n",
    "\n",
    "# Si le modèle a des hyperparamètres à ajuster\n",
    "if param_grids[name]:\n",
    "    # Utiliser GridSearchCV pour les autres modèles\n",
    "    search = GridSearchCV(\n",
    "        pipeline, param_grids[name], \n",
    "        cv=5, scoring='neg_mean_squared_error', \n",
    "        n_jobs=-1,\n",
    "        verbose=2 \n",
    "    )\n",
    "    \n",
    "    # Entraînement du modèle\n",
    "    search.fit(X_train, y_train)\n",
    "    best_pipeline = search.best_estimator_\n",
    "    best_params = search.best_params_\n",
    "    print(f\"Meilleurs paramètres: {best_params}\")\n",
    "\n",
    "# Évaluation sur l'ensemble de validation\n",
    "cv = KFold(n_splits=5, shuffle=True, random_state=42)\n",
    "y_pred_cv = cross_val_predict(best_pipeline, X_train, y_train, cv=cv)\n",
    "mae = mean_absolute_error(y_train, y_pred_cv)\n",
    "rmse = np.sqrt(mean_squared_error(y_train, y_pred_cv))\n",
    "r2 = r2_score(y_train, y_pred_cv)\n",
    "\n",
    "# Stockage des résultats\n",
    "results[name] = {\n",
    "    'MAE': mae,\n",
    "    'RMSE': rmse,\n",
    "    'R²': r2,\n",
    "    'Time': time.time() - start_time\n",
    "}\n",
    "best_models[name] = best_pipeline\n",
    "\n",
    "print(f\"Performances de {name}:\")\n",
    "print(f\"  MAE: {mae:.2f}\")\n",
    "print(f\"  RMSE: {rmse:.2f}\")\n",
    "print(f\"  R²: {r2:.4f}\")\n",
    "print(f\"  Temps d'exécution: {results[name]['Time']:.2f} secondes\")"
   ]
  },
  {
   "cell_type": "markdown",
   "id": "fce96168-3483-4eca-b37c-5bcbea97efc5",
   "metadata": {},
   "source": [
    "<div style=\"background-color: #fff7f0; border-radius: 10px; border-left: 5px solid #fc7525; padding: 15px; margin: 20px 0;\">\n",
    "  <h3 style=\"color: #fc7525; margin-top: 0;\">🚀 Gradient Boosting</h3>\n",
    "  <p style=\"margin-bottom: 0;\">\n",
    "    Le Gradient Boosting construit séquentiellement des arbres de décision, chacun corrigeant les erreurs du précédent. Notre processus optimise le taux d'apprentissage, la profondeur des arbres et le nombre d'estimateurs via <code>GridSearchCV</code>. Après prétraitement et sélection des caractéristiques, l'algorithme entraîne progressivement des modèles faibles qui, ensemble, forment un prédicteur puissant. Cette approche séquentielle permet de se concentrer sur les cas difficiles à prédire, améliorant progressivement la performance. Le Gradient Boosting excelle généralement dans les problèmes de régression complexes comme notre prédiction de revenu, offrant souvent le meilleur équilibre entre biais et variance parmi nos modèles.\n",
    "  </p>\n",
    "</div>"
   ]
  },
  {
   "cell_type": "code",
   "execution_count": 41,
   "id": "c654f937-ed5a-4cb5-80d0-1d0331269c8d",
   "metadata": {
    "scrolled": true
   },
   "outputs": [
    {
     "name": "stdout",
     "output_type": "stream",
     "text": [
      "\n",
      "Ajustement des hyperparamètres pour Gradient Boosting...\n",
      "Fitting 5 folds for each of 8 candidates, totalling 40 fits\n",
      "Meilleurs paramètres: {'regressor__subsample': 0.8, 'regressor__n_estimators': 200, 'regressor__loss': 'squared_error', 'regressor__learning_rate': 0.2}\n",
      "Performances de Gradient Boosting:\n",
      "  MAE: 5352.57\n",
      "  RMSE: 18970.86\n",
      "  R²: 0.8262\n",
      "  Temps d'exécution: 117.97 secondes\n"
     ]
    }
   ],
   "source": [
    "# ===== Gradient Boosting =====\n",
    "name = 'Gradient Boosting'\n",
    "model = models[name]\n",
    "print(f\"\\nAjustement des hyperparamètres pour {name}...\")\n",
    "start_time = time.time()\n",
    "\n",
    "# Création du pipeline complet avec sélection de caractéristiques\n",
    "pipeline = Pipeline([\n",
    "    ('preprocessor', preprocessor),\n",
    "    ('feature_selection', SelectKBest(f_regression, k=15)),  # Sélectionne les 15 meilleures caractéristiques\n",
    "    ('regressor', model)\n",
    "])\n",
    "\n",
    "# Si le modèle a des hyperparamètres à ajuster\n",
    "if param_grids[name]:\n",
    "    # Utiliser RandomizedSearchCV pour les modèles avec beaucoup d'hyperparamètres\n",
    "    search = RandomizedSearchCV(\n",
    "        pipeline, param_grids[name], n_iter=10, \n",
    "        cv=5, scoring='neg_mean_squared_error', \n",
    "        random_state=42, n_jobs=-1,\n",
    "        verbose=2\n",
    "    )\n",
    "    \n",
    "    # Entraînement du modèle\n",
    "    search.fit(X_train, y_train)\n",
    "    best_pipeline = search.best_estimator_\n",
    "    best_params = search.best_params_\n",
    "    print(f\"Meilleurs paramètres: {best_params}\")\n",
    "\n",
    "# Évaluation sur l'ensemble de validation\n",
    "cv = KFold(n_splits=5, shuffle=True, random_state=42)\n",
    "y_pred_cv = cross_val_predict(best_pipeline, X_train, y_train, cv=cv)\n",
    "mae = mean_absolute_error(y_train, y_pred_cv)\n",
    "rmse = np.sqrt(mean_squared_error(y_train, y_pred_cv))\n",
    "r2 = r2_score(y_train, y_pred_cv)\n",
    "\n",
    "# Stockage des résultats\n",
    "results[name] = {\n",
    "    'MAE': mae,\n",
    "    'RMSE': rmse,\n",
    "    'R²': r2,\n",
    "    'Time': time.time() - start_time\n",
    "}\n",
    "best_models[name] = best_pipeline\n",
    "\n",
    "print(f\"Performances de {name}:\")\n",
    "print(f\"  MAE: {mae:.2f}\")\n",
    "print(f\"  RMSE: {rmse:.2f}\")\n",
    "print(f\"  R²: {r2:.4f}\")\n",
    "print(f\"  Temps d'exécution: {results[name]['Time']:.2f} secondes\")"
   ]
  },
  {
   "cell_type": "markdown",
   "id": "68905664-7900-416a-b407-5c13fcae3880",
   "metadata": {},
   "source": [
    "<div style=\"background-color: #f7f0ff; border-radius: 10px; border-left: 5px solid #7525fc; padding: 15px; margin: 20px 0;\">\n",
    "  <h3 style=\"color: #7525fc; margin-top: 0;\">🧠 Réseau de Neurones</h3>\n",
    "  <p style=\"margin-bottom: 0;\">\n",
    "    Le réseau de neurones MLP modélise des relations hautement non-linéaires via des couches de neurones interconnectés. Notre processus optimise l'architecture du réseau (nombre de couches et de neurones), les fonctions d'activation et les paramètres de régularisation via <code>RandomizedSearchCV</code>. Après standardisation des données et sélection des caractéristiques, l'algorithme ajuste les poids synaptiques par rétropropagation du gradient d'erreur. Ce modèle peut capturer des patterns complexes et subtils dans nos données socio-économiques, mais nécessite davantage de données pour généraliser efficacement. Avec un maximum de 300 itérations, nous équilibrons la convergence et le temps de calcul pour obtenir un modèle performant sans surapprentissage excessif.\n",
    "  </p>\n",
    "</div>"
   ]
  },
  {
   "cell_type": "code",
   "execution_count": 42,
   "id": "71bc1f87-7eb4-4afa-a43f-8c896b650c41",
   "metadata": {},
   "outputs": [
    {
     "name": "stdout",
     "output_type": "stream",
     "text": [
      "\n",
      "Ajustement des hyperparamètres pour Réseau de Neurones...\n",
      "Fitting 5 folds for each of 10 candidates, totalling 50 fits\n",
      "Meilleurs paramètres: {'regressor__solver': 'adam', 'regressor__max_iter': 200, 'regressor__learning_rate_init': 0.01, 'regressor__learning_rate': 'adaptive', 'regressor__hidden_layer_sizes': (100,), 'regressor__alpha': 0.01, 'regressor__activation': 'relu'}\n",
      "Performances de Réseau de Neurones:\n",
      "  MAE: 8592.90\n",
      "  RMSE: 26153.30\n",
      "  R²: 0.6697\n",
      "  Temps d'exécution: 792.69 secondes\n"
     ]
    }
   ],
   "source": [
    "# ===== Réseau de Neurones =====\n",
    "name = 'Réseau de Neurones'\n",
    "model = models[name]\n",
    "print(f\"\\nAjustement des hyperparamètres pour {name}...\")\n",
    "start_time = time.time()\n",
    "\n",
    "# Création du pipeline complet avec sélection de caractéristiques\n",
    "pipeline = Pipeline([\n",
    "    ('preprocessor', preprocessor),\n",
    "    ('feature_selection', SelectKBest(f_regression, k=15)),  # Sélectionne les 15 meilleures caractéristiques\n",
    "    ('regressor', model)\n",
    "])\n",
    "\n",
    "# Si le modèle a des hyperparamètres à ajuster\n",
    "if param_grids[name]:\n",
    "    # Utiliser RandomizedSearchCV pour les modèles avec beaucoup d'hyperparamètres\n",
    "    search = RandomizedSearchCV(\n",
    "        pipeline, param_grids[name], n_iter=10, \n",
    "        cv=5, scoring='neg_mean_squared_error', \n",
    "        random_state=42, n_jobs=-1,\n",
    "        verbose=2\n",
    "    )\n",
    "    \n",
    "    # Entraînement du modèle\n",
    "    search.fit(X_train, y_train)\n",
    "    best_pipeline = search.best_estimator_\n",
    "    best_params = search.best_params_\n",
    "    print(f\"Meilleurs paramètres: {best_params}\")\n",
    "\n",
    "# Évaluation sur l'ensemble de validation\n",
    "cv = KFold(n_splits=5, shuffle=True, random_state=42)\n",
    "y_pred_cv = cross_val_predict(best_pipeline, X_train, y_train, cv=cv)\n",
    "mae = mean_absolute_error(y_train, y_pred_cv)\n",
    "rmse = np.sqrt(mean_squared_error(y_train, y_pred_cv))\n",
    "r2 = r2_score(y_train, y_pred_cv)\n",
    "\n",
    "# Stockage des résultats\n",
    "results[name] = {\n",
    "    'MAE': mae,\n",
    "    'RMSE': rmse,\n",
    "    'R²': r2,\n",
    "    'Time': time.time() - start_time\n",
    "}\n",
    "best_models[name] = best_pipeline\n",
    "\n",
    "print(f\"Performances de {name}:\")\n",
    "print(f\"  MAE: {mae:.2f}\")\n",
    "print(f\"  RMSE: {rmse:.2f}\")\n",
    "print(f\"  R²: {r2:.4f}\")\n",
    "print(f\"  Temps d'exécution: {results[name]['Time']:.2f} secondes\")"
   ]
  },
  {
   "cell_type": "markdown",
   "id": "b44fe62a-a788-4d53-b9ba-dc9e42a956ed",
   "metadata": {},
   "source": [
    "<div style=\"background-color: #f0f7ff; border-radius: 10px; border-left: 5px solid #2575fc; padding: 15px; margin: 20px 0;\">\n",
    "  <h3 style=\"color: #2575fc; margin-top: 0;\">🏆 Comparaison et Sélection du Meilleur Modèle</h3>\n",
    "  <p style=\"margin-bottom: 0;\">\n",
    "    Notre processus de sélection du meilleur modèle repose sur une comparaison systématique des performances selon trois métriques complémentaires: MAE, RMSE et R². Nous appliquons une hiérarchie de critères en privilégiant d'abord le RMSE minimal (pour pénaliser les erreurs importantes), puis le MAE minimal (pour l'erreur moyenne absolue), et enfin le R² maximal (pour la variance expliquée). Cette approche multi-critères nous permet d'identifier objectivement le modèle offrant le meilleur compromis entre précision globale et robustesse face aux valeurs extrêmes. Le temps d'exécution est également mesuré pour évaluer l'efficacité computationnelle, un facteur important pour le déploiement. Cette méthodologie rigoureuse garantit la sélection du modèle le plus adapté à notre objectif de prédiction précise des revenus dans le contexte socio-économique marocain.\n",
    "  </p>\n",
    "</div>"
   ]
  },
  {
   "cell_type": "code",
   "execution_count": 43,
   "id": "431a4ead-da72-4b97-ba58-bb670690783b",
   "metadata": {},
   "outputs": [
    {
     "name": "stdout",
     "output_type": "stream",
     "text": [
      "\n",
      "Comparaison finale des modèles:\n",
      "\n",
      "Régression Linéaire:\n",
      "  MAE: 10905.66\n",
      "  RMSE: 28563.15\n",
      "  R²: 0.6060\n",
      "  Temps: 1.91s\n",
      "\n",
      "Arbre de Décision:\n",
      "  MAE: 4252.14\n",
      "  RMSE: 19664.59\n",
      "  R²: 0.8133\n",
      "  Temps: 45.52s\n",
      "\n",
      "Forêt Aléatoire:\n",
      "  MAE: 3579.55\n",
      "  RMSE: 17230.05\n",
      "  R²: 0.8566\n",
      "  Temps: 187.97s\n",
      "\n",
      "Gradient Boosting:\n",
      "  MAE: 5352.57\n",
      "  RMSE: 18970.86\n",
      "  R²: 0.8262\n",
      "  Temps: 117.97s\n",
      "\n",
      "Réseau de Neurones:\n",
      "  MAE: 8592.90\n",
      "  RMSE: 26153.30\n",
      "  R²: 0.6697\n",
      "  Temps: 792.69s\n",
      "\n",
      " Le meilleur modèle est *Forêt Aléatoire* selon la priorité : RMSE (min), puis MAE (min), puis R² (max).\n",
      "\n",
      "Comparaison finale des modèles:\n",
      "\n",
      "Régression Linéaire:\n",
      "  MAE: 10905.66\n",
      "  RMSE: 28563.15\n",
      "  R²: 0.6060\n",
      "  Temps: 1.91s\n",
      "\n",
      "Arbre de Décision:\n",
      "  MAE: 4252.14\n",
      "  RMSE: 19664.59\n",
      "  R²: 0.8133\n",
      "  Temps: 45.52s\n",
      "\n",
      "Forêt Aléatoire:\n",
      "  MAE: 3579.55\n",
      "  RMSE: 17230.05\n",
      "  R²: 0.8566\n",
      "  Temps: 187.97s\n",
      "\n",
      "Gradient Boosting:\n",
      "  MAE: 5352.57\n",
      "  RMSE: 18970.86\n",
      "  R²: 0.8262\n",
      "  Temps: 117.97s\n",
      "\n",
      "Réseau de Neurones:\n",
      "  MAE: 8592.90\n",
      "  RMSE: 26153.30\n",
      "  R²: 0.6697\n",
      "  Temps: 792.69s\n",
      "\n",
      " Le meilleur modèle est *Forêt Aléatoire* selon la priorité : RMSE (min), puis MAE (min), puis R² (max).\n"
     ]
    }
   ],
   "source": [
    "# ===== Comparaison des modèles =====\n",
    "print(\"\\nComparaison finale des modèles:\")\n",
    "for name, metrics in results.items():\n",
    "    print(f\"\\n{name}:\")\n",
    "    print(f\"  MAE: {metrics['MAE']:.2f}\")\n",
    "    print(f\"  RMSE: {metrics['RMSE']:.2f}\")\n",
    "    print(f\"  R²: {metrics['R²']:.4f}\")\n",
    "    print(f\"  Temps: {metrics['Time']:.2f}s\")\n",
    "\n",
    "# Convertir le dictionnaire en liste triable\n",
    "model_scores = [\n",
    "    (name, metrics[\"MAE\"], metrics[\"RMSE\"], metrics[\"R²\"])\n",
    "    for name, metrics in results.items()\n",
    "]\n",
    "\n",
    "# Trier selon RMSE croissant, puis MAE croissant, puis R² décroissant\n",
    "model_scores_sorted = sorted(model_scores, key=lambda x: (x[2], x[1], -x[3]))\n",
    "\n",
    "# Sélection du meilleur modèle\n",
    "best_model_name = model_scores_sorted[0][0]\n",
    "print(f\"\\n Le meilleur modèle est *{best_model_name}* selon la priorité : RMSE (min), puis MAE (min), puis R² (max).\")\n",
    "# ===== Comparaison des modèles =====\n",
    "print(\"\\nComparaison finale des modèles:\")\n",
    "for name, metrics in results.items():\n",
    "    print(f\"\\n{name}:\")\n",
    "    print(f\"  MAE: {metrics['MAE']:.2f}\")\n",
    "    print(f\"  RMSE: {metrics['RMSE']:.2f}\")\n",
    "    print(f\"  R²: {metrics['R²']:.4f}\")\n",
    "    print(f\"  Temps: {metrics['Time']:.2f}s\")\n",
    "\n",
    "# Convertir le dictionnaire en liste triable\n",
    "model_scores = [\n",
    "    (name, metrics[\"MAE\"], metrics[\"RMSE\"], metrics[\"R²\"])\n",
    "    for name, metrics in results.items()\n",
    "]\n",
    "\n",
    "# Trier selon RMSE croissant, puis MAE croissant, puis R² décroissant\n",
    "model_scores_sorted = sorted(model_scores, key=lambda x: (x[2], x[1], -x[3]))\n",
    "\n",
    "# Sélection du meilleur modèle\n",
    "best_model_name = model_scores_sorted[0][0]\n",
    "print(f\"\\n Le meilleur modèle est *{best_model_name}* selon la priorité : RMSE (min), puis MAE (min), puis R² (max).\")"
   ]
  },
  {
   "cell_type": "markdown",
   "id": "3d8e2bb0-6219-4aab-80b9-661008c054d4",
   "metadata": {},
   "source": [
    "## 5.4 Comparaison des performances des modèles"
   ]
  },
  {
   "cell_type": "markdown",
   "id": "9664b37b-2342-4727-b3f0-6c155b3aef4e",
   "metadata": {},
   "source": [
    "<div style=\"background: linear-gradient(to right, #6a11cb, #2575fc); padding: 2px; border-radius: 10px; margin-bottom: 20px;\">\n",
    "  <div style=\"background: white; border-radius: 8px; padding: 15px;\">\n",
    "    <h2 style=\"color: #6a11cb; text-align: center; margin-top: 0;\">📊 Évaluation des Modèles</h2>\n",
    "  </div>\n",
    "</div>\n",
    "\n",
    "<div style=\"display: flex; flex-wrap: wrap; gap: 20px; margin: 25px 0;\">\n",
    "  <!-- Justification -->\n",
    "  <div style=\"flex: 1; min-width: 300px; background-color: #f5f0ff; padding: 20px; border-radius: 10px; box-shadow: 0 4px 6px rgba(0, 0, 0, 0.1); border-left: 5px solid #6a11cb;\">\n",
    "    <div style=\"display: flex; align-items: center; margin-bottom: 15px;\">\n",
    "      <div style=\"background-color: #6a11cb; width: 40px; height: 40px; border-radius: 8px; display: flex; justify-content: center; align-items: center; margin-right: 15px; box-shadow: 0 2px 4px rgba(106, 17, 203, 0.3);\">\n",
    "        <span style=\"color: white; font-size: 20px;\">💡</span>\n",
    "      </div>\n",
    "      <h3 style=\"color: #6a11cb; margin: 0;\">Validation croisée</h3>\n",
    "    </div>\n",
    "    <p style=\"margin-top: 0;\">La validation croisée à 5 plis divise les données d'entraînement en 5 parties, utilisant chacune comme ensemble de validation à tour de rôle.</p>\n",
    "\n",
    "<div style=\"background-color: #e9e1ff; padding: 15px; border-radius: 8px; margin-top: 15px;\">\n",
    "      <div style=\"display: flex; align-items: flex-start;\">\n",
    "        <span style=\"color: #6a11cb; font-size: 20px; margin-right: 10px; margin-top: 2px;\">⚠️</span>\n",
    "        <p style=\"margin: 0;\">Une évaluation sur un seul split train/test pourrait être biaisée par la composition spécifique de l'échantillon de validation.</p>\n",
    "      </div>\n",
    "    </div>\n",
    "  </div>\n",
    "\n",
    "  <!-- Méthode -->\n",
    "  <div style=\"flex: 1; min-width: 300px; background-color: #f0f7ff; padding: 20px; border-radius: 10px; box-shadow: 0 4px 6px rgba(0, 0, 0, 0.1); border-left: 5px solid #2575fc;\">\n",
    "    <div style=\"display: flex; align-items: center; margin-bottom: 15px;\">\n",
    "      <div style=\"background-color: #2575fc; width: 40px; height: 40px; border-radius: 8px; display: flex; justify-content: center; align-items: center; margin-right: 15px; box-shadow: 0 2px 4px rgba(37, 117, 252, 0.3);\">\n",
    "        <span style=\"color: white; font-size: 20px;\">🔄</span>\n",
    "      </div>\n",
    "      <h3 style=\"color: #2575fc; margin: 0;\">Métriques d'évaluation</h3>\n",
    "    </div>\n",
    "    <p style=\"margin-top: 0;\">Nous utilisons trois métriques complémentaires pour évaluer les performances des modèles:</p>\n",
    "\n",
    "<div style=\"background-color: #e3f2fd; padding: 15px; border-radius: 8px; margin-top: 15px; font-family: monospace; font-size: 14px;\">\n",
    "      <div style=\"text-align: center; margin-bottom: 10px; color: #2575fc; font-weight: bold;\">Métriques utilisées</div>\n",
    "      <div style=\"background-color: white; padding: 10px; border-radius: 5px;\">\n",
    "        <ul style=\"margin: 0; padding-left: 20px;\">\n",
    "          <li><strong>MAE</strong>: Erreur absolue moyenne (DH)</li>\n",
    "          <li><strong>RMSE</strong>: Racine de l'erreur quadratique moyenne (DH)</li>\n",
    "          <li><strong>R²</strong>: Coefficient de détermination (0-1)</li>\n",
    "        </ul>\n",
    "      </div>\n",
    "    </div>\n",
    "  </div>\n",
    "</div>\n",
    "\n",
    "<div style=\"background-color: #f0f0f0; border-radius: 10px; padding: 15px; margin-top: 25px; display: flex; align-items: center; border-left: 5px solid #616161;\">\n",
    "  <div style=\"background-color: #616161; width: 40px; height: 40px; border-radius: 50%; display: flex; justify-content: center; align-items: center; margin-right: 15px;\">\n",
    "    <span style=\"color: white; font-size: 20px;\">✓</span>\n",
    "  </div>\n",
    "  <div>\n",
    "    <p style=\"margin: 0; color: #616161; font-weight: bold;\">Complémentarité des métriques</p>\n",
    "    <ul style=\"margin: 5px 0 0 0; padding-left: 20px; color: #616161;\">\n",
    "      <li><strong>MAE</strong>: Robuste aux valeurs aberrantes, interprétable</li>\n",
    "      <li><strong>RMSE</strong>: Pénalise davantage les erreurs importantes</li>\n",
    "      <li><strong>R²</strong>: Indépendant de l'échelle, facilite la comparaison</li>\n",
    "    </ul>\n",
    "  </div>\n",
    "</div>"
   ]
  },
  {
   "cell_type": "code",
   "execution_count": 44,
   "id": "b8570bff-41cb-435f-aefd-1a8bef1258b6",
   "metadata": {},
   "outputs": [
    {
     "name": "stdout",
     "output_type": "stream",
     "text": [
      "\n",
      "Comparaison des performances des modèles:\n",
      "                              MAE          RMSE        R²        Time\n",
      "Régression Linéaire  10905.664238  28563.145541  0.606007    1.911389\n",
      "Arbre de Décision     4252.140481  19664.590053  0.813256   45.515290\n",
      "Forêt Aléatoire       3579.549616  17230.045325  0.856633  187.967246\n",
      "Gradient Boosting     5352.571962  18970.857908  0.826200  117.968263\n",
      "Réseau de Neurones    8592.903645  26153.295677  0.669684  792.691313\n"
     ]
    }
   ],
   "source": [
    "print(\"\\nComparaison des performances des modèles:\")\n",
    "results_df = pd.DataFrame(results).T\n",
    "print(results_df)"
   ]
  },
  {
   "cell_type": "code",
   "execution_count": 56,
   "id": "c8692e1b-618c-4edd-8a96-d2d6f4aa121d",
   "metadata": {},
   "outputs": [
    {
     "data": {
      "text/plain": [
       "<Figure size 800x200 with 0 Axes>"
      ]
     },
     "metadata": {},
     "output_type": "display_data"
    },
    {
     "data": {
      "image/png": "[encoded data removed]",
      "text/plain": [
       "<Figure size 1200x800 with 1 Axes>"
      ]
     },
     "metadata": {},
     "output_type": "display_data"
    }
   ],
   "source": [
    "plt.figure(figsize=(8, 2))\n",
    "results_df[['MAE', 'RMSE']].plot(kind='bar')\n",
    "plt.title('Comparaison des métriques d\\'erreur par modèle')\n",
    "plt.ylabel('Erreur')\n",
    "plt.xticks(rotation=45)\n",
    "plt.tight_layout()\n",
    "plt.show()"
   ]
  },
  {
   "cell_type": "code",
   "execution_count": 57,
   "id": "3c04b63d-8fb3-401a-9679-bd96021e53ce",
   "metadata": {},
   "outputs": [
    {
     "data": {
      "image/png": "[encoded data removed]",
      "text/plain": [
       "<Figure size 800x600 with 1 Axes>"
      ]
     },
     "metadata": {},
     "output_type": "display_data"
    }
   ],
   "source": [
    "plt.figure(figsize=(8, 6))\n",
    "results_df['R²'].plot(kind='bar', color='green')\n",
    "plt.title('Comparaison du R² par modèle')\n",
    "plt.ylabel('R²')\n",
    "plt.xticks(rotation=45)\n",
    "plt.tight_layout()\n",
    "plt.show()"
   ]
  },
  {
   "cell_type": "markdown",
   "id": "2f623c41-4178-473c-b689-8c5da2ff718f",
   "metadata": {},
   "source": [
    "### Identification du meilleur modèle"
   ]
  },
  {
   "cell_type": "code",
   "execution_count": 47,
   "id": "7bf342ae-2657-4a9a-8681-c90676a1aa99",
   "metadata": {},
   "outputs": [
    {
     "name": "stdout",
     "output_type": "stream",
     "text": [
      "\n",
      "Meilleur modèle: Forêt Aléatoire avec R² = 0.8566\n"
     ]
    }
   ],
   "source": [
    "best_model_name = results_df['R²'].idxmax()\n",
    "best_model = best_models[best_model_name]\n",
    "print(f\"\\nMeilleur modèle: {best_model_name} avec R² = {results_df.loc[best_model_name, 'R²']:.4f}\")"
   ]
  },
  {
   "cell_type": "markdown",
   "id": "644546d4-2902-4da9-8132-68aca140a459",
   "metadata": {},
   "source": [
    "# 6. Test du modèle final"
   ]
  },
  {
   "cell_type": "markdown",
   "id": "fbb1adad-d451-4159-9d7a-28117d9fc8d4",
   "metadata": {},
   "source": [
    "<div style=\"background: linear-gradient(to right, #6a11cb, #2575fc); padding: 2px; border-radius: 10px; margin-bottom: 20px;\">\n",
    "  <div style=\"background: white; border-radius: 8px; padding: 15px;\">\n",
    "    <h2 style=\"color: #6a11cb; text-align: center; margin-top: 0;\">🏆 Test du Modèle Final</h2>\n",
    "  </div>\n",
    "</div>\n",
    "\n",
    "<div style=\"display: flex; flex-wrap: wrap; gap: 20px; margin: 25px 0;\">\n",
    "  <!-- Justification -->\n",
    "  <div style=\"flex: 1; min-width: 300px; background-color: #f5f0ff; padding: 20px; border-radius: 10px; box-shadow: 0 4px 6px rgba(0, 0, 0, 0.1); border-left: 5px solid #6a11cb;\">\n",
    "    <div style=\"display: flex; align-items: center; margin-bottom: 15px;\">\n",
    "      <div style=\"background-color: #6a11cb; width: 40px; height: 40px; border-radius: 8px; display: flex; justify-content: center; align-items: center; margin-right: 15px; box-shadow: 0 2px 4px rgba(106, 17, 203, 0.3);\">\n",
    "        <span style=\"color: white; font-size: 20px;\">💡</span>\n",
    "      </div>\n",
    "      <h3 style=\"color: #6a11cb; margin: 0;\">Importance de l'évaluation finale</h3>\n",
    "    </div>\n",
    "    <p style=\"margin-top: 0;\">L'évaluation sur l'ensemble de test fournit une estimation non biaisée de la performance du modèle sur des données nouvelles.</p>\n",
    "\n",
    "<div style=\"background-color: #e9e1ff; padding: 15px; border-radius: 8px; margin-top: 15px;\">\n",
    "      <div style=\"display: flex; align-items: flex-start;\">\n",
    "        <span style=\"color: #6a11cb; font-size: 20px; margin-right: 10px; margin-top: 2px;\">⚠️</span>\n",
    "        <p style=\"margin: 0;\">Les données de test n'ont jamais été vues pendant l'entraînement ou l'optimisation des hyperparamètres, garantissant une évaluation objective.</p>\n",
    "      </div>\n",
    "    </div>\n",
    "  </div>\n",
    "\n",
    "  <!-- Méthode -->\n",
    "  <div style=\"flex: 1; min-width: 300px; background-color: #f0f7ff; padding: 20px; border-radius: 10px; box-shadow: 0 4px 6px rgba(0, 0, 0, 0.1); border-left: 5px solid #2575fc;\">\n",
    "    <div style=\"display: flex; align-items: center; margin-bottom: 15px;\">\n",
    "      <div style=\"background-color: #2575fc; width: 40px; height: 40px; border-radius: 8px; display: flex; justify-content: center; align-items: center; margin-right: 15px; box-shadow: 0 2px 4px rgba(37, 117, 252, 0.3);\">\n",
    "        <span style=\"color: white; font-size: 20px;\">🔄</span>\n",
    "      </div>\n",
    "      <h3 style=\"color: #2575fc; margin: 0;\">Analyse des résultats</h3>\n",
    "    </div>\n",
    "    <p style=\"margin-top: 0;\">Nous évaluons le modèle final à travers:</p>\n",
    "\n",
    "<div style=\"background-color: #e3f2fd; padding: 15px; border-radius: 8px; margin-top: 15px; font-family: monospace; font-size: 14px;\">\n",
    "      <div style=\"text-align: center; margin-bottom: 10px; color: #2575fc; font-weight: bold;\">Éléments d'analyse</div>\n",
    "      <div style=\"background-color: white; padding: 10px; border-radius: 5px;\">\n",
    "        <ol style=\"margin: 0; padding-left: 20px;\">\n",
    "          <li><strong>Métriques quantitatives</strong>: MAE, RMSE, R²</li>\n",
    "          <li><strong>Visualisation prédictions/réalité</strong>: Dispersion</li>\n",
    "          <li><strong>Analyse des résidus</strong>: Patterns et biais</li>\n",
    "        </ol>\n",
    "      </div>\n",
    "    </div>\n",
    "  </div>\n",
    "</div>\n",
    "\n",
    "<div style=\"background-color: #f0f0f0; border-radius: 10px; padding: 15px; margin-top: 25px; display: flex; align-items: center; border-left: 5px solid #616161;\">\n",
    "  <div style=\"background-color: #616161; width: 40px; height: 40px; border-radius: 50%; display: flex; justify-content: center; align-items: center; margin-right: 15px;\">\n",
    "    <span style=\"color: white; font-size: 20px;\">✓</span>\n",
    "  </div>\n",
    "  <div>\n",
    "    <p style=\"margin: 0; color: #616161; font-weight: bold;\">Interprétation des visualisations</p>\n",
    "    <ul style=\"margin: 5px 0 0 0; padding-left: 20px; color: #616161;\">\n",
    "      <li><strong>Graphique de dispersion</strong>: Points proches de la diagonale = prédictions précises</li>\n",
    "      <li><strong>Résidus vs prédictions</strong>: Distribution aléatoire autour de zéro = modèle bien calibré</li>\n",
    "      <li><strong>Patterns dans les résidus</strong>: Indiquent des relations non capturées</li>\n",
    "    </ul>\n",
    "  </div>\n",
    "</div>"
   ]
  },
  {
   "cell_type": "code",
   "execution_count": 48,
   "id": "d362f2fc-5721-46e5-827e-3a95b7e0595a",
   "metadata": {},
   "outputs": [],
   "source": [
    "# Prédictions sur l'ensemble de test\n",
    "y_pred_final = best_model.predict(X_test)"
   ]
  },
  {
   "cell_type": "markdown",
   "id": "93758405-598b-4e58-9011-13994616d3e2",
   "metadata": {},
   "source": [
    "### Calcul des métriques finales"
   ]
  },
  {
   "cell_type": "code",
   "execution_count": 49,
   "id": "edde6a21-62f2-40aa-9a91-261f37f948b3",
   "metadata": {},
   "outputs": [],
   "source": [
    "mae_final = mean_absolute_error(y_test, y_pred_final)\n",
    "rmse_final = np.sqrt(mean_squared_error(y_test, y_pred_final))\n",
    "r2_final = r2_score(y_test, y_pred_final)"
   ]
  },
  {
   "cell_type": "markdown",
   "id": "c4afb669-1145-460c-8af9-de8c95fc1449",
   "metadata": {},
   "source": [
    "# 7. Sauvegarde du modèle"
   ]
  },
  {
   "cell_type": "code",
   "execution_count": 50,
   "id": "3526ca95-f9db-4e59-946b-f6f06f4e43b6",
   "metadata": {},
   "outputs": [
    {
     "name": "stdout",
     "output_type": "stream",
     "text": [
      "Performances finales du modèle Forêt Aléatoire:\n",
      "  MAE: 3425.15\n",
      "  RMSE: 16050.43\n",
      "  R²: 0.8692\n"
     ]
    }
   ],
   "source": [
    "print(f\"Performances finales du modèle {best_model_name}:\")\n",
    "print(f\"  MAE: {mae_final:.2f}\")\n",
    "print(f\"  RMSE: {rmse_final:.2f}\")\n",
    "print(f\"  R²: {r2_final:.4f}\")"
   ]
  },
  {
   "cell_type": "code",
   "execution_count": 51,
   "id": "c237e7ad-963d-4b8c-aeb4-70241f3731ed",
   "metadata": {},
   "outputs": [
    {
     "name": "stdout",
     "output_type": "stream",
     "text": [
      "Modèle sauvegardé avec succès dans 'modele_selection.joblib'\n"
     ]
    }
   ],
   "source": [
    "joblib.dump(best_model, 'modele_selection.joblib')\n",
    "print(\"Modèle sauvegardé avec succès dans 'modele_selection.joblib'\")"
   ]
  },
  {
   "cell_type": "markdown",
   "id": "a8101381-1eed-406b-aa7f-1f31317dd2cf",
   "metadata": {},
   "source": [
    "## 8. Visualisation des prédictions vs valeurs réelles"
   ]
  },
  {
   "cell_type": "markdown",
   "id": "eb5ec307-0b4e-4b19-b549-400157510f32",
   "metadata": {},
   "source": [
    "<div style=\"background: linear-gradient(to right, #6a11cb, #2575fc); padding: 2px; border-radius: 10px; margin-bottom: 20px;\">\n",
    "  <div style=\"background: white; border-radius: 8px; padding: 15px;\">\n",
    "    <h2 style=\"color: #6a11cb; text-align: center; margin-top: 0;\">📈 Visualisation et Interprétation</h2>\n",
    "  </div>\n",
    "</div>\n",
    "\n",
    "<div style=\"display: flex; flex-wrap: wrap; gap: 20px; margin: 25px 0;\">\n",
    "  <!-- Justification -->\n",
    "  <div style=\"flex: 1; min-width: 300px; background-color: #f5f0ff; padding: 20px; border-radius: 10px; box-shadow: 0 4px 6px rgba(0, 0, 0, 0.1); border-left: 5px solid #6a11cb;\">\n",
    "    <div style=\"display: flex; align-items: center; margin-bottom: 15px;\">\n",
    "      <div style=\"background-color: #6a11cb; width: 40px; height: 40px; border-radius: 8px; display: flex; justify-content: center; align-items: center; margin-right: 15px; box-shadow: 0 2px 4px rgba(106, 17, 203, 0.3);\">\n",
    "        <span style=\"color: white; font-size: 20px;\">💡</span>\n",
    "      </div>\n",
    "      <h3 style=\"color: #6a11cb; margin: 0;\">Importance des visualisations</h3>\n",
    "    </div>\n",
    "    <p style=\"margin-top: 0;\">Les visualisations permettent de détecter des patterns que les métriques agrégées pourraient masquer.</p>\n",
    "\n",
    "<div style=\"background-color: #e9e1ff; padding: 15px; border-radius: 8px; margin-top: 15px;\">\n",
    "      <div style=\"display: flex; align-items: flex-start;\">\n",
    "        <span style=\"color: #6a11cb; font-size: 20px; margin-right: 10px; margin-top: 2px;\">⚠️</span>\n",
    "        <p style=\"margin: 0;\">Un modèle peut avoir de bonnes métriques globales tout en présentant des biais systématiques pour certaines tranches de données.</p>\n",
    "      </div>\n",
    "    </div>\n",
    "  </div>\n",
    "\n",
    "  <!-- Méthode -->\n",
    "  <div style=\"flex: 1; min-width: 300px; background-color: #f0f7ff; padding: 20px; border-radius: 10px; box-shadow: 0 4px 6px rgba(0, 0, 0, 0.1); border-left: 5px solid #2575fc;\">\n",
    "    <div style=\"display: flex; align-items: center; margin-bottom: 15px;\">\n",
    "      <div style=\"background-color: #2575fc; width: 40px; height: 40px; border-radius: 8px; display: flex; justify-content: center; align-items: center; margin-right: 15px; box-shadow: 0 2px 4px rgba(37, 117, 252, 0.3);\">\n",
    "        <span style=\"color: white; font-size: 20px;\">🔄</span>\n",
    "      </div>\n",
    "      <h3 style=\"color: #2575fc; margin: 0;\">Analyse des résidus</h3>\n",
    "    </div>\n",
    "    <p style=\"margin-top: 0;\">L'analyse des résidus (différences entre valeurs réelles et prédites) révèle:</p>\n",
    "\n",
    "<div style=\"background-color: #e3f2fd; padding: 15px; border-radius: 8px; margin-top: 15px; font-family: monospace; font-size: 14px;\">\n",
    "      <div style=\"text-align: center; margin-bottom: 10px; color: #2575fc; font-weight: bold;\">Patterns à rechercher</div>\n",
    "      <div style=\"background-color: white; padding: 10px; border-radius: 5px;\">\n",
    "        <ul style=\"margin: 0; padding-left: 20px;\">\n",
    "          <li><strong>Biais systématiques</strong>: Résidus majoritairement positifs/négatifs</li>\n",
    "          <li><strong>Hétéroscédasticité</strong>: Variance des résidus qui augmente</li>\n",
    "          <li><strong>Non-linéarités</strong>: Patterns en forme de courbe</li>\n",
    "        </ul>\n",
    "      </div>\n",
    "    </div>\n",
    "  </div>\n",
    "</div>\n",
    "\n",
    "<div style=\"background-color: #f0f0f0; border-radius: 10px; padding: 15px; margin-top: 25px; display: flex; align-items: center; border-left: 5px solid #616161;\">\n",
    "  <div style=\"background-color: #616161; width: 40px; height: 40px; border-radius: 50%; display: flex; justify-content: center; align-items: center; margin-right: 15px;\">\n",
    "    <span style=\"color: white; font-size: 20px;\">✓</span>\n",
    "  </div>\n",
    "  <div>\n",
    "    <p style=\"margin: 0; color: #616161; font-weight: bold;\">Interprétation idéale</p>\n",
    "    <ul style=\"margin: 5px 0 0 0; padding-left: 20px; color: #616161;\">\n",
    "      <li>Points uniformément répartis autour de la diagonale dans le graphique de dispersion</li>\n",
    "      <li>Résidus aléatoirement distribués autour de zéro sans pattern visible</li>\n",
    "      <li>Variance des résidus constante quelle que soit la valeur prédite</li>\n",
    "      <li>Absence de clusters ou de zones vides dans les graphiques</li>\n",
    "    </ul>\n",
    "  </div>\n",
    "</div>"
   ]
  },
  {
   "cell_type": "code",
   "execution_count": 52,
   "id": "ba531b56-2ac5-430a-9623-21edc13785a5",
   "metadata": {},
   "outputs": [
    {
     "data": {
      "image/png": "[encoded data removed]",
      "text/plain": [
       "<Figure size 1000x600 with 1 Axes>"
      ]
     },
     "metadata": {},
     "output_type": "display_data"
    }
   ],
   "source": [
    "plt.figure(figsize=(10, 6))\n",
    "plt.scatter(y_test, y_pred_final, alpha=0.5)\n",
    "plt.plot([y_test.min(), y_test.max()], [y_test.min(), y_test.max()], 'r--')\n",
    "plt.xlabel('Revenu réel (DH)')\n",
    "plt.ylabel('Revenu prédit (DH)')\n",
    "plt.title(f'Prédictions vs Valeurs réelles ({best_model_name})')\n",
    "plt.tight_layout()\n",
    "plt.show()"
   ]
  },
  {
   "cell_type": "markdown",
   "id": "3c05fca7-1449-48d4-a9be-b21ab113d944",
   "metadata": {},
   "source": [
    "## 9. Analyse des résidus"
   ]
  },
  {
   "cell_type": "code",
   "execution_count": 53,
   "id": "89d0221e-ae6c-4917-8449-b254b60607e5",
   "metadata": {},
   "outputs": [
    {
     "data": {
      "image/png": "[encoded data removed]",
      "text/plain": [
       "<Figure size 1000x600 with 1 Axes>"
      ]
     },
     "metadata": {},
     "output_type": "display_data"
    }
   ],
   "source": [
    "residus = y_test - y_pred_final\n",
    "plt.figure(figsize=(10, 6))\n",
    "plt.scatter(y_pred_final, residus, alpha=0.5)\n",
    "plt.axhline(y=0, color='r', linestyle='--')\n",
    "plt.xlabel('Prédictions')\n",
    "plt.ylabel('Résidus')\n",
    "plt.title('Analyse des résidus')\n",
    "plt.tight_layout()\n",
    "plt.show()"
   ]
  },
  {
   "cell_type": "markdown",
   "id": "3b8cb87c-6f7b-4fac-958f-d428ca2ace28",
   "metadata": {},
   "source": [
    "<div style=\"background: linear-gradient(to right, #6a11cb, #2575fc); padding: 2px; border-radius: 10px; margin-bottom: 20px;\">\n",
    "  <div style=\"background: white; border-radius: 8px; padding: 15px;\">\n",
    "    <h2 style=\"color: #6a11cb; text-align: center; margin-top: 0;\">🎯 Conclusion et Perspectives</h2>\n",
    "  </div>\n",
    "</div>\n",
    "\n",
    "<div style=\"display: flex; flex-wrap: wrap; gap: 20px; margin: 25px 0;\">\n",
    "  <!-- Points forts -->\n",
    "  <div style=\"flex: 1; min-width: 300px; background-color: #f5f0ff; padding: 20px; border-radius: 10px; box-shadow: 0 4px 6px rgba(0, 0, 0, 0.1); border-left: 5px solid #6a11cb;\">\n",
    "    <div style=\"display: flex; align-items: center; margin-bottom: 15px;\">\n",
    "      <div style=\"background-color: #6a11cb; width: 40px; height: 40px; border-radius: 8px; display: flex; justify-content: center; align-items: center; margin-right: 15px; box-shadow: 0 2px 4px rgba(106, 17, 203, 0.3);\">\n",
    "        <span style=\"color: white; font-size: 20px;\">💪</span>\n",
    "      </div>\n",
    "      <h3 style=\"color: #6a11cb; margin: 0;\">Points forts de notre approche</h3>\n",
    "    </div>\n",
    "    <ul style=\"margin-top: 10px; padding-left: 20px;\">\n",
    "      <li><strong>Méthodologie rigoureuse</strong>: Du nettoyage à l'évaluation finale</li>\n",
    "      <li><strong>Prétraitement adapté</strong>: Traitement spécifique par type de variable</li>\n",
    "      <li><strong>Comparaison multi-modèles</strong>: Identification du meilleur algorithme</li>\n",
    "      <li><strong>Optimisation systématique</strong>: Recherche exhaustive des hyperparamètres</li>\n",
    "      <li><strong>Évaluation robuste</strong>: Validation croisée et ensemble de test séparé</li>\n",
    "    </ul>\n",
    "  </div>\n",
    "\n",
    "  <!-- Améliorations -->\n",
    "  <div style=\"flex: 1; min-width: 300px; background-color: #f0f7ff; padding: 20px; border-radius: 10px; box-shadow: 0 4px 6px rgba(0, 0, 0, 0.1); border-left: 5px solid #2575fc;\">\n",
    "    <div style=\"display: flex; align-items: center; margin-bottom: 15px;\">\n",
    "      <div style=\"background-color: #2575fc; width: 40px; height: 40px; border-radius: 8px; display: flex; justify-content: center; align-items: center; margin-right: 15px; box-shadow: 0 2px 4px rgba(37, 117, 252, 0.3);\">\n",
    "        <span style=\"color: white; font-size: 20px;\">🚀</span>\n",
    "      </div>\n",
    "      <h3 style=\"color: #2575fc; margin: 0;\">Améliorations possibles</h3>\n",
    "    </div>\n",
    "    <ul style=\"margin-top: 10px; padding-left: 20px;\">\n",
    "      <li><strong>Transformation logarithmique</strong>: Pour normaliser la distribution du revenu</li>\n",
    "      <li><strong>Features d'interaction</strong>: Capturer les effets combinés des variables</li>\n",
    "      <li><strong>Modèles avancés</strong>: Explorer XGBoost ou LightGBM</li>\n",
    "      <li><strong>Analyse par segments</strong>: Modèles spécifiques par sous-population</li>\n",
    "      <li><strong>Interprétabilité</strong>: Techniques SHAP pour expliquer les prédictions</li>\n",
    "    </ul>\n",
    "  </div>\n",
    "</div>\n",
    "\n",
    "<div style=\"background-color: #f0f0f0; border-radius: 10px; padding: 15px; margin-top: 25px; display: flex; align-items: center; border-left: 5px solid #616161;\">\n",
    "  <div style=\"background-color: #616161; width: 40px; height: 40px; border-radius: 50%; display: flex; justify-content: center; align-items: center; margin-right: 15px;\">\n",
    "    <span style=\"color: white; font-size: 20px;\">🌍</span>\n",
    "  </div>\n",
    "  <div>\n",
    "    <p style=\"margin: 0; color: #616161; font-weight: bold;\">Applications potentielles</p>\n",
    "    <ul style=\"margin: 5px 0 0 0; padding-left: 20px; color: #616161;\">\n",
    "      <li><strong>Politiques publiques</strong>: Évaluer l'impact de mesures économiques ou éducatives</li>\n",
    "      <li><strong>Inclusion financière</strong>: Estimer les revenus pour l'accès au crédit</li>\n",
    "      <li><strong>Études socio-économiques</strong>: Analyser les déterminants du revenu</li>\n",
    "      <li><strong>Planification urbaine</strong>: Comprendre la distribution spatiale des revenus</li>\n",
    "    </ul>\n",
    "  </div>\n",
    "</div>"
   ]
  }
 ],
 "metadata": {
  "kernelspec": {
   "display_name": "Python 3 (ipykernel)",
   "language": "python",
   "name": "python3"
  },
  "language_info": {
   "codemirror_mode": {
    "name": "ipython",
    "version": 3
   },
   "file_extension": ".py",
   "mimetype": "text/x-python",
   "name": "python",
   "nbconvert_exporter": "python",
   "pygments_lexer": "ipython3",
   "version": "3.12.7"
  }
 },
 "nbformat": 4,
 "nbformat_minor": 5
}
